{
 "cells": [
  {
   "cell_type": "code",
   "execution_count": 1,
   "id": "4e74c5f8",
   "metadata": {},
   "outputs": [],
   "source": [
    "import numpy as np\n",
    "import pandas as pd\n",
    "import matplotlib.pyplot as plt\n",
    "import seaborn as sns\n",
    "%matplotlib inline"
   ]
  },
  {
   "cell_type": "code",
   "execution_count": 2,
   "id": "9fbb8f9d",
   "metadata": {},
   "outputs": [],
   "source": [
    "df = pd.read_csv('Used_Bikes.csv')"
   ]
  },
  {
   "cell_type": "code",
   "execution_count": 3,
   "id": "2aa16107",
   "metadata": {},
   "outputs": [
    {
     "name": "stdout",
     "output_type": "stream",
     "text": [
      "<class 'pandas.core.frame.DataFrame'>\n",
      "RangeIndex: 32648 entries, 0 to 32647\n",
      "Data columns (total 8 columns):\n",
      " #   Column      Non-Null Count  Dtype  \n",
      "---  ------      --------------  -----  \n",
      " 0   bike_name   32648 non-null  object \n",
      " 1   price       32648 non-null  float64\n",
      " 2   city        32648 non-null  object \n",
      " 3   kms_driven  32648 non-null  float64\n",
      " 4   owner       32648 non-null  object \n",
      " 5   age         32648 non-null  float64\n",
      " 6   power       32648 non-null  float64\n",
      " 7   brand       32648 non-null  object \n",
      "dtypes: float64(4), object(4)\n",
      "memory usage: 2.0+ MB\n"
     ]
    }
   ],
   "source": [
    "df.info()"
   ]
  },
  {
   "cell_type": "code",
   "execution_count": 4,
   "id": "d8229d8f",
   "metadata": {},
   "outputs": [
    {
     "data": {
      "text/html": [
       "<div>\n",
       "<style scoped>\n",
       "    .dataframe tbody tr th:only-of-type {\n",
       "        vertical-align: middle;\n",
       "    }\n",
       "\n",
       "    .dataframe tbody tr th {\n",
       "        vertical-align: top;\n",
       "    }\n",
       "\n",
       "    .dataframe thead th {\n",
       "        text-align: right;\n",
       "    }\n",
       "</style>\n",
       "<table border=\"1\" class=\"dataframe\">\n",
       "  <thead>\n",
       "    <tr style=\"text-align: right;\">\n",
       "      <th></th>\n",
       "      <th>count</th>\n",
       "      <th>mean</th>\n",
       "      <th>std</th>\n",
       "      <th>min</th>\n",
       "      <th>25%</th>\n",
       "      <th>50%</th>\n",
       "      <th>75%</th>\n",
       "      <th>max</th>\n",
       "    </tr>\n",
       "  </thead>\n",
       "  <tbody>\n",
       "    <tr>\n",
       "      <th>price</th>\n",
       "      <td>32648.0</td>\n",
       "      <td>68295.417637</td>\n",
       "      <td>90718.595205</td>\n",
       "      <td>4400.0</td>\n",
       "      <td>25000.0</td>\n",
       "      <td>43000.0</td>\n",
       "      <td>80000.0</td>\n",
       "      <td>1900000.0</td>\n",
       "    </tr>\n",
       "    <tr>\n",
       "      <th>kms_driven</th>\n",
       "      <td>32648.0</td>\n",
       "      <td>26344.625184</td>\n",
       "      <td>22208.527695</td>\n",
       "      <td>1.0</td>\n",
       "      <td>12000.0</td>\n",
       "      <td>20373.0</td>\n",
       "      <td>35000.0</td>\n",
       "      <td>750000.0</td>\n",
       "    </tr>\n",
       "    <tr>\n",
       "      <th>age</th>\n",
       "      <td>32648.0</td>\n",
       "      <td>8.048211</td>\n",
       "      <td>4.031700</td>\n",
       "      <td>1.0</td>\n",
       "      <td>5.0</td>\n",
       "      <td>7.0</td>\n",
       "      <td>10.0</td>\n",
       "      <td>63.0</td>\n",
       "    </tr>\n",
       "    <tr>\n",
       "      <th>power</th>\n",
       "      <td>32648.0</td>\n",
       "      <td>213.511302</td>\n",
       "      <td>134.428868</td>\n",
       "      <td>100.0</td>\n",
       "      <td>150.0</td>\n",
       "      <td>150.0</td>\n",
       "      <td>220.0</td>\n",
       "      <td>1800.0</td>\n",
       "    </tr>\n",
       "  </tbody>\n",
       "</table>\n",
       "</div>"
      ],
      "text/plain": [
       "              count          mean           std     min      25%      50%  \\\n",
       "price       32648.0  68295.417637  90718.595205  4400.0  25000.0  43000.0   \n",
       "kms_driven  32648.0  26344.625184  22208.527695     1.0  12000.0  20373.0   \n",
       "age         32648.0      8.048211      4.031700     1.0      5.0      7.0   \n",
       "power       32648.0    213.511302    134.428868   100.0    150.0    150.0   \n",
       "\n",
       "                75%        max  \n",
       "price       80000.0  1900000.0  \n",
       "kms_driven  35000.0   750000.0  \n",
       "age            10.0       63.0  \n",
       "power         220.0     1800.0  "
      ]
     },
     "execution_count": 4,
     "metadata": {},
     "output_type": "execute_result"
    }
   ],
   "source": [
    "df.describe().transpose()"
   ]
  },
  {
   "cell_type": "markdown",
   "id": "13512c82",
   "metadata": {},
   "source": [
    "## Unique Values In Categorical Data"
   ]
  },
  {
   "cell_type": "code",
   "execution_count": 5,
   "id": "434c3a7c",
   "metadata": {},
   "outputs": [
    {
     "name": "stdout",
     "output_type": "stream",
     "text": [
      "4\n",
      "443\n",
      "23\n"
     ]
    }
   ],
   "source": [
    "print(df['owner'].nunique())\n",
    "print(df['city'].nunique())\n",
    "print(df['brand'].nunique())"
   ]
  },
  {
   "cell_type": "markdown",
   "id": "405c0e4d",
   "metadata": {},
   "source": [
    "## Null Value Checking And Removal"
   ]
  },
  {
   "cell_type": "code",
   "execution_count": 6,
   "id": "6a973996",
   "metadata": {},
   "outputs": [
    {
     "data": {
      "text/plain": [
       "bike_name     0\n",
       "price         0\n",
       "city          0\n",
       "kms_driven    0\n",
       "owner         0\n",
       "age           0\n",
       "power         0\n",
       "brand         0\n",
       "dtype: int64"
      ]
     },
     "execution_count": 6,
     "metadata": {},
     "output_type": "execute_result"
    }
   ],
   "source": [
    "(df.isnull()).sum()"
   ]
  },
  {
   "cell_type": "markdown",
   "id": "d1086ccd",
   "metadata": {},
   "source": [
    "#### There are no null values present in this dataset"
   ]
  },
  {
   "cell_type": "markdown",
   "id": "5931927d",
   "metadata": {},
   "source": [
    "## Checking the Correlation of Various Features with Price"
   ]
  },
  {
   "cell_type": "code",
   "execution_count": 7,
   "id": "c6090de4",
   "metadata": {},
   "outputs": [
    {
     "data": {
      "text/plain": [
       "<AxesSubplot:>"
      ]
     },
     "execution_count": 7,
     "metadata": {},
     "output_type": "execute_result"
    },
    {
     "data": {
      "image/png": "[encoded data removed]",
      "text/plain": [
       "<Figure size 1440x576 with 2 Axes>"
      ]
     },
     "metadata": {
      "needs_background": "light"
     },
     "output_type": "display_data"
    }
   ],
   "source": [
    "df_corr = df.corr()\n",
    "plt.figure(figsize=(20,8))\n",
    "sns.heatmap(df_corr , annot=True)"
   ]
  },
  {
   "cell_type": "code",
   "execution_count": 8,
   "id": "e7f2a9dd",
   "metadata": {},
   "outputs": [
    {
     "data": {
      "text/plain": [
       "price         1.000000\n",
       "power         0.862376\n",
       "kms_driven   -0.313955\n",
       "age          -0.399133\n",
       "Name: price, dtype: float64"
      ]
     },
     "execution_count": 8,
     "metadata": {},
     "output_type": "execute_result"
    }
   ],
   "source": [
    "df_corr['price'].sort_values(ascending=False)"
   ]
  },
  {
   "cell_type": "markdown",
   "id": "94b9333b",
   "metadata": {},
   "source": [
    "#### All columns are well correlated with the price column , so none are removed"
   ]
  },
  {
   "cell_type": "code",
   "execution_count": 9,
   "id": "e4fc3843",
   "metadata": {},
   "outputs": [
    {
     "data": {
      "text/html": [
       "<div>\n",
       "<style scoped>\n",
       "    .dataframe tbody tr th:only-of-type {\n",
       "        vertical-align: middle;\n",
       "    }\n",
       "\n",
       "    .dataframe tbody tr th {\n",
       "        vertical-align: top;\n",
       "    }\n",
       "\n",
       "    .dataframe thead th {\n",
       "        text-align: right;\n",
       "    }\n",
       "</style>\n",
       "<table border=\"1\" class=\"dataframe\">\n",
       "  <thead>\n",
       "    <tr style=\"text-align: right;\">\n",
       "      <th></th>\n",
       "      <th>bike_name</th>\n",
       "      <th>price</th>\n",
       "      <th>city</th>\n",
       "      <th>kms_driven</th>\n",
       "      <th>owner</th>\n",
       "      <th>age</th>\n",
       "      <th>power</th>\n",
       "      <th>brand</th>\n",
       "    </tr>\n",
       "  </thead>\n",
       "  <tbody>\n",
       "    <tr>\n",
       "      <th>0</th>\n",
       "      <td>TVS Star City Plus Dual Tone 110cc</td>\n",
       "      <td>35000.0</td>\n",
       "      <td>Ahmedabad</td>\n",
       "      <td>17654.0</td>\n",
       "      <td>First Owner</td>\n",
       "      <td>3.0</td>\n",
       "      <td>110.0</td>\n",
       "      <td>TVS</td>\n",
       "    </tr>\n",
       "    <tr>\n",
       "      <th>1</th>\n",
       "      <td>Royal Enfield Classic 350cc</td>\n",
       "      <td>119900.0</td>\n",
       "      <td>Delhi</td>\n",
       "      <td>11000.0</td>\n",
       "      <td>First Owner</td>\n",
       "      <td>4.0</td>\n",
       "      <td>350.0</td>\n",
       "      <td>Royal Enfield</td>\n",
       "    </tr>\n",
       "    <tr>\n",
       "      <th>2</th>\n",
       "      <td>Triumph Daytona 675R</td>\n",
       "      <td>600000.0</td>\n",
       "      <td>Delhi</td>\n",
       "      <td>110.0</td>\n",
       "      <td>First Owner</td>\n",
       "      <td>8.0</td>\n",
       "      <td>675.0</td>\n",
       "      <td>Triumph</td>\n",
       "    </tr>\n",
       "    <tr>\n",
       "      <th>3</th>\n",
       "      <td>TVS Apache RTR 180cc</td>\n",
       "      <td>65000.0</td>\n",
       "      <td>Bangalore</td>\n",
       "      <td>16329.0</td>\n",
       "      <td>First Owner</td>\n",
       "      <td>4.0</td>\n",
       "      <td>180.0</td>\n",
       "      <td>TVS</td>\n",
       "    </tr>\n",
       "    <tr>\n",
       "      <th>4</th>\n",
       "      <td>Yamaha FZ S V 2.0 150cc-Ltd. Edition</td>\n",
       "      <td>80000.0</td>\n",
       "      <td>Bangalore</td>\n",
       "      <td>10000.0</td>\n",
       "      <td>First Owner</td>\n",
       "      <td>3.0</td>\n",
       "      <td>150.0</td>\n",
       "      <td>Yamaha</td>\n",
       "    </tr>\n",
       "  </tbody>\n",
       "</table>\n",
       "</div>"
      ],
      "text/plain": [
       "                              bike_name     price       city  kms_driven  \\\n",
       "0    TVS Star City Plus Dual Tone 110cc   35000.0  Ahmedabad     17654.0   \n",
       "1           Royal Enfield Classic 350cc  119900.0      Delhi     11000.0   \n",
       "2                  Triumph Daytona 675R  600000.0      Delhi       110.0   \n",
       "3                  TVS Apache RTR 180cc   65000.0  Bangalore     16329.0   \n",
       "4  Yamaha FZ S V 2.0 150cc-Ltd. Edition   80000.0  Bangalore     10000.0   \n",
       "\n",
       "         owner  age  power          brand  \n",
       "0  First Owner  3.0  110.0            TVS  \n",
       "1  First Owner  4.0  350.0  Royal Enfield  \n",
       "2  First Owner  8.0  675.0        Triumph  \n",
       "3  First Owner  4.0  180.0            TVS  \n",
       "4  First Owner  3.0  150.0         Yamaha  "
      ]
     },
     "execution_count": 9,
     "metadata": {},
     "output_type": "execute_result"
    }
   ],
   "source": [
    "df.head()"
   ]
  },
  {
   "cell_type": "code",
   "execution_count": 10,
   "id": "2cc0cb62",
   "metadata": {},
   "outputs": [
    {
     "data": {
      "text/plain": [
       "Bajaj Pulsar 150cc                                   2776\n",
       "Bajaj Avenger Street 220                             2531\n",
       "Bajaj Avenger 220cc                                  2060\n",
       "Royal Enfield Classic 350cc                          1673\n",
       "Hero Passion Pro 100cc                               1432\n",
       "                                                     ... \n",
       "Indian Chief Classic 1800cc                             1\n",
       "TVS Apache RTR 160cc White Race Edition Rear Disc       1\n",
       "Triumph Bonneville T100 900cc                           1\n",
       "Bajaj CT110 ES Alloy                                    1\n",
       "Yamaha FZS FI 150cc Special Edition                     1\n",
       "Name: bike_name, Length: 471, dtype: int64"
      ]
     },
     "execution_count": 10,
     "metadata": {},
     "output_type": "execute_result"
    }
   ],
   "source": [
    "name = df['bike_name'].value_counts()\n",
    "name"
   ]
  },
  {
   "cell_type": "markdown",
   "id": "2b8942b4",
   "metadata": {},
   "source": [
    "## Converting Features Into Lowercase"
   ]
  },
  {
   "cell_type": "code",
   "execution_count": 11,
   "id": "95f54b38",
   "metadata": {},
   "outputs": [],
   "source": [
    "df['bike_name'] = df['bike_name'].str.strip()\n",
    "df['bike_name'] = df['bike_name'].str.lower()\n",
    "\n",
    "df['brand'] = df['brand'].str.strip()\n",
    "df['brand'] = df['brand'].str.lower()\n",
    "\n",
    "df['city'] = df['city'].str.strip()\n",
    "df['city'] = df['city'].str.lower()\n",
    "\n",
    "df['owner'] = df['owner'].str.strip()\n",
    "df['owner'] = df['owner'].str.lower()"
   ]
  },
  {
   "cell_type": "code",
   "execution_count": 12,
   "id": "0ee222dc",
   "metadata": {},
   "outputs": [
    {
     "data": {
      "text/html": [
       "<div>\n",
       "<style scoped>\n",
       "    .dataframe tbody tr th:only-of-type {\n",
       "        vertical-align: middle;\n",
       "    }\n",
       "\n",
       "    .dataframe tbody tr th {\n",
       "        vertical-align: top;\n",
       "    }\n",
       "\n",
       "    .dataframe thead th {\n",
       "        text-align: right;\n",
       "    }\n",
       "</style>\n",
       "<table border=\"1\" class=\"dataframe\">\n",
       "  <thead>\n",
       "    <tr style=\"text-align: right;\">\n",
       "      <th></th>\n",
       "      <th>bike_name</th>\n",
       "      <th>price</th>\n",
       "      <th>city</th>\n",
       "      <th>kms_driven</th>\n",
       "      <th>owner</th>\n",
       "      <th>age</th>\n",
       "      <th>power</th>\n",
       "      <th>brand</th>\n",
       "    </tr>\n",
       "  </thead>\n",
       "  <tbody>\n",
       "    <tr>\n",
       "      <th>0</th>\n",
       "      <td>tvs star city plus dual tone 110cc</td>\n",
       "      <td>35000.0</td>\n",
       "      <td>ahmedabad</td>\n",
       "      <td>17654.0</td>\n",
       "      <td>first owner</td>\n",
       "      <td>3.0</td>\n",
       "      <td>110.0</td>\n",
       "      <td>tvs</td>\n",
       "    </tr>\n",
       "    <tr>\n",
       "      <th>1</th>\n",
       "      <td>royal enfield classic 350cc</td>\n",
       "      <td>119900.0</td>\n",
       "      <td>delhi</td>\n",
       "      <td>11000.0</td>\n",
       "      <td>first owner</td>\n",
       "      <td>4.0</td>\n",
       "      <td>350.0</td>\n",
       "      <td>royal enfield</td>\n",
       "    </tr>\n",
       "    <tr>\n",
       "      <th>2</th>\n",
       "      <td>triumph daytona 675r</td>\n",
       "      <td>600000.0</td>\n",
       "      <td>delhi</td>\n",
       "      <td>110.0</td>\n",
       "      <td>first owner</td>\n",
       "      <td>8.0</td>\n",
       "      <td>675.0</td>\n",
       "      <td>triumph</td>\n",
       "    </tr>\n",
       "    <tr>\n",
       "      <th>3</th>\n",
       "      <td>tvs apache rtr 180cc</td>\n",
       "      <td>65000.0</td>\n",
       "      <td>bangalore</td>\n",
       "      <td>16329.0</td>\n",
       "      <td>first owner</td>\n",
       "      <td>4.0</td>\n",
       "      <td>180.0</td>\n",
       "      <td>tvs</td>\n",
       "    </tr>\n",
       "    <tr>\n",
       "      <th>4</th>\n",
       "      <td>yamaha fz s v 2.0 150cc-ltd. edition</td>\n",
       "      <td>80000.0</td>\n",
       "      <td>bangalore</td>\n",
       "      <td>10000.0</td>\n",
       "      <td>first owner</td>\n",
       "      <td>3.0</td>\n",
       "      <td>150.0</td>\n",
       "      <td>yamaha</td>\n",
       "    </tr>\n",
       "  </tbody>\n",
       "</table>\n",
       "</div>"
      ],
      "text/plain": [
       "                              bike_name     price       city  kms_driven  \\\n",
       "0    tvs star city plus dual tone 110cc   35000.0  ahmedabad     17654.0   \n",
       "1           royal enfield classic 350cc  119900.0      delhi     11000.0   \n",
       "2                  triumph daytona 675r  600000.0      delhi       110.0   \n",
       "3                  tvs apache rtr 180cc   65000.0  bangalore     16329.0   \n",
       "4  yamaha fz s v 2.0 150cc-ltd. edition   80000.0  bangalore     10000.0   \n",
       "\n",
       "         owner  age  power          brand  \n",
       "0  first owner  3.0  110.0            tvs  \n",
       "1  first owner  4.0  350.0  royal enfield  \n",
       "2  first owner  8.0  675.0        triumph  \n",
       "3  first owner  4.0  180.0            tvs  \n",
       "4  first owner  3.0  150.0         yamaha  "
      ]
     },
     "execution_count": 12,
     "metadata": {},
     "output_type": "execute_result"
    }
   ],
   "source": [
    "df.head()"
   ]
  },
  {
   "cell_type": "markdown",
   "id": "9b6e9d43",
   "metadata": {},
   "source": [
    "## Spliting Brand Names Into Its Component Words"
   ]
  },
  {
   "cell_type": "code",
   "execution_count": 13,
   "id": "fbf086b1",
   "metadata": {},
   "outputs": [],
   "source": [
    "names_split = []\n",
    "for i in range(df.shape[0]):\n",
    "    val = df['bike_name'][i].split()\n",
    "    names_split.append(val)"
   ]
  },
  {
   "cell_type": "code",
   "execution_count": 14,
   "id": "38563ba9",
   "metadata": {},
   "outputs": [
    {
     "data": {
      "text/plain": [
       "[['tvs', 'star', 'city', 'plus', 'dual', 'tone', '110cc'],\n",
       " ['royal', 'enfield', 'classic', '350cc'],\n",
       " ['triumph', 'daytona', '675r'],\n",
       " ['tvs', 'apache', 'rtr', '180cc'],\n",
       " ['yamaha', 'fz', 's', 'v', '2.0', '150cc-ltd.', 'edition'],\n",
       " ['yamaha', 'fzs', '150cc'],\n",
       " ['honda', 'cb', 'hornet', '160r', 'abs', 'dlx'],\n",
       " ['hero', 'splendor', 'plus', 'self', 'alloy', '100cc'],\n",
       " ['royal', 'enfield', 'thunderbird', 'x', '350cc'],\n",
       " ['royal', 'enfield', 'classic', 'desert', 'storm', '500cc'],\n",
       " ['yamaha', 'yzf-r15', '2.0', '150cc'],\n",
       " ['yamaha', 'fz25', '250cc'],\n",
       " ['bajaj', 'pulsar', 'ns200'],\n",
       " ['bajaj', 'discover', '100m'],\n",
       " ['bajaj', 'discover', '125m'],\n",
       " ['bajaj', 'pulsar', 'ns200', 'abs'],\n",
       " ['bajaj', 'pulsar', 'rs200', 'abs'],\n",
       " ['suzuki', 'gixxer', 'sf', '150cc'],\n",
       " ['benelli', '302r', '300cc'],\n",
       " ['bajaj', 'discover', '125m'],\n",
       " ['bajaj', 'pulsar', 'rs200', 'abs'],\n",
       " ['suzuki', 'gixxer', 'sf', '150cc'],\n",
       " ['hero', 'splendor', 'ismart', 'plus', 'ibs', '110cc'],\n",
       " ['royal', 'enfield', 'classic', 'chrome', '500cc'],\n",
       " ['yamaha', 'fz', 'v', '2.0', '150cc'],\n",
       " ['bajaj', 'pulsar', 'ns200'],\n",
       " ['hero', 'super', 'splendor', '125cc'],\n",
       " ['honda', 'cbf', 'stunner', '125cc'],\n",
       " ['bajaj', 'pulsar', '150cc'],\n",
       " ['honda', 'x-blade', '160cc', 'abs'],\n",
       " ['bajaj', 'pulsar', 'ns200'],\n",
       " ['yamaha', 'yzf-r15', '2.0', '150cc'],\n",
       " ['bajaj', 'avenger', '220cc'],\n",
       " ['ktm', 'rc', '390cc'],\n",
       " ['honda', 'cb', 'unicorn', '150cc'],\n",
       " ['ktm', 'duke', '200cc'],\n",
       " ['royal', 'enfield', 'classic', '350cc'],\n",
       " ['honda', 'cbr', '150r', '150cc'],\n",
       " ['royal', 'enfield', 'thunderbird', 'x', '500cc'],\n",
       " ['ktm', 'rc', '200cc', 'abs'],\n",
       " ['royal', 'enfield', 'thunderbird', '350cc'],\n",
       " ['bajaj', 'avenger', '220cc'],\n",
       " ['royal', 'enfield', 'bullet', 'electra', '350cc'],\n",
       " ['bajaj', 'avenger', 'street', '220', 'abs'],\n",
       " ['royal', 'enfield', 'classic', '350cc'],\n",
       " ['bajaj', 'pulsar', 'ns200'],\n",
       " ['royal', 'enfield', 'thunderbird', '350cc'],\n",
       " ['mahindra', 'centuro', 'nxt', '110cc'],\n",
       " ['hero', 'hunk', '150cc'],\n",
       " ['suzuki', 'gixxer', 'sf', 'fi', '150cc', 'sp', 'abs'],\n",
       " ['yamaha', 'fz', '150cc'],\n",
       " ['royal', 'enfield\\u200e', 'bullet', '350cc'],\n",
       " ['tvs', 'apache', 'rtr', '160cc'],\n",
       " ['honda', 'cb', 'shine', '125cc'],\n",
       " ['bajaj', 'avenger', '220cc'],\n",
       " ['benelli', 'tnt', '600i', 'abs'],\n",
       " ['honda', 'dream', 'yuga', '110cc'],\n",
       " ['yamaha', 'sz', '150cc'],\n",
       " ['suzuki', 'gixxer', '150cc'],\n",
       " ['bajaj', 'avenger', 'cruise', '220'],\n",
       " ['bajaj', 'pulsar', '150cc'],\n",
       " ['kawasaki', 'z900'],\n",
       " ['royal', 'enfield', 'bullet', 'electra', '350cc'],\n",
       " ['bajaj', 'pulsar', '220cc'],\n",
       " ['royal', 'enfield', 'thunderbird', '350cc'],\n",
       " ['ktm', 'duke', '200cc'],\n",
       " ['hero', 'cd', 'deluxe', '100cc'],\n",
       " ['royal', 'enfield', 'classic', '350cc'],\n",
       " ['bajaj', 'pulsar', '220cc'],\n",
       " ['kawasaki', 'ninja', '650cc'],\n",
       " ['royal', 'enfield', 'thunderbird', '350cc'],\n",
       " ['bajaj', 'platina', '125cc'],\n",
       " ['royal', 'enfield', 'thunderbird', '350cc'],\n",
       " ['royal', 'enfield', 'thunderbird', 'x', '350cc'],\n",
       " ['hero', 'karizma', 'zmr', '223cc'],\n",
       " ['bajaj', 'pulsar', '180cc'],\n",
       " ['yamaha', 'fz25', 'abs', '250cc'],\n",
       " ['royal', 'enfield', 'thunderbird', '350cc'],\n",
       " ['bajaj', 'ct', '100', '100cc'],\n",
       " ['bajaj', 'pulsar', 'rs200', 'abs'],\n",
       " ['yamaha', 'yzf-r15', '2.0', '150cc'],\n",
       " ['royal', 'enfield', 'interceptor', '650cc'],\n",
       " ['honda', 'cb', 'shine', '125cc'],\n",
       " ['ktm', 'duke', '250cc'],\n",
       " ['royal', 'enfield', 'himalayan', '410cc'],\n",
       " ['bajaj', 'pulsar', '135ls'],\n",
       " ['royal', 'enfield', 'thunderbird', '350cc'],\n",
       " ['bajaj', 'pulsar', '220f'],\n",
       " ['yamaha', 'fz16', '150cc'],\n",
       " ['royal', 'enfield', 'thunderbird', '350cc'],\n",
       " ['royal', 'enfield', 'thunderbird', '350cc'],\n",
       " ['bajaj', 'pulsar', 'ns200'],\n",
       " ['ducati', 'scrambler', '1100', 'special'],\n",
       " ['triumph', 'street', 'triple', '765'],\n",
       " ['bajaj', 'v15', '150cc'],\n",
       " ['bajaj', 'pulsar', '150cc'],\n",
       " ['suzuki', 'gixxer', 'fi', '150cc', 'abs'],\n",
       " ['hero', 'splendor', 'plus', '100cc'],\n",
       " ['bajaj', 'pulsar', '150cc'],\n",
       " ['ktm', 'duke', '390cc'],\n",
       " ['honda', 'cbr', '250r'],\n",
       " ['bajaj', 'pulsar', 'rs200'],\n",
       " ['royal', 'enfield', 'classic', '350cc'],\n",
       " ['bajaj', 'pulsar', '150cc'],\n",
       " ['benelli', 'tnt', '600i'],\n",
       " ['suzuki', 'gixxer', '150cc', 'sp', 'rear', 'disc'],\n",
       " ['yamaha', 'fz', 's', 'v', '2.0', '150cc'],\n",
       " ['honda', 'cbr', '150r', '150cc'],\n",
       " ['hero', 'splendor', 'plus', 'self', 'alloy', '100cc'],\n",
       " ['royal', 'enfield', 'classic', '500cc'],\n",
       " ['hyosung', 'gt650r'],\n",
       " ['bajaj', 'v15', '150cc'],\n",
       " ['yamaha', 'yzf-r15', 's', '150cc'],\n",
       " ['bajaj', 'v15', '150cc'],\n",
       " ['tvs', 'apache', 'rtr', '160', '4v', 'disc'],\n",
       " ['bajaj', 'pulsar', 'rs200', 'abs'],\n",
       " ['benelli', 'tnt', '300'],\n",
       " ['honda', 'cb', 'shinesp', '125cc'],\n",
       " ['honda', 'cbr', '250r'],\n",
       " ['hero', 'passion', 'pro', '100cc'],\n",
       " ['hero', 'splendor', 'plus', '100cc'],\n",
       " ['hero', 'splendor', 'ismart', 'plus', 'ibs', '110cc'],\n",
       " ['honda', 'cbr', '150r', '150cc'],\n",
       " ['yamaha', 'yzf', 'r6', '600cc'],\n",
       " ['ducati', '1299', 'superleggera'],\n",
       " ['royal', 'enfield', 'himalayan', '410cc'],\n",
       " ['royal', 'enfield', 'classic', '350cc'],\n",
       " ['bajaj', 'pulsar', 'ns200'],\n",
       " ['royal', 'enfield', 'electra', '350cc'],\n",
       " ['ktm', 'duke', '200cc'],\n",
       " ['tvs', 'phoenix', 'disc', '125cc'],\n",
       " ['tvs', 'apache', 'rtr', '160cc'],\n",
       " ['royal', 'enfield', 'classic', '350cc'],\n",
       " ['harley-davidson', 'street', '750'],\n",
       " ['suzuki', 'gixxer', 'sf', '150cc'],\n",
       " ['suzuki', 'gixxer', '150cc'],\n",
       " ['suzuki', 'gixxer', '150cc'],\n",
       " ['bajaj', 'pulsar', '220f'],\n",
       " ['bajaj', 'pulsar', '220cc'],\n",
       " ['royal', 'enfield', 'himalayan', '410cc', 'fi', 'abs'],\n",
       " ['royal', 'enfield', 'bullet', 'electra', '350cc'],\n",
       " ['bajaj', 'pulsar', 'ns200'],\n",
       " ['bajaj', 'discover', '150cc'],\n",
       " ['bajaj', 'avenger', 'street', '220'],\n",
       " ['royal', 'enfield', 'standard', '350cc'],\n",
       " ['honda', 'cb', 'shine', '125cc', 'disc'],\n",
       " ['honda', 'cb', 'unicorn', 'abs', '150cc'],\n",
       " ['yamaha', 'yzf-r15', '2.0', '150cc'],\n",
       " ['yamaha', 'yzf-r15', 'v3', '150cc'],\n",
       " ['ktm', 'duke', '200cc'],\n",
       " ['bajaj', 'pulsar', 'ns', '200'],\n",
       " ['hero', 'super', 'splendor', '125cc'],\n",
       " ['bajaj', 'dominar', '400'],\n",
       " ['royal', 'enfield', 'classic', '350cc'],\n",
       " ['royal', 'enfield', 'classic', '350cc'],\n",
       " ['royal', 'enfield', 'classic', '350cc'],\n",
       " ['royal', 'enfield', 'himalayan', '410cc'],\n",
       " ['royal', 'enfield', 'himalayan', '410cc', 'fi', 'abs'],\n",
       " ['bajaj', 'v15', '150cc'],\n",
       " ['royal', 'enfield', 'thunderbird', '350cc'],\n",
       " ['royal', 'enfield', 'thunderbird', '350cc'],\n",
       " ['royal', 'enfield', 'bullet', 'electra', '350cc'],\n",
       " ['royal', 'enfield', 'classic', '350cc'],\n",
       " ['bajaj', 'pulsar', 'ns200'],\n",
       " ['royal', 'enfield', 'electra', '350cc'],\n",
       " ['honda', 'x-blade', '160cc'],\n",
       " ['royal', 'enfield', 'classic', '350cc'],\n",
       " ['suzuki', 'hayabusa', '1300cc'],\n",
       " ['royal', 'enfield', 'classic', '350cc'],\n",
       " ['ducati', 'monster', '821', 'dark'],\n",
       " ['yamaha', 'fz', 's', 'v', '2.0', '150cc', 'rear', 'disc'],\n",
       " ['suzuki',\n",
       "  'gixxer',\n",
       "  'sf',\n",
       "  '150cc',\n",
       "  'special',\n",
       "  'motogp',\n",
       "  'edition',\n",
       "  'rear',\n",
       "  'disc'],\n",
       " ['hero', 'super', 'splendor', '125cc'],\n",
       " ['ktm', 'rc', '200cc'],\n",
       " ['yamaha', 'fz', 'v', '2.0', '150cc'],\n",
       " ['bajaj', 'discover', '125st'],\n",
       " ['hero', 'splendor', 'plus', 'kick', 'alloy', '100cc'],\n",
       " ['hero', 'karizma', '223cc'],\n",
       " ['ktm', 'duke', '200cc'],\n",
       " ['ktm', 'duke', '200cc'],\n",
       " ['yamaha', 'fzs', '150cc'],\n",
       " ['hero', 'splendor', '100cc'],\n",
       " ['ducati', '1198', 'sp', '1198cc'],\n",
       " ['royal', 'enfield', 'bullet', '500cc'],\n",
       " ['bajaj', 'avenger', 'street', '220'],\n",
       " ['yamaha', 'fazer', '150cc'],\n",
       " ['yamaha', 'gladiator', '125cc'],\n",
       " ['hero', 'karizma', 'r', '223cc'],\n",
       " ['yamaha', 'fz', '150cc'],\n",
       " ['harley-davidson', 'iron', '883'],\n",
       " ['tvs', 'apache', 'rtr', '200', '4v', 'fi'],\n",
       " ['bajaj', 'pulsar', '220cc'],\n",
       " ['royal', 'enfield', 'classic', 'desert', 'storm', '500cc'],\n",
       " ['tvs', 'apache', 'rtr', '160', '4v', 'disc', 'abs', 'bs6'],\n",
       " ['royal', 'enfield', 'electra', '350cc'],\n",
       " ['bajaj', 'dominar', '400', 'abs'],\n",
       " ['royal', 'enfield', 'classic', 'gunmetal', 'grey', '350cc'],\n",
       " ['hero', 'hf', 'deluxe', 'i3s', 'ibs', '100cc'],\n",
       " ['royal', 'enfield', 'classic', '350cc'],\n",
       " ['ktm', 'duke', '200cc'],\n",
       " ['bajaj', 'pulsar', '220cc'],\n",
       " ['royal', 'enfield', 'bullet', 'electra', '350cc'],\n",
       " ['suzuki', 'gixxer', 'sf', 'fi', '150cc', 'abs'],\n",
       " ['ktm', 'duke', '200cc'],\n",
       " ['bajaj', 'pulsar', '220cc'],\n",
       " ['royal', 'enfield', 'bullet', 'electra', '350cc'],\n",
       " ['suzuki', 'gixxer', 'sf', 'fi', '150cc', 'abs'],\n",
       " ['bajaj', 'pulsar', '180cc'],\n",
       " ['hero', 'splendor', 'plus', '100cc'],\n",
       " ['hero', 'splendor', 'ismart', '110cc'],\n",
       " ['bajaj', 'pulsar', '180cc'],\n",
       " ['yamaha', 'yzf-r15', 'v3', '150cc'],\n",
       " ['bajaj', 'platina', '100cc'],\n",
       " ['tvs', 'apache', 'rtr', '200', '4v', 'fi'],\n",
       " ['royal', 'enfield', 'bullet', 'twinspark', '350cc'],\n",
       " ['tvs', 'star', 'city', '110cc'],\n",
       " ['royal', 'enfield', 'classic', '350cc'],\n",
       " ['royal', 'enfield', 'classic', '350cc'],\n",
       " ['bajaj', 'dominar', '400'],\n",
       " ['ktm', 'rc', '200cc'],\n",
       " ['bajaj', 'platina', 'alloy', 'es-100cc'],\n",
       " ['yamaha', 'yzf-r15', '2.0', '150cc'],\n",
       " ['royal', 'enfield', 'himalayan', '410cc', 'fi', 'abs'],\n",
       " ['royal', 'enfield', 'himalayan', '410cc', 'fi', 'abs'],\n",
       " ['suzuki', 'hayabusa', '1300cc'],\n",
       " ['ktm', 'rc', '200cc'],\n",
       " ['bajaj', 'avenger', 'street', '220'],\n",
       " ['royal', 'enfield', 'classic', '350cc'],\n",
       " ['ducati', 'panigale', '959'],\n",
       " ['yamaha', 'fzs', '150cc'],\n",
       " ['bajaj', 'platina', '100cc'],\n",
       " ['royal', 'enfield', 'classic', '350cc-redditch', 'edition'],\n",
       " ['bajaj', 'v15', '150cc'],\n",
       " ['bajaj', 'discover', '125st'],\n",
       " ['hero', 'splendor', 'ismart', '110cc'],\n",
       " ['tvs', 'sport', '100cc'],\n",
       " ['hero', 'super', 'splendor', '125cc'],\n",
       " ['bajaj', 'dominar', '400', 'abs'],\n",
       " ['royal', 'enfield', 'bullet', 'electra', '350cc'],\n",
       " ['honda', 'cbf', 'stunner', '125cc'],\n",
       " ['bajaj', 'pulsar', 'as200'],\n",
       " ['bajaj', 'avenger', '220cc'],\n",
       " ['royal', 'enfield', 'classic', 'desert', 'storm', '500cc', 'dual', 'disc'],\n",
       " ['bajaj', 'avenger', '220cc'],\n",
       " ['honda', 'livo', '110cc'],\n",
       " ['bajaj', 'dominar', '400', 'abs'],\n",
       " ['yamaha', 'fz', 'v', '2.0', '150cc'],\n",
       " ['ktm', 'rc', '390cc'],\n",
       " ['bajaj', 'pulsar', '150cc'],\n",
       " ['ktm', 'duke', '200cc'],\n",
       " ['bajaj', 'avenger', '220cc'],\n",
       " ['bajaj', 'pulsar', '180cc'],\n",
       " ['bajaj', 'pulsar', 'ns200'],\n",
       " ['bajaj', 'discover', '100m'],\n",
       " ['suzuki', 'gixxer', 'sf', '150cc', 'sp', 'rear', 'disc'],\n",
       " ['suzuki', 'gixxer', '150cc'],\n",
       " ['bajaj', 'pulsar', 'rs200'],\n",
       " ['tvs', 'apache', 'rtr', '160cc'],\n",
       " ['bajaj', 'dominar', '400', 'abs'],\n",
       " ['bajaj', 'v15', '150cc'],\n",
       " ['hero', 'passion', 'pro', '100cc'],\n",
       " ['ktm', 'rc', '200cc'],\n",
       " ['ktm', 'rc', '390cc'],\n",
       " ['hero', 'splendor', 'ismart', '110cc'],\n",
       " ['tvs', 'sport', '100cc'],\n",
       " ['yamaha', 'sz-rr', '150cc'],\n",
       " ['royal', 'enfield', 'thunderbird', '500cc'],\n",
       " ['ktm', 'rc', '200cc'],\n",
       " ['royal', 'enfield', 'bullet', 'electra', 'twinspark', '350cc'],\n",
       " ['bajaj', 'v15', '150cc'],\n",
       " ['royal', 'enfield\\u200e', 'bullet', '350cc'],\n",
       " ['ktm', 'rc', '200cc'],\n",
       " ['bajaj', 'discover', '150f', 'disc'],\n",
       " ['royal', 'enfield', 'classic', '350cc'],\n",
       " ['bajaj', 'pulsar', 'rs200'],\n",
       " ['bajaj', 'pulsar', '220cc'],\n",
       " ['yamaha', 'saluto', '125cc', 'disc', 'special', 'edition'],\n",
       " ['royal', 'enfield', 'interceptor', '650cc'],\n",
       " ['bajaj', 'v15', '150cc'],\n",
       " ['royal', 'enfield', 'thunderbird', '350cc'],\n",
       " ['bajaj', 'avenger', 'cruise', '220'],\n",
       " ['bajaj', 'avenger', 'street', '220'],\n",
       " ['ktm', 'rc', '390cc'],\n",
       " ['bajaj', 'pulsar', 'ns200'],\n",
       " ['triumph', 'street', 'triple', 'abs', '675cc'],\n",
       " ['honda', 'cbr', '250r', 'abs'],\n",
       " ['hero', 'splendor', 'plus', '100cc'],\n",
       " ['hyosung', 'aquila', 'gv250'],\n",
       " ['jawa', 'forty', 'two', '295cc'],\n",
       " ['bajaj', 'v12', '125cc'],\n",
       " ['bajaj', 'discover', '100m'],\n",
       " ['bajaj', 'v12', '125cc', 'disc'],\n",
       " ['yamaha', 'fzs', '150cc'],\n",
       " ['hero', 'karizma', 'zmr', '223cc'],\n",
       " ['ktm', 'duke', '390cc'],\n",
       " ['bajaj', 'pulsar', 'rs200'],\n",
       " ['bajaj', 'discover', '150f', 'disc'],\n",
       " ['ktm', 'rc', '200cc'],\n",
       " ['royal', 'enfield', 'bullet', 'electra', '350cc'],\n",
       " ['royal', 'enfield', 'thunderbird', '500cc'],\n",
       " ['ktm', 'rc', '200cc'],\n",
       " ['royal', 'enfield', 'bullet', 'electra', 'twinspark', '350cc'],\n",
       " ['bajaj', 'v15', '150cc'],\n",
       " ['yamaha', 'fazer', '25', '250cc'],\n",
       " ['royal', 'enfield', 'classic', '350cc'],\n",
       " ['harley-davidson', 'street', '750'],\n",
       " ['hero', 'karizma', 'zmr', '223cc'],\n",
       " ['hero', 'xpulse', '200t'],\n",
       " ['bajaj', 'pulsar', '150cc'],\n",
       " ['yamaha', 'yzf-r15', 's', '150cc'],\n",
       " ['benelli', '302r', '300cc'],\n",
       " ['honda', 'cb', 'hornet', '160r', 'cbs'],\n",
       " ['royal', 'enfield', 'bullet', 'electra', '350cc'],\n",
       " ['royal', 'enfield', 'classic', '350cc'],\n",
       " ['bajaj', 'pulsar', '220cc'],\n",
       " ['tvs', 'apache', 'rtr', '160', '4v', 'disc'],\n",
       " ['suzuki', 'gixxer', '150cc', 'sp', 'abs'],\n",
       " ['bajaj', 'avenger', '220cc'],\n",
       " ['royal', 'enfield', 'classic', '350cc'],\n",
       " ['bajaj', 'pulsar', 'ns200'],\n",
       " ['hero', 'splendor', 'plus', 'kick', 'alloy', '100cc'],\n",
       " ['hero', 'hunk', '150cc'],\n",
       " ['hyosung', 'aquila', 'gv250'],\n",
       " ['bajaj', 'pulsar', 'ns200'],\n",
       " ['ktm', 'rc', '390cc'],\n",
       " ['royal', 'enfield\\u200e', 'bullet', '350cc'],\n",
       " ['honda', 'dream', 'yuga', '110cc'],\n",
       " ['bajaj', 'avenger', 'cruise', '220'],\n",
       " ['hero', 'passion', 'xpro', '110cc'],\n",
       " ['yamaha', 'fz', 's', 'v', '2.0', '150cc', 'rear', 'disc'],\n",
       " ['hero', 'karizma', 'zmr', '223cc'],\n",
       " ['royal', 'enfield', 'classic', '500cc'],\n",
       " ['royal', 'enfield', 'classic', '350cc'],\n",
       " ['yamaha', 'yzf-r3', '320cc', 'abs'],\n",
       " ['royal', 'enfield', 'bullet', '350', 'cc'],\n",
       " ['hero', 'hf', 'deluxe', '100cc'],\n",
       " ['harley-davidson', 'street', '750'],\n",
       " ['bajaj', 'dominar', '400', 'abs'],\n",
       " ['honda', 'cb', 'twister', '110cc'],\n",
       " ['royal', 'enfield', 'classic', '350cc'],\n",
       " ['bajaj', 'pulsar', '125cc', 'disc', 'cbs'],\n",
       " ['bajaj', 'avenger', 'street', '220'],\n",
       " ['yamaha', 'yzf-r15', 'v3', '150cc'],\n",
       " ['ktm', 'duke', '390cc'],\n",
       " ['honda', 'cb', 'shine', '125cc', 'drum', 'bs6'],\n",
       " ['bajaj', 'ct', '100', '100cc'],\n",
       " ['bajaj', 'pulsar', '150cc'],\n",
       " ['bajaj', 'v15', '150cc'],\n",
       " ['royal', 'enfield', 'classic', '350cc'],\n",
       " ['royal', 'enfield', 'classic', '350cc'],\n",
       " ['bajaj', 'dominar', '400', 'abs'],\n",
       " ['royal', 'enfield', 'classic', '350cc'],\n",
       " ['honda', 'cbr', '250r', 'abs'],\n",
       " ['royal', 'enfield', 'classic', '350cc'],\n",
       " ['royal', 'enfield', 'classic', '350cc'],\n",
       " ['honda', 'cb', 'hornet', '160r', 'std'],\n",
       " ['honda', 'dream', 'neo', '110cc'],\n",
       " ['royal', 'enfield', 'classic', '350cc'],\n",
       " ['royal', 'enfield', 'classic', '350cc'],\n",
       " ['bmw', 'g', '310', 'r'],\n",
       " ['tvs', 'apache', 'rtr', '160', '4v', 'disc'],\n",
       " ['honda', 'cbr', '250r'],\n",
       " ['bajaj', 'pulsar', 'as150'],\n",
       " ['bajaj', 'v15', '150cc'],\n",
       " ['kawasaki', 'ninja', '250cc'],\n",
       " ['royal', 'enfield', 'himalayan', '410cc'],\n",
       " ['benelli', 'tnt', '899'],\n",
       " ['indian', 'chief', 'classic', '1800cc'],\n",
       " ['kawasaki', 'ninja', '650cc'],\n",
       " ['ktm', 'rc', '200cc'],\n",
       " ['hero', 'passion', 'pro', '100cc'],\n",
       " ['hero', 'super', 'splendor', '125cc'],\n",
       " ['bajaj', 'v15', '150cc'],\n",
       " ['hero', 'achiever', '150cc'],\n",
       " ['tvs', 'apache', '150cc'],\n",
       " ['kawasaki', 'er-6n', '650cc'],\n",
       " ['hero', 'hf', 'deluxe', 'self', '100cc'],\n",
       " ['hero', 'splendor', 'plus', '100cc'],\n",
       " ['royal', 'enfield', 'standard', '350cc'],\n",
       " ['bmw', 'g', '310', 'r'],\n",
       " ['honda', 'cb', 'hornet', '160r', 'std'],\n",
       " ['benelli', 'tnt', '300'],\n",
       " ['tvs', 'apache', 'rtr', '160cc'],\n",
       " ['bajaj', 'pulsar', 'as150'],\n",
       " ['honda', 'cbr', '250r'],\n",
       " ['royal', 'enfield', 'thunderbird', '350cc'],\n",
       " ['royal', 'enfield', 'classic', '350cc'],\n",
       " ['tvs', 'apache', '150cc'],\n",
       " ['bajaj', 'v15', '150cc'],\n",
       " ['bajaj', 'pulsar', 'ns160'],\n",
       " ['jawa', 'forty', 'two', '295cc'],\n",
       " ['royal', 'enfield', 'classic', '350cc'],\n",
       " ['honda', 'cb', 'shine', '125cc'],\n",
       " ['honda', 'cb', 'unicorn', '150cc'],\n",
       " ['royal', 'enfield', 'classic', 'gunmetal', 'grey', '350cc', 'abs'],\n",
       " ['bajaj', 'pulsar', 'rs200', 'abs'],\n",
       " ['honda', 'cb', 'shine', '125cc'],\n",
       " ['yamaha', 'yzf-r15', 'v3', '150cc'],\n",
       " ['royal', 'enfield', 'classic', '350cc'],\n",
       " ['bajaj', 'pulsar', '135ls'],\n",
       " ['suzuki', 'intruder', '150cc'],\n",
       " ['tvs', 'apache', 'rtr', '200', '4v', 'abs', 'race', 'edition'],\n",
       " ['bajaj', 'pulsar', '220f'],\n",
       " ['bajaj', 'ct', '100', 'b'],\n",
       " ['bajaj', 'pulsar', '220cc'],\n",
       " ['bajaj', 'pulsar', '220cc'],\n",
       " ['royal', 'enfield', 'classic', '350cc'],\n",
       " ['bajaj', 'pulsar', 'rs200', 'abs'],\n",
       " ['honda', 'cb', 'shine', '125cc'],\n",
       " ['yamaha', 'yzf-r15', 'v3', '150cc'],\n",
       " ['royal', 'enfield', 'classic', '350cc'],\n",
       " ['bajaj', 'pulsar', '135ls'],\n",
       " ['suzuki', 'intruder', '150cc'],\n",
       " ['tvs', 'apache', 'rtr', '200', '4v', 'abs', 'race', 'edition'],\n",
       " ['bajaj', 'pulsar', '220f'],\n",
       " ['bajaj', 'ct', '100', 'b'],\n",
       " ['bajaj', 'pulsar', '220cc'],\n",
       " ['bajaj', 'pulsar', '220cc'],\n",
       " ['royal', 'enfield', 'classic', '350cc'],\n",
       " ['hero', 'passion', 'pro', '110cc', 'drum'],\n",
       " ['bajaj', 'pulsar', '220cc'],\n",
       " ['yamaha', 'yzf-r15', '150cc'],\n",
       " ['suzuki', 'gixxer', '150cc'],\n",
       " ['bajaj', 'pulsar', 'ns200'],\n",
       " ['tvs', 'apache', 'rtr', '160', '4v', 'disc'],\n",
       " ['tvs', 'apache', 'rtr', '160', '4v', 'disc', 'abs'],\n",
       " ['tvs', 'apache', 'rtr', '180cc'],\n",
       " ['mahindra', 'mojo', '300cc'],\n",
       " ['royal', 'enfield', 'interceptor', '650cc'],\n",
       " ['benelli', 'tnt', '300'],\n",
       " ['harley-davidson', 'street', '750'],\n",
       " ['honda', 'cb', 'twister', '110cc'],\n",
       " ['ktm', 'rc', '200cc'],\n",
       " ['yamaha', 'fz25', '250cc'],\n",
       " ['royal', 'enfield', 'thunderbird', '350cc'],\n",
       " ['tvs', 'apache', 'rtr', '200', '4v', 'carburetor'],\n",
       " ['hero', 'ignitor', 'disc', '125cc'],\n",
       " ['tvs', 'apache', '150cc'],\n",
       " ['bajaj', 'avenger', 'street', '150'],\n",
       " ['tvs', 'apache', 'rtr', '160cc'],\n",
       " ['bajaj', 'pulsar', 'ns160'],\n",
       " ['ktm', 'duke', '250cc'],\n",
       " ['royal', 'enfield', 'classic', '350cc'],\n",
       " ['hero', 'passion', 'pro', '100cc'],\n",
       " ['hero', 'super', 'splendor', '125cc'],\n",
       " ['bajaj', 'v15', '150cc'],\n",
       " ['tvs', 'apache', 'rtr', '200', '4v', 'carburetor'],\n",
       " ['harley-davidson', 'street', '750'],\n",
       " ['suzuki', 'gixxer', 'sf', '150cc', 'sp', 'rear', 'disc'],\n",
       " ['royal', 'enfield', 'continental', 'gt', '535cc'],\n",
       " ['hero', 'ignitor', 'disc', '125cc'],\n",
       " ['hero', 'glamour', 'disc', '125cc'],\n",
       " ['ktm', 'rc', '200cc'],\n",
       " ['bajaj', 'pulsar', '220cc'],\n",
       " ['royal', 'enfield', 'bullet', 'electra', 'twinspark', '350cc'],\n",
       " ['bajaj', 'dominar', '400'],\n",
       " ['bajaj', 'dominar', '400', 'abs'],\n",
       " ['hero', 'passion', 'xpro', '110cc'],\n",
       " ['ktm', 'rc', '390cc'],\n",
       " ['honda', 'cb', 'shine', '125cc'],\n",
       " ['bajaj', 'avenger', 'street', '150'],\n",
       " ['bajaj', 'dominar', '400'],\n",
       " ['bajaj', 'v12', '125cc', 'disc'],\n",
       " ['bajaj', 'v15', '150cc'],\n",
       " ['hero', 'splendor', 'ismart', '110cc'],\n",
       " ['royal', 'enfield', 'classic', '350cc'],\n",
       " ['bajaj', 'discover', '100m'],\n",
       " ['suzuki', 'gixxer', 'sf', 'fi', '150cc'],\n",
       " ['honda', 'cbr', '250r', 'abs'],\n",
       " ['hero', 'hf', 'dawn', '100cc'],\n",
       " ['bajaj', 'pulsar', '220f'],\n",
       " ['bajaj', 'pulsar', '180cc'],\n",
       " ['suzuki', 'slingshot', 'plus', '125cc'],\n",
       " ['bajaj', 'pulsar', '150cc'],\n",
       " ['mahindra', 'centuro', 'rockstar', '110cc'],\n",
       " ['mahindra', 'centuro', '110cc'],\n",
       " ['bajaj', 'pulsar', '180cc'],\n",
       " ['honda', 'cb', 'hornet', '160r', 'special', 'edition', 'std'],\n",
       " ['yamaha', 'yzf-r15', '2.0', '150cc'],\n",
       " ['royal', 'enfield', 'classic', '350cc'],\n",
       " ['royal', 'enfield', 'classic', '350cc'],\n",
       " ['honda', 'cbr', '150r', '150cc'],\n",
       " ['ktm', 'duke', '390cc'],\n",
       " ['bajaj', 'pulsar', 'rs200', 'abs'],\n",
       " ['royal', 'enfield', 'thunderbird', '350cc'],\n",
       " ['bajaj', 'pulsar', '150cc'],\n",
       " ['tvs', 'apache', 'rtr', '160cc'],\n",
       " ['royal', 'enfield', 'classic', 'chrome', '500cc'],\n",
       " ['harley-davidson', 'street', 'rod', 'xg750a', 'abs'],\n",
       " ['yamaha', 'fz', 's', 'v', '2.0', '150cc'],\n",
       " ['honda', 'cbr', '150r', '150cc'],\n",
       " ['royal', 'enfield', 'bullet', 'electra', 'twinspark', '350cc'],\n",
       " ['hero', 'splendor', 'plus', 'ibs', 'i3s', '100cc'],\n",
       " ['bajaj', 'pulsar', 'ns200'],\n",
       " ['bajaj', 'dominar', '400', 'abs'],\n",
       " ['bajaj', 'discover', '135cc'],\n",
       " ['tvs', 'apache', 'rtr', '180cc'],\n",
       " ['bajaj', 'discover', '125cc'],\n",
       " ['bajaj', 'discover', '150cc'],\n",
       " ['suzuki', 'gixxer', 'sf', '150cc'],\n",
       " ['harley-davidson', 'street', '750'],\n",
       " ['bajaj', 'discover', '100m'],\n",
       " ['bajaj', 'avenger', 'street', '150'],\n",
       " ['royal', 'enfield', 'classic', '350cc'],\n",
       " ['bajaj', 'pulsar', 'ns160'],\n",
       " ['hero', 'splendor', 'plus', 'ibs', 'i3s', '100cc'],\n",
       " ['royal', 'enfield', 'bullet', 'electra', '350cc'],\n",
       " ['bajaj', 'pulsar', '150cc'],\n",
       " ['bajaj', 'pulsar', 'ns200'],\n",
       " ['royal', 'enfield', 'bullet', 'electra', '350cc'],\n",
       " ['bajaj', 'pulsar', '150cc'],\n",
       " ['tvs', 'apache', 'rtr', '160', '4v', 'drum', 'abs'],\n",
       " ['bajaj', 'discover', '135cc'],\n",
       " ['tvs', 'apache', 'rtr', '200', '4v', 'abs', 'race', 'edition'],\n",
       " ['bajaj', 'dominar', '400', 'abs'],\n",
       " ['royal', 'enfield', 'classic', '350cc'],\n",
       " ['honda', 'livo', '110cc'],\n",
       " ['bajaj', 'pulsar', 'rs200', 'abs'],\n",
       " ['honda', 'cb', 'unicorn', '160', 'cbs'],\n",
       " ['yamaha', 'yzf-r15', '2.0', '150cc'],\n",
       " ['bajaj', 'platina', 'alloy', 'es-100cc'],\n",
       " ['bajaj', 'discover', '125cc'],\n",
       " ['ktm', 'duke', '125cc'],\n",
       " ['bajaj', 'boxer', 'bm150'],\n",
       " ['royal', 'enfield', 'classic', '350cc'],\n",
       " ['royal', 'enfield', 'bullet', 'electra', '350cc'],\n",
       " ['yamaha', 'yzf-r15', '2.0', '150cc'],\n",
       " ['honda', 'cb', 'shine', '125cc'],\n",
       " ['yamaha', 'fz', 's', 'v', '2.0', '150cc', 'rear', 'disc'],\n",
       " ['hero', 'glamour', '125cc'],\n",
       " ['yamaha', 'fz', 's', 'v', '2.0', '150cc'],\n",
       " ['royal', 'enfield', 'classic', '500cc'],\n",
       " ['honda', 'cbr', '250r', 'abs'],\n",
       " ['ktm', 'duke', '390cc'],\n",
       " ['bajaj', 'pulsar', '220f'],\n",
       " ['suzuki', 'slingshot', 'plus', '125cc'],\n",
       " ['bajaj', 'pulsar', '180cc'],\n",
       " ['tvs', 'apache', 'rtr', '160cc'],\n",
       " ['honda', 'cbr', '150r', '150cc'],\n",
       " ['honda', 'cbr', '150r', '150cc'],\n",
       " ['bajaj', 'v15', '150cc'],\n",
       " ['yamaha', 'yzf-r15', '2.0', '150cc'],\n",
       " ['royal', 'enfield', 'classic', '350cc'],\n",
       " ['royal', 'enfield', 'bullet', 'electra', '350cc'],\n",
       " ['ktm', 'rc', '390cc'],\n",
       " ['bajaj', 'discover', '100cc'],\n",
       " ['yamaha', 'fz', 's', 'v', '2.0', '150cc', 'rear', 'disc'],\n",
       " ['bajaj', 'avenger', 'street', '180'],\n",
       " ['bajaj', 'discover', '125cc'],\n",
       " ['bajaj', 'pulsar', 'ns200'],\n",
       " ['hero', 'glamour', '125cc'],\n",
       " ['yamaha', 'fz', 's', 'v', '2.0', '150cc'],\n",
       " ['royal', 'enfield', 'classic', '500cc'],\n",
       " ['ktm', 'duke', '125cc'],\n",
       " ['honda', 'cb', 'shine', '125cc'],\n",
       " ['tvs', 'star', 'city', 'plus', '110cc'],\n",
       " ['benelli', 'tnt', '300'],\n",
       " ['harley-davidson', 'street', '750'],\n",
       " ['tvs', 'apache', 'rtr', '160cc'],\n",
       " ['bajaj', 'avenger', 'street', '150'],\n",
       " ['suzuki', 'intruder', '150cc'],\n",
       " ['royal', 'enfield', 'classic', '350cc'],\n",
       " ['bajaj', 'pulsar', '180cc'],\n",
       " ['ktm', 'duke', '200cc'],\n",
       " ['ktm', 'rc', '390cc'],\n",
       " ['harley-davidson', 'street', '750'],\n",
       " ['royal', 'enfield', 'classic', '350cc'],\n",
       " ['bmw', 'g', '310', 'r'],\n",
       " ['royal', 'enfield', 'bullet', 'electra', '350cc'],\n",
       " ['hero', 'passion', 'pro', '100cc'],\n",
       " ['ktm', 'duke', '390cc'],\n",
       " ['ktm', 'rc', '390cc'],\n",
       " ['honda', 'cbr', '150r', '150cc'],\n",
       " ['royal', 'enfield', 'thunderbird', '500cc'],\n",
       " ['honda', 'cb', 'trigger', '150cc'],\n",
       " ['yamaha', 'yzf-r15', '150cc'],\n",
       " ['bajaj', 'pulsar', '150cc'],\n",
       " ['honda', 'cb', 'hornet', '160r', 'cbs'],\n",
       " ['kawasaki', 'ninja', '650', 'krt', 'edition'],\n",
       " ['bajaj', 'platina', '100cc', 'comfortec', 'alloy'],\n",
       " ['royal', 'enfield', 'thunderbird', '500cc'],\n",
       " ['honda', 'cb', 'trigger', '150cc'],\n",
       " ['harley-davidson', 'street', '750'],\n",
       " ['royal', 'enfield', 'classic', '350cc'],\n",
       " ['benelli', 'tnt', 'r', '1130cc'],\n",
       " ['honda', 'cb', 'shine', '125cc'],\n",
       " ['ktm', 'duke', '390cc'],\n",
       " ['royal', 'enfield', 'classic', '350cc'],\n",
       " ['ktm', 'rc', '200cc'],\n",
       " ['honda', 'cb', 'unicorn', 'dazzler', '150cc'],\n",
       " ['royal', 'enfield', 'thunderbird', '350cc'],\n",
       " ['suzuki', 'gixxer', 'sf', '150cc'],\n",
       " ['hero', 'splendor', 'plus', '100cc'],\n",
       " ['hyosung', 'gt650r'],\n",
       " ['tvs', 'apache', 'rtr', '160', '4v', 'disc', 'abs'],\n",
       " ['royal', 'enfield', 'classic', 'chrome', '500cc'],\n",
       " ['hero', 'splendor', 'plus', '100cc'],\n",
       " ['ktm', 'duke', '390cc'],\n",
       " ['bajaj', 'avenger', 'street', '150'],\n",
       " ['bajaj', 'pulsar', '220f'],\n",
       " ['hero', 'passion', 'pro', '100cc'],\n",
       " ['benelli', 'tnt', '600', 'gt'],\n",
       " ['ktm', 'duke', '200cc'],\n",
       " ['honda', 'cbf', 'stunner', '125cc'],\n",
       " ['harley-davidson', 'street', '750'],\n",
       " ['benelli', 'tnt', '300'],\n",
       " ['yamaha', 'yzf-r15', '150cc'],\n",
       " ['tvs', 'apache', 'rtr', '160cc'],\n",
       " ['hyosung', 'gt650r'],\n",
       " ['hyosung', 'gt250r'],\n",
       " ['yamaha', 'yzf-r1', '1000cc'],\n",
       " ['hero', 'xtreme', '200r'],\n",
       " ['yamaha', 'fz16', '150cc'],\n",
       " ['ducati', 'diavel', '1200cc'],\n",
       " ['triumph', 'speed', 'triple', '1050cc'],\n",
       " ['honda', 'cb', 'unicorn', '150cc'],\n",
       " ['royal', 'enfield', 'classic', '350cc'],\n",
       " ['suzuki', 'hayabusa', '1300cc'],\n",
       " ['indian', 'scout', 'bobber', '1130cc'],\n",
       " ['bajaj', 'v15', '150cc', 'power', 'up'],\n",
       " ['royal', 'enfield', 'classic', '350cc'],\n",
       " ['hero', 'passion', 'pro', '100cc'],\n",
       " ['royal', 'enfield', 'classic', 'gunmetal', 'grey', '350cc'],\n",
       " ['royal', 'enfield', 'classic', '350cc'],\n",
       " ['royal', 'enfield', 'classic', '350cc'],\n",
       " ['yamaha', 'fz25', 'abs', '250cc'],\n",
       " ['bajaj', 'avenger', '220cc'],\n",
       " ['jawa', 'standard', '295cc'],\n",
       " ['yamaha', 'fzs', '150cc'],\n",
       " ['royal', 'enfield', 'classic', '350cc'],\n",
       " ['bajaj', 'platina', '100cc'],\n",
       " ['bajaj', 'avenger', '220cc'],\n",
       " ['bajaj', 'pulsar', '150cc'],\n",
       " ['yamaha', 'szr', '150cc'],\n",
       " ['bajaj', 'platina', '100cc'],\n",
       " ['ktm', 'rc', '200cc'],\n",
       " ['tvs', 'star', 'sport', '100cc'],\n",
       " ['bajaj', 'pulsar', 'ns200', 'abs'],\n",
       " ['honda', 'cb', 'hornet', '160r', 'std'],\n",
       " ['bajaj', 'pulsar', '150cc'],\n",
       " ['bajaj', 'dominar', '400', 'abs'],\n",
       " ['royal', 'enfield', 'classic', '350cc'],\n",
       " ['bajaj', 'avenger', 'street', '220'],\n",
       " ['bajaj', 'avenger', 'street', '180'],\n",
       " ['bajaj', 'discover', '100m'],\n",
       " ['bajaj', 'ct', '100', '100cc'],\n",
       " ['hero', 'splendor', 'plus', 'self', 'alloy', '100cc'],\n",
       " ['tvs', 'apache', 'rtr', '160cc'],\n",
       " ['honda', 'cb', 'shine', '125cc'],\n",
       " ['royal', 'enfield', 'classic', 'gunmetal', 'grey', '350cc'],\n",
       " ['royal', 'enfield', 'classic', '350cc'],\n",
       " ['royal', 'enfield', 'classic', '350cc'],\n",
       " ['yamaha', 'fz25', 'abs', '250cc'],\n",
       " ['bajaj', 'avenger', '220cc'],\n",
       " ['jawa', 'standard', '295cc'],\n",
       " ['yamaha', 'fzs', '150cc'],\n",
       " ['royal', 'enfield', 'classic', '350cc'],\n",
       " ['bajaj', 'platina', '100cc'],\n",
       " ['bajaj', 'avenger', '220cc'],\n",
       " ['hyosung', 'aquila', '250', '250cc'],\n",
       " ['kawasaki', 'z650'],\n",
       " ['yamaha', 'yzf-r1', '1000cc'],\n",
       " ['royal', 'enfield', 'classic', '350cc'],\n",
       " ['honda', 'cb', 'unicorn', '150cc'],\n",
       " ['tvs', 'apache', 'rtr', '160', '4v', 'disc', 'abs'],\n",
       " ['bajaj', 'pulsar', '150cc'],\n",
       " ['yamaha', 'yzf-r15', 'v3', '150cc'],\n",
       " ['honda', 'cb', 'trigger', '150cc'],\n",
       " ['hero', 'passion', 'pro', '100cc'],\n",
       " ['suzuki', 'gixxer', 'sf', '150cc'],\n",
       " ['bajaj', 'pulsar', '220f'],\n",
       " ['royal', 'enfield', 'classic', '350cc'],\n",
       " ['hero', 'hunk', '150cc'],\n",
       " ['bajaj', 'v15', '150cc'],\n",
       " ['bajaj', 'v15', '150cc'],\n",
       " ['bajaj', 'discover', '135cc'],\n",
       " ['bajaj', 'avenger', 'street', '150'],\n",
       " ['hero', 'karizma', 'zmr', '223cc'],\n",
       " ['bajaj', 'v15', '150cc'],\n",
       " ['hero', 'cd', 'dawn', '100cc'],\n",
       " ['honda', 'cb', 'trigger', '150cc'],\n",
       " ['royal', 'enfield', 'classic', '500cc'],\n",
       " ['tvs', 'apache', 'rtr', '200', '4v', 'fi'],\n",
       " ['hero', 'karizma', 'zmr', '223cc'],\n",
       " ['royal', 'enfield', 'thunderbird', '500cc'],\n",
       " ['bajaj', 'pulsar', 'rs200', 'abs'],\n",
       " ['yamaha', 'fz16', '150cc'],\n",
       " ['royal', 'enfield', 'classic', '350cc'],\n",
       " ['honda', 'cb', 'trigger', '150cc'],\n",
       " ['honda', 'dream', 'yuga', '110cc'],\n",
       " ['bajaj', 'pulsar', 'rs200', 'abs'],\n",
       " ['hero', 'ignitor', 'disc', '125cc'],\n",
       " ['bajaj', 'v15', '150cc'],\n",
       " ['bajaj', 'pulsar', 'rs200'],\n",
       " ['royal', 'enfield', 'bullet', 'twinspark', '350cc'],\n",
       " ['tvs', 'apache', 'rtr', '200', '4v', 'abs'],\n",
       " ['bajaj', 'avenger', 'street', '150'],\n",
       " ['royal', 'enfield', 'bullet', 'electra', 'twinspark', '350cc'],\n",
       " ['hero', 'passion', '100cc'],\n",
       " ['bajaj', 'avenger', 'street', '220'],\n",
       " ['bajaj', 'pulsar', '135ls'],\n",
       " ['bajaj', 'pulsar', 'ns200'],\n",
       " ['suzuki', 'gixxer', 'sf', 'fi', '150cc'],\n",
       " ['suzuki', 'gixxer', '150cc'],\n",
       " ['bajaj', 'v15', '150cc'],\n",
       " ['royal', 'enfield', 'classic', '350cc'],\n",
       " ['royal', 'enfield', 'classic', '350cc'],\n",
       " ['hero', 'cd', 'deluxe', '100cc'],\n",
       " ['hero', 'splendor', 'plus', 'self', 'alloy', '100cc'],\n",
       " ['hero', 'passion', 'pro', '100cc'],\n",
       " ['bajaj', 'avenger', '220cc'],\n",
       " ['ktm', 'rc', '200cc'],\n",
       " ['bajaj', 'pulsar', 'as200'],\n",
       " ['bajaj', 'avenger', 'cruise', '220'],\n",
       " ['hero', 'passion', 'xpro', '110cc'],\n",
       " ['tvs', 'sport', '100cc'],\n",
       " ['yamaha', 'fz25', '250cc'],\n",
       " ['bajaj', 'dominar', '400', 'abs'],\n",
       " ['royal', 'enfield', 'thunderbird', '500cc'],\n",
       " ['honda', 'cb', 'trigger', '150cc'],\n",
       " ['bajaj', 'pulsar', 'rs200'],\n",
       " ['bajaj', 'pulsar', 'rs200'],\n",
       " ['bajaj', 'pulsar', 'rs200'],\n",
       " ['suzuki', 'intruder', 'sp', '150cc'],\n",
       " ['bajaj', 'discover', '125st'],\n",
       " ['royal', 'enfield', 'bullet', 'electra', '350cc'],\n",
       " ['royal', 'enfield', 'bullet', 'twinspark', '350cc'],\n",
       " ['bajaj', 'discover', '100cc'],\n",
       " ['yamaha', 'yzf-r3', '320cc'],\n",
       " ['bajaj', 'dominar', '400', 'abs'],\n",
       " ['bajaj', 'pulsar', '150cc'],\n",
       " ['bajaj', 'pulsar', 'rs200', 'abs'],\n",
       " ['royal', 'enfield', 'classic', '500cc'],\n",
       " ['tvs', 'apache', 'rr310'],\n",
       " ['yamaha', 'yzf-r15', '2.0', '150cc'],\n",
       " ['hero', 'passion', 'xpro', '110cc'],\n",
       " ['bajaj', 'discover', '150cc'],\n",
       " ['bajaj', 'discover', '150cc'],\n",
       " ['hero', 'passion', 'plus', '100cc'],\n",
       " ['honda', 'cb', 'shine', '125cc'],\n",
       " ['tvs', 'apache', 'rtr', '200', '4v', 'abs'],\n",
       " ['royal', 'enfield', 'classic', '350cc-redditch', 'edition', 'dual', 'disc'],\n",
       " ['royal', 'enfield', 'thunderbird', '350cc'],\n",
       " ['yamaha', 'yzf-r15', 'v3', '150cc'],\n",
       " ['bajaj', 'v15', '150cc'],\n",
       " ['tvs', 'apache', 'rtr', '160cc'],\n",
       " ['bajaj', 'dominar', '400', 'abs'],\n",
       " ['honda', 'cbr', '150r', '150cc'],\n",
       " ['royal', 'enfield', 'classic', '350cc'],\n",
       " ['honda', 'cb', 'shine', '125cc'],\n",
       " ['hero', 'splendor', 'plus', '100cc'],\n",
       " ['royal', 'enfield', 'classic', '350cc'],\n",
       " ['tvs', 'apache', 'rtr', '160cc'],\n",
       " ['honda', 'livo', '110cc'],\n",
       " ['hero', 'cbz', '150cc'],\n",
       " ['suzuki', 'gixxer', 'sf', 'fi', '150cc'],\n",
       " ['ktm', 'duke', '390cc'],\n",
       " ['tvs', 'apache', 'rtr', '160', '4v', 'disc'],\n",
       " ['yamaha', 'fzs', 'fi', '150cc'],\n",
       " ['honda', 'cb', 'unicorn', '160', 'std'],\n",
       " ['suzuki', 'gs', '150', 'r', '150cc'],\n",
       " ['royal', 'enfield', 'machismo', '500cc'],\n",
       " ['yamaha', 'fz25', '250cc'],\n",
       " ['hero', 'cbz', 'xtreme', '150cc'],\n",
       " ['yamaha', 'sz', 'rr', 'v', '2.0', '150cc'],\n",
       " ['yamaha', 'yzf-r15', '2.0', '150cc'],\n",
       " ['royal', 'enfield', 'bullet', 'electra', 'twinspark', '350cc'],\n",
       " ['bajaj', 'discover', '135cc'],\n",
       " ['hero', 'cbz', 'xtreme', '150cc'],\n",
       " ['suzuki', 'gixxer', '150cc'],\n",
       " ['yamaha', 'yzf-r15', '2.0', '150cc'],\n",
       " ['royal', 'enfield', 'classic', '500cc'],\n",
       " ['tvs', 'apache', 'rr310'],\n",
       " ['yamaha', 'yzf-r15', '2.0', '150cc'],\n",
       " ['bajaj', 'discover', '150cc'],\n",
       " ['hero', 'passion', 'plus', '100cc'],\n",
       " ['honda', 'cb', 'shine', '125cc'],\n",
       " ['yamaha', 'fz', 's', 'v', '2.0', '150cc-ltd.', 'edition'],\n",
       " ['tvs', 'apache', 'rtr', '200', '4v', 'fi'],\n",
       " ['yamaha', 'fz', 'v', '2.0', '150cc'],\n",
       " ['hyosung', 'gt250r'],\n",
       " ['tvs', 'apache', 'rtr', '180cc', 'abs'],\n",
       " ['honda', 'cb', 'shine', '125cc'],\n",
       " ['royal', 'enfield', 'classic', '350cc'],\n",
       " ['bajaj', 'pulsar', 'rs200', 'abs'],\n",
       " ['tvs', 'apache', 'rtr', '160cc'],\n",
       " ['hero', 'honda', 'splendor', '100cc'],\n",
       " ['hero', 'xtreme', '200r'],\n",
       " ['yamaha', 'yzf-r15', '2.0', '150cc'],\n",
       " ['ktm', 'rc', '200cc', 'abs'],\n",
       " ['bajaj', 'pulsar', '150cc'],\n",
       " ['honda', 'dream', 'neo', '110cc'],\n",
       " ['tvs', 'apache', 'rtr', '160cc'],\n",
       " ['bajaj', 'discover', '150cc'],\n",
       " ['bajaj', 'discover', '135cc'],\n",
       " ['yamaha', 'yzf-r15', 'v3', '150cc'],\n",
       " ['royal', 'enfield', 'classic', '350cc'],\n",
       " ['honda', 'cb', 'hornet', '160r', 'special', 'edition', 'std'],\n",
       " ['bajaj', 'platina', 'alloy', 'es-100cc'],\n",
       " ['bajaj', 'pulsar', 'rs200'],\n",
       " ['bajaj', 'pulsar', '220f'],\n",
       " ['honda', 'cbr', '150r', 'deluxe'],\n",
       " ['ktm', 'rc', '200cc'],\n",
       " ['bajaj', 'platina', '100cc'],\n",
       " ['royal', 'enfield', 'thunderbird', '350cc'],\n",
       " ['hero', 'ignitor', '125cc'],\n",
       " ['bajaj', 'pulsar', '200cc'],\n",
       " ['royal', 'enfield', 'classic', '350cc'],\n",
       " ['bajaj', 'discover', '125st'],\n",
       " ['bajaj', 'dominar', '400', 'abs'],\n",
       " ['royal', 'enfield', 'classic', '350cc'],\n",
       " ['hero', 'splendor', 'ismart', '110cc'],\n",
       " ['royal', 'enfield', 'thunderbird', '350cc'],\n",
       " ['bajaj', 'v15', '150cc'],\n",
       " ['bajaj', 'dominar', '400', 'abs'],\n",
       " ['bajaj', 'pulsar', '150cc'],\n",
       " ['bajaj', 'pulsar', 'rs200', 'abs'],\n",
       " ['hero', 'passion', 'xpro', '110cc'],\n",
       " ['bajaj', 'discover', '150cc'],\n",
       " ['tvs', 'apache', 'rtr', '200', '4v', 'abs'],\n",
       " ['royal', 'enfield', 'classic', '350cc-redditch', 'edition', 'dual', 'disc'],\n",
       " ['royal', 'enfield', 'thunderbird', '350cc'],\n",
       " ['yamaha', 'yzf-r15', 'v3', '150cc'],\n",
       " ['bajaj', 'v15', '150cc'],\n",
       " ['tvs', 'apache', 'rtr', '160cc'],\n",
       " ['bajaj', 'dominar', '400', 'abs'],\n",
       " ['honda', 'cbr', '150r', '150cc'],\n",
       " ['royal', 'enfield', 'classic', '350cc'],\n",
       " ['honda', 'cb', 'shine', '125cc'],\n",
       " ['suzuki', 'gixxer', 'sf', 'fi', '150cc'],\n",
       " ['ktm', 'duke', '390cc'],\n",
       " ['tvs', 'apache', 'rtr', '160', '4v', 'disc'],\n",
       " ['hero', 'splendor', 'plus', '100cc'],\n",
       " ['suzuki', 'gs', '150', 'r', '150cc'],\n",
       " ['royal', 'enfield', 'machismo', '500cc'],\n",
       " ['yamaha', 'fz25', '250cc'],\n",
       " ['hero', 'cbz', 'xtreme', '150cc'],\n",
       " ['yamaha', 'sz', 'rr', 'v', '2.0', '150cc'],\n",
       " ['yamaha', 'yzf-r15', '2.0', '150cc'],\n",
       " ['royal', 'enfield', 'classic', '350cc'],\n",
       " ['tvs', 'star', 'sport', '100cc'],\n",
       " ['royal', 'enfield', 'bullet', 'twinspark', '350cc'],\n",
       " ['bajaj', 'pulsar', 'rs200'],\n",
       " ['hero', 'ignitor', 'disc', '125cc'],\n",
       " ['bajaj', 'pulsar', '150cc'],\n",
       " ['kawasaki', 'ninja', '300cc'],\n",
       " ['kawasaki', 'ninja', '300', 'abs'],\n",
       " ['royal', 'enfield', 'classic', '350cc'],\n",
       " ['honda', 'cb', 'shine', '125cc'],\n",
       " ['bajaj', 'pulsar', '150cc', 'rear', 'disc'],\n",
       " ['royal', 'enfield', 'himalayan', '410cc', 'fi', 'abs'],\n",
       " ['hero', 'splendor', 'nxg', '100cc'],\n",
       " ['honda', 'dream', 'yuga', '110cc'],\n",
       " ['bajaj', 'dominar', '400', 'abs'],\n",
       " ['royal', 'enfield', 'thunderbird', '350cc'],\n",
       " ['royal', 'enfield', 'classic', '350cc'],\n",
       " ['honda', 'livo', '110cc'],\n",
       " ['hero', 'cbz', '150cc'],\n",
       " ['yamaha', 'fzs', 'fi', '150cc'],\n",
       " ['honda', 'cb', 'unicorn', '160', 'std'],\n",
       " ['honda', 'cb', 'unicorn', '160', 'std'],\n",
       " ['royal', 'enfield', 'thunderbird', '500cc'],\n",
       " ['ktm', 'rc', '390cc'],\n",
       " ['royal', 'enfield', 'classic', '350cc'],\n",
       " ['hero', 'achiever', 'disc', '150cc'],\n",
       " ['yamaha', 'sz-rr', '150cc'],\n",
       " ['tvs', 'apache', 'rtr', '200', '4v', 'abs'],\n",
       " ['tvs', 'apache', 'rtr', '200', '4v', 'carburetor', 'race', 'edition', '2.0'],\n",
       " ['bajaj', 'discover', '125st'],\n",
       " ['bajaj', 'pulsar', '150cc'],\n",
       " ['honda', 'cbr', '150r', '150cc'],\n",
       " ['royal', 'enfield', 'thunderbird', '350cc', 'abs'],\n",
       " ['ktm', 'duke', '200cc'],\n",
       " ['yamaha', 'yzf-r15', 's', '150cc'],\n",
       " ['royal', 'enfield', 'thunderbird', '500cc'],\n",
       " ['ktm', 'duke', '125cc'],\n",
       " ['royal', 'enfield', 'bullet', 'twinspark', '350cc'],\n",
       " ['tvs', 'apache', 'rtr', '200', '4v', 'abs'],\n",
       " ['bajaj', 'avenger', 'street', '150'],\n",
       " ['bajaj', 'pulsar', 'as150'],\n",
       " ['ktm', 'duke', '200cc'],\n",
       " ['royal', 'enfield', 'thunderbird', '350cc'],\n",
       " ['bajaj', 'v15', '150cc'],\n",
       " ['royal', 'enfield', 'classic', '500cc'],\n",
       " ['harley-davidson', 'street', '750', 'abs'],\n",
       " ['hero', 'cbz', 'xtreme', '150cc'],\n",
       " ['bajaj', 'v15', '150cc'],\n",
       " ['yamaha', 'fz25', '250cc'],\n",
       " ['ktm', 'rc', '390cc'],\n",
       " ['bajaj', 'pulsar', '150cc', 'rear', 'disc', 'abs'],\n",
       " ['bajaj', 'discover', '125st'],\n",
       " ['hero', 'passion', 'pro', '100cc'],\n",
       " ['bajaj', 'discover', '100cc'],\n",
       " ['royal', 'enfield', 'classic', '350cc'],\n",
       " ['hero', 'cd', 'deluxe', '100cc'],\n",
       " ['hero', 'splendor', 'plus', 'self', 'alloy', '100cc'],\n",
       " ['hero', 'passion', 'pro', '100cc'],\n",
       " ['bajaj', 'avenger', '220cc'],\n",
       " ['bajaj', 'pulsar', 'ns160'],\n",
       " ['royal', 'enfield', 'bullet', 'electra', 'twinspark', '350cc'],\n",
       " ['hero', 'passion', '100cc'],\n",
       " ['suzuki', 'gixxer', '150cc'],\n",
       " ['bajaj', 'v15', '150cc'],\n",
       " ['royal', 'enfield', 'classic', '350cc'],\n",
       " ['bajaj', 'pulsar', '135ls'],\n",
       " ['royal', 'enfield', 'classic', '350cc'],\n",
       " ['yamaha', 'yzf-r15', '2.0', '150cc'],\n",
       " ['ktm', 'rc', '200cc'],\n",
       " ['bajaj', 'pulsar', 'as200'],\n",
       " ['bajaj', 'avenger', 'cruise', '220'],\n",
       " ['hero', 'passion', 'xpro', '110cc'],\n",
       " ['tvs', 'sport', '100cc'],\n",
       " ['yamaha', 'fz25', '250cc'],\n",
       " ['bajaj', 'dominar', '400', 'abs'],\n",
       " ['royal', 'enfield', 'thunderbird', '500cc'],\n",
       " ['honda', 'cb', 'trigger', '150cc'],\n",
       " ['royal', 'enfield', 'classic', 'chrome', '500cc'],\n",
       " ['yamaha', 'fzs', '150cc'],\n",
       " ['ktm', 'duke', '250cc', 'abs'],\n",
       " ['royal', 'enfield', 'bullet', 'twinspark', '350cc'],\n",
       " ['harley-davidson', 'street', '750'],\n",
       " ['bajaj', 'pulsar', '200', 'ns', '200cc'],\n",
       " ['honda', 'cbr', '250r'],\n",
       " ['bajaj', 'avenger', 'cruise', '220'],\n",
       " ['bajaj', 'pulsar', '220cc'],\n",
       " ['tvs', 'apache', 'rtr', '200', '4v', 'fi'],\n",
       " ['hero', 'karizma', 'zmr', '223cc'],\n",
       " ['bajaj', 'pulsar', 'rs200', 'abs'],\n",
       " ['yamaha', 'fz16', '150cc'],\n",
       " ['royal', 'enfield', 'classic', '350cc'],\n",
       " ['honda', 'cb', 'trigger', '150cc'],\n",
       " ['bajaj', 'pulsar', 'rs200', 'abs'],\n",
       " ['honda', 'dream', 'yuga', '110cc'],\n",
       " ['hero', 'ignitor', 'disc', '125cc'],\n",
       " ['bajaj', 'v15', '150cc'],\n",
       " ['mahindra', 'mojo', 'tourer', 'edition', '300cc'],\n",
       " ['hero', 'passion', 'pro', '100cc'],\n",
       " ['tvs', 'star', 'sport', '100cc'],\n",
       " ['bajaj', 'pulsar', 'rs200'],\n",
       " ['yamaha', 'gladiator', '125cc'],\n",
       " ['ktm', 'rc', '390cc'],\n",
       " ['royal', 'enfield', 'classic', '350cc'],\n",
       " ['hero', 'splendor', 'ismart', '110cc'],\n",
       " ['ktm', 'duke', '390cc'],\n",
       " ['ktm', 'duke', '390cc'],\n",
       " ['yamaha', 'yzf-r15', '2.0', '150cc'],\n",
       " ['mahindra', 'mojo', '300cc'],\n",
       " ['honda', 'cbr', '150r', '150cc'],\n",
       " ['royal', 'enfield', 'bullet', 'electra', 'twinspark', '350cc'],\n",
       " ['bajaj', 'discover', '135cc'],\n",
       " ['bajaj', 'v15', '150cc'],\n",
       " ['bajaj', 'pulsar', '180cc'],\n",
       " ['bajaj', 'pulsar', '220cc'],\n",
       " ['bajaj', 'pulsar', 'rs200'],\n",
       " ['royal', 'enfield', 'classic', '350cc'],\n",
       " ['hero', 'karizma', 'r', '223cc'],\n",
       " ['honda', 'dream', 'yuga', '110cc'],\n",
       " ['hero', 'passion', 'pro', 'i3s', 'alloy', '100cc'],\n",
       " ['hero', 'passion', 'plus', '100cc'],\n",
       " ['hero', 'splendor', 'plus', '100cc'],\n",
       " ['honda', 'cb', 'shine', '125cc'],\n",
       " ['bajaj', 'pulsar', 'rs200'],\n",
       " ['royal', 'enfield', 'thunderbird', 'x', '350cc', 'abs'],\n",
       " ['bajaj', 'pulsar', 'ns', '200'],\n",
       " ['tvs', 'apache', 'rtr', '160cc'],\n",
       " ['hero', 'xtreme', '150cc'],\n",
       " ['bajaj', 'pulsar', 'ns160'],\n",
       " ['bajaj', 'pulsar', 'rs200', 'abs'],\n",
       " ['bajaj', 'platina', '100cc'],\n",
       " ['hero', 'karizma', 'r', '223cc'],\n",
       " ['bajaj', 'boxer', 'ct100'],\n",
       " ['bajaj', 'v15', '150cc'],\n",
       " ['yamaha', 'fz25', '250cc'],\n",
       " ['yamaha', 'yzf-r15', '2.0', '150cc'],\n",
       " ['royal', 'enfield', 'bullet', '350cc'],\n",
       " ['hero', 'passion', 'pro', '100cc'],\n",
       " ['hero', 'cbz', 'xtreme', '150cc'],\n",
       " ['bajaj', 'platina', '100cc'],\n",
       " ['hero', 'splendor', 'ismart', '110cc'],\n",
       " ['bajaj', 'pulsar', '150cc'],\n",
       " ['bajaj', 'discover', '125cc'],\n",
       " ['bajaj', 'pulsar', 'ns200'],\n",
       " ['bajaj', 'dominar', '400', 'abs'],\n",
       " ['bajaj', 'dominar', '400'],\n",
       " ['hero', 'passion', 'pro', '100cc'],\n",
       " ['bajaj', 'discover', '100cc'],\n",
       " ['tvs', 'sport', '100cc'],\n",
       " ['yamaha', 'yzf-r15', 'v3', '150cc'],\n",
       " ['hero', 'splendor', 'plus', '100cc'],\n",
       " ['bajaj', 'platina', 'alloy', 'es-100cc'],\n",
       " ['royal', 'enfield', 'classic', '350cc'],\n",
       " ['royal', 'enfield', 'standard', '500cc'],\n",
       " ['royal', 'enfield', 'classic', '350cc'],\n",
       " ['honda', 'cb', 'shine', '125cc'],\n",
       " ['honda', 'dream', 'yuga', '110cc'],\n",
       " ['bajaj', 'v15', '150cc'],\n",
       " ['bajaj', 'pulsar', 'rs200', 'abs'],\n",
       " ['royal', 'enfield', 'thunderbird', '500cc'],\n",
       " ['hyosung', 'aquila', 'pro', 'gv650'],\n",
       " ['hero', 'splendor', 'ismart', '110cc'],\n",
       " ...]"
      ]
     },
     "execution_count": 14,
     "metadata": {},
     "output_type": "execute_result"
    }
   ],
   "source": [
    "names_split"
   ]
  },
  {
   "cell_type": "code",
   "execution_count": 15,
   "id": "d099f3a1",
   "metadata": {},
   "outputs": [],
   "source": [
    "brand_split = []\n",
    "for i in range(df.shape[0]):\n",
    "    val = df['brand'][i].split()\n",
    "    brand_split.append(val)"
   ]
  },
  {
   "cell_type": "markdown",
   "id": "31d1d072",
   "metadata": {},
   "source": [
    "## Brand Length Calculation And Removal Of Brand Name From Model Name"
   ]
  },
  {
   "cell_type": "code",
   "execution_count": 16,
   "id": "fce74c4e",
   "metadata": {},
   "outputs": [],
   "source": [
    "brand_length = []\n",
    "for i in range(df.shape[0]):\n",
    "    val = np.array(brand_split[i])\n",
    "    brand_length.append(val.shape[0])"
   ]
  },
  {
   "cell_type": "code",
   "execution_count": 17,
   "id": "90e6ceef",
   "metadata": {},
   "outputs": [],
   "source": [
    "bike_version = []\n",
    "for i in range(df.shape[0]):\n",
    "    j = brand_length[i]\n",
    "    val = names_split[i][j:]\n",
    "    bike_version.append(val)"
   ]
  },
  {
   "cell_type": "code",
   "execution_count": 18,
   "id": "5e12249c",
   "metadata": {},
   "outputs": [],
   "source": [
    "for i in range(df.shape[0]):\n",
    "    bike_version[i] = ' '.join(bike_version[i])"
   ]
  },
  {
   "cell_type": "code",
   "execution_count": 19,
   "id": "8e4015be",
   "metadata": {},
   "outputs": [],
   "source": [
    "df.drop('bike_name', inplace=True, axis=1)"
   ]
  },
  {
   "cell_type": "code",
   "execution_count": 20,
   "id": "02b78dae",
   "metadata": {},
   "outputs": [
    {
     "data": {
      "text/html": [
       "<div>\n",
       "<style scoped>\n",
       "    .dataframe tbody tr th:only-of-type {\n",
       "        vertical-align: middle;\n",
       "    }\n",
       "\n",
       "    .dataframe tbody tr th {\n",
       "        vertical-align: top;\n",
       "    }\n",
       "\n",
       "    .dataframe thead th {\n",
       "        text-align: right;\n",
       "    }\n",
       "</style>\n",
       "<table border=\"1\" class=\"dataframe\">\n",
       "  <thead>\n",
       "    <tr style=\"text-align: right;\">\n",
       "      <th></th>\n",
       "      <th>price</th>\n",
       "      <th>city</th>\n",
       "      <th>kms_driven</th>\n",
       "      <th>owner</th>\n",
       "      <th>age</th>\n",
       "      <th>power</th>\n",
       "      <th>brand</th>\n",
       "      <th>Bike_model</th>\n",
       "    </tr>\n",
       "  </thead>\n",
       "  <tbody>\n",
       "    <tr>\n",
       "      <th>0</th>\n",
       "      <td>35000.0</td>\n",
       "      <td>ahmedabad</td>\n",
       "      <td>17654.0</td>\n",
       "      <td>first owner</td>\n",
       "      <td>3.0</td>\n",
       "      <td>110.0</td>\n",
       "      <td>tvs</td>\n",
       "      <td>star city plus dual tone 110cc</td>\n",
       "    </tr>\n",
       "    <tr>\n",
       "      <th>1</th>\n",
       "      <td>119900.0</td>\n",
       "      <td>delhi</td>\n",
       "      <td>11000.0</td>\n",
       "      <td>first owner</td>\n",
       "      <td>4.0</td>\n",
       "      <td>350.0</td>\n",
       "      <td>royal enfield</td>\n",
       "      <td>classic 350cc</td>\n",
       "    </tr>\n",
       "    <tr>\n",
       "      <th>2</th>\n",
       "      <td>600000.0</td>\n",
       "      <td>delhi</td>\n",
       "      <td>110.0</td>\n",
       "      <td>first owner</td>\n",
       "      <td>8.0</td>\n",
       "      <td>675.0</td>\n",
       "      <td>triumph</td>\n",
       "      <td>daytona 675r</td>\n",
       "    </tr>\n",
       "    <tr>\n",
       "      <th>3</th>\n",
       "      <td>65000.0</td>\n",
       "      <td>bangalore</td>\n",
       "      <td>16329.0</td>\n",
       "      <td>first owner</td>\n",
       "      <td>4.0</td>\n",
       "      <td>180.0</td>\n",
       "      <td>tvs</td>\n",
       "      <td>apache rtr 180cc</td>\n",
       "    </tr>\n",
       "    <tr>\n",
       "      <th>4</th>\n",
       "      <td>80000.0</td>\n",
       "      <td>bangalore</td>\n",
       "      <td>10000.0</td>\n",
       "      <td>first owner</td>\n",
       "      <td>3.0</td>\n",
       "      <td>150.0</td>\n",
       "      <td>yamaha</td>\n",
       "      <td>fz s v 2.0 150cc-ltd. edition</td>\n",
       "    </tr>\n",
       "  </tbody>\n",
       "</table>\n",
       "</div>"
      ],
      "text/plain": [
       "      price       city  kms_driven        owner  age  power          brand  \\\n",
       "0   35000.0  ahmedabad     17654.0  first owner  3.0  110.0            tvs   \n",
       "1  119900.0      delhi     11000.0  first owner  4.0  350.0  royal enfield   \n",
       "2  600000.0      delhi       110.0  first owner  8.0  675.0        triumph   \n",
       "3   65000.0  bangalore     16329.0  first owner  4.0  180.0            tvs   \n",
       "4   80000.0  bangalore     10000.0  first owner  3.0  150.0         yamaha   \n",
       "\n",
       "                       Bike_model  \n",
       "0  star city plus dual tone 110cc  \n",
       "1                   classic 350cc  \n",
       "2                    daytona 675r  \n",
       "3                apache rtr 180cc  \n",
       "4   fz s v 2.0 150cc-ltd. edition  "
      ]
     },
     "execution_count": 20,
     "metadata": {},
     "output_type": "execute_result"
    }
   ],
   "source": [
    "df['Bike_model'] = bike_version\n",
    "df.head()"
   ]
  },
  {
   "cell_type": "markdown",
   "id": "c9074416",
   "metadata": {},
   "source": [
    "## Renaming Bike Brands Having Less No. Of Bikes"
   ]
  },
  {
   "cell_type": "code",
   "execution_count": 21,
   "id": "aae00af7",
   "metadata": {},
   "outputs": [
    {
     "data": {
      "image/png": "[encoded data removed]",
      "text/plain": [
       "<Figure size 1440x720 with 1 Axes>"
      ]
     },
     "metadata": {
      "needs_background": "light"
     },
     "output_type": "display_data"
    }
   ],
   "source": [
    "brands = df['brand'].value_counts()\n",
    "bike_less_than_500 = brands[brands<=500]\n",
    "bike_less_than_500\n",
    "\n",
    "columns = bike_less_than_500.keys()\n",
    "columns\n",
    "\n",
    "df['brand'].replace(columns,\"not so popular brand\",inplace=True)\n",
    "\n",
    "df['brand'].value_counts()\n",
    "\n",
    "plt.figure(figsize=(20,10))\n",
    "plt.hist(df['brand'],bins=20)\n",
    "plt.show()"
   ]
  },
  {
   "cell_type": "code",
   "execution_count": 22,
   "id": "e245cc81",
   "metadata": {},
   "outputs": [
    {
     "data": {
      "text/html": [
       "<div>\n",
       "<style scoped>\n",
       "    .dataframe tbody tr th:only-of-type {\n",
       "        vertical-align: middle;\n",
       "    }\n",
       "\n",
       "    .dataframe tbody tr th {\n",
       "        vertical-align: top;\n",
       "    }\n",
       "\n",
       "    .dataframe thead th {\n",
       "        text-align: right;\n",
       "    }\n",
       "</style>\n",
       "<table border=\"1\" class=\"dataframe\">\n",
       "  <thead>\n",
       "    <tr style=\"text-align: right;\">\n",
       "      <th></th>\n",
       "      <th>price</th>\n",
       "      <th>city</th>\n",
       "      <th>kms_driven</th>\n",
       "      <th>owner</th>\n",
       "      <th>age</th>\n",
       "      <th>power</th>\n",
       "      <th>brand</th>\n",
       "      <th>Bike_model</th>\n",
       "    </tr>\n",
       "  </thead>\n",
       "  <tbody>\n",
       "    <tr>\n",
       "      <th>0</th>\n",
       "      <td>35000.0</td>\n",
       "      <td>ahmedabad</td>\n",
       "      <td>17654.0</td>\n",
       "      <td>first owner</td>\n",
       "      <td>3.0</td>\n",
       "      <td>110.0</td>\n",
       "      <td>tvs</td>\n",
       "      <td>star city plus dual tone 110cc</td>\n",
       "    </tr>\n",
       "    <tr>\n",
       "      <th>1</th>\n",
       "      <td>119900.0</td>\n",
       "      <td>delhi</td>\n",
       "      <td>11000.0</td>\n",
       "      <td>first owner</td>\n",
       "      <td>4.0</td>\n",
       "      <td>350.0</td>\n",
       "      <td>royal enfield</td>\n",
       "      <td>classic 350cc</td>\n",
       "    </tr>\n",
       "    <tr>\n",
       "      <th>2</th>\n",
       "      <td>600000.0</td>\n",
       "      <td>delhi</td>\n",
       "      <td>110.0</td>\n",
       "      <td>first owner</td>\n",
       "      <td>8.0</td>\n",
       "      <td>675.0</td>\n",
       "      <td>not so popular brand</td>\n",
       "      <td>daytona 675r</td>\n",
       "    </tr>\n",
       "    <tr>\n",
       "      <th>3</th>\n",
       "      <td>65000.0</td>\n",
       "      <td>bangalore</td>\n",
       "      <td>16329.0</td>\n",
       "      <td>first owner</td>\n",
       "      <td>4.0</td>\n",
       "      <td>180.0</td>\n",
       "      <td>tvs</td>\n",
       "      <td>apache rtr 180cc</td>\n",
       "    </tr>\n",
       "    <tr>\n",
       "      <th>4</th>\n",
       "      <td>80000.0</td>\n",
       "      <td>bangalore</td>\n",
       "      <td>10000.0</td>\n",
       "      <td>first owner</td>\n",
       "      <td>3.0</td>\n",
       "      <td>150.0</td>\n",
       "      <td>yamaha</td>\n",
       "      <td>fz s v 2.0 150cc-ltd. edition</td>\n",
       "    </tr>\n",
       "  </tbody>\n",
       "</table>\n",
       "</div>"
      ],
      "text/plain": [
       "      price       city  kms_driven        owner  age  power  \\\n",
       "0   35000.0  ahmedabad     17654.0  first owner  3.0  110.0   \n",
       "1  119900.0      delhi     11000.0  first owner  4.0  350.0   \n",
       "2  600000.0      delhi       110.0  first owner  8.0  675.0   \n",
       "3   65000.0  bangalore     16329.0  first owner  4.0  180.0   \n",
       "4   80000.0  bangalore     10000.0  first owner  3.0  150.0   \n",
       "\n",
       "                  brand                      Bike_model  \n",
       "0                   tvs  star city plus dual tone 110cc  \n",
       "1         royal enfield                   classic 350cc  \n",
       "2  not so popular brand                    daytona 675r  \n",
       "3                   tvs                apache rtr 180cc  \n",
       "4                yamaha   fz s v 2.0 150cc-ltd. edition  "
      ]
     },
     "execution_count": 22,
     "metadata": {},
     "output_type": "execute_result"
    }
   ],
   "source": [
    "df.head()"
   ]
  },
  {
   "cell_type": "markdown",
   "id": "4e1e2daf",
   "metadata": {},
   "source": [
    "## Renaming Bike Model With Less Value Count"
   ]
  },
  {
   "cell_type": "code",
   "execution_count": 23,
   "id": "31102159",
   "metadata": {},
   "outputs": [
    {
     "data": {
      "text/plain": [
       "not so popular model    6634\n",
       "pulsar 150cc            2776\n",
       "avenger street 220      2531\n",
       "avenger 220cc           2060\n",
       "classic 350cc           1673\n",
       "passion pro 100cc       1432\n",
       "passion 100cc           1238\n",
       "thunderbird 350cc        919\n",
       "yzf-r15 2.0 150cc        769\n",
       "bullet electra 350cc     756\n",
       "pulsar ns200             708\n",
       "rc 390cc                 705\n",
       "dominar 400 abs          700\n",
       "cd deluxe 100cc          693\n",
       "cbz xtreme 150cc         686\n",
       "platina 100cc            686\n",
       "cb trigger 150cc         681\n",
       "apache rtr 180cc         675\n",
       "fazer 150cc              674\n",
       "fz 150cc                 661\n",
       "super splendor 125cc     649\n",
       "cb hornet 160r std       641\n",
       "street 750 abs           631\n",
       "hunk rear disc 150cc     619\n",
       "slingshot plus 125cc     617\n",
       "fazer 25 250cc           613\n",
       "sz-rr 150cc              613\n",
       "zeus 125cc               608\n",
       "Name: Bike_model, dtype: int64"
      ]
     },
     "execution_count": 23,
     "metadata": {},
     "output_type": "execute_result"
    }
   ],
   "source": [
    "Bike_model = df['Bike_model'].value_counts()\n",
    "\n",
    "model_less_than_500 = Bike_model[Bike_model<=500]\n",
    "\n",
    "columns = model_less_than_500.keys()\n",
    "\n",
    "df['Bike_model'].replace(columns,\"not so popular model\",inplace=True)\n",
    "\n",
    "df['Bike_model'].value_counts()"
   ]
  },
  {
   "cell_type": "markdown",
   "id": "2b78b281",
   "metadata": {},
   "source": [
    "## Renaming Cities With Less Bikes As Other Cities"
   ]
  },
  {
   "cell_type": "code",
   "execution_count": 24,
   "id": "02a92379",
   "metadata": {},
   "outputs": [
    {
     "data": {
      "text/plain": [
       "delhi                  7318\n",
       "bangalore              2723\n",
       "mumbai                 2591\n",
       "hyderabad              2160\n",
       "pune                   1724\n",
       "chennai                1619\n",
       "lucknow                1294\n",
       "jaipur                 1007\n",
       "ghaziabad               938\n",
       "ahmedabad               905\n",
       "noida                   776\n",
       "bhopal                  651\n",
       "gautam buddha nagar     649\n",
       "kanchipuram             640\n",
       "jodhpur                 635\n",
       "karnal                  625\n",
       "rupnagar                621\n",
       "allahabad               621\n",
       "gurgaon                 617\n",
       "godhara                 611\n",
       "faridabad               609\n",
       "kadapa                  608\n",
       "perumbavoor             608\n",
       "Name: city, dtype: int64"
      ]
     },
     "execution_count": 24,
     "metadata": {},
     "output_type": "execute_result"
    }
   ],
   "source": [
    "city_counts = df['city'].value_counts()\n",
    "city_counts[~(city_counts<500)]"
   ]
  },
  {
   "cell_type": "code",
   "execution_count": 25,
   "id": "c2274f7a",
   "metadata": {},
   "outputs": [],
   "source": [
    "other_cities = city_counts[city_counts<500]\n",
    "df['city'].replace(other_cities.keys(),'other',inplace=True)"
   ]
  },
  {
   "cell_type": "code",
   "execution_count": 26,
   "id": "b6e18e3d",
   "metadata": {},
   "outputs": [
    {
     "data": {
      "text/plain": [
       "delhi            7318\n",
       "bangalore        2723\n",
       "mumbai           2591\n",
       "hyderabad        2160\n",
       "pune             1724\n",
       "                 ... \n",
       "surendranagar       1\n",
       "khandela            1\n",
       "mohammadabad        1\n",
       "shimla              1\n",
       "sidhi               1\n",
       "Name: city, Length: 443, dtype: int64"
      ]
     },
     "execution_count": 26,
     "metadata": {},
     "output_type": "execute_result"
    }
   ],
   "source": [
    "city_counts"
   ]
  },
  {
   "cell_type": "code",
   "execution_count": 27,
   "id": "b5456444",
   "metadata": {},
   "outputs": [
    {
     "data": {
      "text/plain": [
       "2098"
      ]
     },
     "execution_count": 27,
     "metadata": {},
     "output_type": "execute_result"
    }
   ],
   "source": [
    "(df['city'].str.contains('other')).sum()"
   ]
  },
  {
   "cell_type": "markdown",
   "id": "9b5eec9c",
   "metadata": {},
   "source": [
    "## Renaming Bikes Having Two Or More Owners"
   ]
  },
  {
   "cell_type": "code",
   "execution_count": 28,
   "id": "e4351bd3",
   "metadata": {},
   "outputs": [
    {
     "data": {
      "text/plain": [
       "first owner             29964\n",
       "second owner             2564\n",
       "third owner               108\n",
       "fourth owner or more       12\n",
       "Name: owner, dtype: int64"
      ]
     },
     "execution_count": 28,
     "metadata": {},
     "output_type": "execute_result"
    }
   ],
   "source": [
    "df['owner'].value_counts()"
   ]
  },
  {
   "cell_type": "code",
   "execution_count": 29,
   "id": "e6f4acbc",
   "metadata": {},
   "outputs": [
    {
     "data": {
      "text/plain": [
       "first owner             29964\n",
       "second owner or more     2684\n",
       "Name: owner, dtype: int64"
      ]
     },
     "execution_count": 29,
     "metadata": {},
     "output_type": "execute_result"
    }
   ],
   "source": [
    "df['owner'].replace(['second owner','third owner','fourth owner or more'],'second owner or more',inplace=True)\n",
    "df['owner'].value_counts()"
   ]
  },
  {
   "cell_type": "code",
   "execution_count": 30,
   "id": "d35d79d3",
   "metadata": {},
   "outputs": [
    {
     "data": {
      "text/html": [
       "<div>\n",
       "<style scoped>\n",
       "    .dataframe tbody tr th:only-of-type {\n",
       "        vertical-align: middle;\n",
       "    }\n",
       "\n",
       "    .dataframe tbody tr th {\n",
       "        vertical-align: top;\n",
       "    }\n",
       "\n",
       "    .dataframe thead th {\n",
       "        text-align: right;\n",
       "    }\n",
       "</style>\n",
       "<table border=\"1\" class=\"dataframe\">\n",
       "  <thead>\n",
       "    <tr style=\"text-align: right;\">\n",
       "      <th></th>\n",
       "      <th>price</th>\n",
       "      <th>city</th>\n",
       "      <th>kms_driven</th>\n",
       "      <th>owner</th>\n",
       "      <th>age</th>\n",
       "      <th>power</th>\n",
       "      <th>brand</th>\n",
       "      <th>Bike_model</th>\n",
       "    </tr>\n",
       "  </thead>\n",
       "  <tbody>\n",
       "    <tr>\n",
       "      <th>2126</th>\n",
       "      <td>670000.0</td>\n",
       "      <td>other</td>\n",
       "      <td>1210.0</td>\n",
       "      <td>first owner</td>\n",
       "      <td>5.0</td>\n",
       "      <td>883.0</td>\n",
       "      <td>harley-davidson</td>\n",
       "      <td>not so popular model</td>\n",
       "    </tr>\n",
       "    <tr>\n",
       "      <th>28739</th>\n",
       "      <td>70000.0</td>\n",
       "      <td>mumbai</td>\n",
       "      <td>13858.0</td>\n",
       "      <td>second owner or more</td>\n",
       "      <td>11.0</td>\n",
       "      <td>350.0</td>\n",
       "      <td>royal enfield</td>\n",
       "      <td>thunderbird 350cc</td>\n",
       "    </tr>\n",
       "    <tr>\n",
       "      <th>20684</th>\n",
       "      <td>48000.0</td>\n",
       "      <td>allahabad</td>\n",
       "      <td>41939.0</td>\n",
       "      <td>first owner</td>\n",
       "      <td>8.0</td>\n",
       "      <td>200.0</td>\n",
       "      <td>bajaj</td>\n",
       "      <td>pulsar ns200</td>\n",
       "    </tr>\n",
       "    <tr>\n",
       "      <th>10537</th>\n",
       "      <td>18000.0</td>\n",
       "      <td>hyderabad</td>\n",
       "      <td>3869.0</td>\n",
       "      <td>first owner</td>\n",
       "      <td>16.0</td>\n",
       "      <td>100.0</td>\n",
       "      <td>hero</td>\n",
       "      <td>passion 100cc</td>\n",
       "    </tr>\n",
       "    <tr>\n",
       "      <th>9676</th>\n",
       "      <td>22000.0</td>\n",
       "      <td>pune</td>\n",
       "      <td>60857.0</td>\n",
       "      <td>first owner</td>\n",
       "      <td>13.0</td>\n",
       "      <td>150.0</td>\n",
       "      <td>bajaj</td>\n",
       "      <td>pulsar 150cc</td>\n",
       "    </tr>\n",
       "    <tr>\n",
       "      <th>9001</th>\n",
       "      <td>125000.0</td>\n",
       "      <td>chennai</td>\n",
       "      <td>13500.0</td>\n",
       "      <td>first owner</td>\n",
       "      <td>7.0</td>\n",
       "      <td>500.0</td>\n",
       "      <td>royal enfield</td>\n",
       "      <td>not so popular model</td>\n",
       "    </tr>\n",
       "    <tr>\n",
       "      <th>30772</th>\n",
       "      <td>70000.0</td>\n",
       "      <td>mumbai</td>\n",
       "      <td>13858.0</td>\n",
       "      <td>second owner or more</td>\n",
       "      <td>11.0</td>\n",
       "      <td>350.0</td>\n",
       "      <td>royal enfield</td>\n",
       "      <td>thunderbird 350cc</td>\n",
       "    </tr>\n",
       "    <tr>\n",
       "      <th>17186</th>\n",
       "      <td>105000.0</td>\n",
       "      <td>delhi</td>\n",
       "      <td>20000.0</td>\n",
       "      <td>first owner</td>\n",
       "      <td>4.0</td>\n",
       "      <td>350.0</td>\n",
       "      <td>royal enfield</td>\n",
       "      <td>bullet electra 350cc</td>\n",
       "    </tr>\n",
       "    <tr>\n",
       "      <th>15725</th>\n",
       "      <td>48000.0</td>\n",
       "      <td>allahabad</td>\n",
       "      <td>41939.0</td>\n",
       "      <td>first owner</td>\n",
       "      <td>8.0</td>\n",
       "      <td>200.0</td>\n",
       "      <td>bajaj</td>\n",
       "      <td>pulsar ns200</td>\n",
       "    </tr>\n",
       "    <tr>\n",
       "      <th>17559</th>\n",
       "      <td>450000.0</td>\n",
       "      <td>jodhpur</td>\n",
       "      <td>3430.0</td>\n",
       "      <td>first owner</td>\n",
       "      <td>4.0</td>\n",
       "      <td>750.0</td>\n",
       "      <td>harley-davidson</td>\n",
       "      <td>street 750 abs</td>\n",
       "    </tr>\n",
       "  </tbody>\n",
       "</table>\n",
       "</div>"
      ],
      "text/plain": [
       "          price       city  kms_driven                 owner   age  power  \\\n",
       "2126   670000.0      other      1210.0           first owner   5.0  883.0   \n",
       "28739   70000.0     mumbai     13858.0  second owner or more  11.0  350.0   \n",
       "20684   48000.0  allahabad     41939.0           first owner   8.0  200.0   \n",
       "10537   18000.0  hyderabad      3869.0           first owner  16.0  100.0   \n",
       "9676    22000.0       pune     60857.0           first owner  13.0  150.0   \n",
       "9001   125000.0    chennai     13500.0           first owner   7.0  500.0   \n",
       "30772   70000.0     mumbai     13858.0  second owner or more  11.0  350.0   \n",
       "17186  105000.0      delhi     20000.0           first owner   4.0  350.0   \n",
       "15725   48000.0  allahabad     41939.0           first owner   8.0  200.0   \n",
       "17559  450000.0    jodhpur      3430.0           first owner   4.0  750.0   \n",
       "\n",
       "                 brand            Bike_model  \n",
       "2126   harley-davidson  not so popular model  \n",
       "28739    royal enfield     thunderbird 350cc  \n",
       "20684            bajaj          pulsar ns200  \n",
       "10537             hero         passion 100cc  \n",
       "9676             bajaj          pulsar 150cc  \n",
       "9001     royal enfield  not so popular model  \n",
       "30772    royal enfield     thunderbird 350cc  \n",
       "17186    royal enfield  bullet electra 350cc  \n",
       "15725            bajaj          pulsar ns200  \n",
       "17559  harley-davidson        street 750 abs  "
      ]
     },
     "execution_count": 30,
     "metadata": {},
     "output_type": "execute_result"
    }
   ],
   "source": [
    "df.sample(n=10)"
   ]
  },
  {
   "cell_type": "markdown",
   "id": "7b7cd992",
   "metadata": {},
   "source": [
    "## Average Features For Different Brands "
   ]
  },
  {
   "cell_type": "code",
   "execution_count": 31,
   "id": "6aaac9f9",
   "metadata": {},
   "outputs": [],
   "source": [
    "group = df.groupby(['brand'])\n",
    "def average_per_brand(col,scale=None):\n",
    "    brands = df['brand'].unique()\n",
    "    avgs = []\n",
    "    for brand in brands:\n",
    "        average = group.get_group(brand)[col].mean()\n",
    "        avgs.append(average)\n",
    "    df1 = pd.DataFrame({\"Brand\":brands,f\"Average {col}\":avgs})\n",
    "    \n",
    "    x = df1[df1.columns[1]]\n",
    "    y = df1[df1.columns[0]]\n",
    "    plt.figure(figsize=(18,6))\n",
    "    plt.bar(y,x)\n",
    "    plt.title(f\"Average {col} of various brands\")\n",
    "    plt.ylabel(col)\n",
    "    plt.show()"
   ]
  },
  {
   "cell_type": "code",
   "execution_count": 32,
   "id": "e9b71af2",
   "metadata": {},
   "outputs": [
    {
     "data": {
      "image/png": "[encoded data removed]",
      "text/plain": [
       "<Figure size 1296x432 with 1 Axes>"
      ]
     },
     "metadata": {
      "needs_background": "light"
     },
     "output_type": "display_data"
    }
   ],
   "source": [
    "average_per_brand('age')"
   ]
  },
  {
   "cell_type": "code",
   "execution_count": 33,
   "id": "5e49bfe2",
   "metadata": {},
   "outputs": [
    {
     "data": {
      "image/png": "[encoded data removed]",
      "text/plain": [
       "<Figure size 1296x432 with 1 Axes>"
      ]
     },
     "metadata": {
      "needs_background": "light"
     },
     "output_type": "display_data"
    }
   ],
   "source": [
    "average_per_brand('price')"
   ]
  },
  {
   "cell_type": "code",
   "execution_count": 34,
   "id": "79da2ed8",
   "metadata": {},
   "outputs": [
    {
     "data": {
      "image/png": "[encoded data removed]",
      "text/plain": [
       "<Figure size 1296x432 with 1 Axes>"
      ]
     },
     "metadata": {
      "needs_background": "light"
     },
     "output_type": "display_data"
    }
   ],
   "source": [
    "average_per_brand('kms_driven')"
   ]
  },
  {
   "cell_type": "code",
   "execution_count": 35,
   "id": "238d6445",
   "metadata": {},
   "outputs": [
    {
     "data": {
      "image/png": "[encoded data removed]",
      "text/plain": [
       "<Figure size 1296x432 with 1 Axes>"
      ]
     },
     "metadata": {
      "needs_background": "light"
     },
     "output_type": "display_data"
    }
   ],
   "source": [
    "average_per_brand('power')"
   ]
  },
  {
   "cell_type": "markdown",
   "id": "969a5a90",
   "metadata": {},
   "source": [
    "## Outlier Removal"
   ]
  },
  {
   "cell_type": "code",
   "execution_count": 36,
   "id": "2d641df2",
   "metadata": {},
   "outputs": [],
   "source": [
    "numerical_cols = np.array(['price','kms_driven','age','power'])"
   ]
  },
  {
   "cell_type": "code",
   "execution_count": 37,
   "id": "3119e605",
   "metadata": {},
   "outputs": [
    {
     "data": {
      "text/plain": [
       "'kms_driven'"
      ]
     },
     "execution_count": 37,
     "metadata": {},
     "output_type": "execute_result"
    }
   ],
   "source": [
    "numerical_cols[1]"
   ]
  },
  {
   "cell_type": "code",
   "execution_count": 38,
   "id": "139fdeb3",
   "metadata": {},
   "outputs": [],
   "source": [
    "def outlier_removal(df,col):\n",
    "    m = df[col].mean()\n",
    "    st = df[col].std()\n",
    "    \n",
    "    a = m - 2*st\n",
    "    b = m + 2*st\n",
    "    df = df[(df[col] >= m-2*st) & (df[col] <= m+2*st)]\n",
    "    print('Outliers from \"{}\" are removed\\n'.format(col))\n",
    "    df[col].hist()\n",
    "    return df"
   ]
  },
  {
   "cell_type": "code",
   "execution_count": 39,
   "id": "895ac9f3",
   "metadata": {},
   "outputs": [
    {
     "data": {
      "text/plain": [
       "(32648, 8)"
      ]
     },
     "execution_count": 39,
     "metadata": {},
     "output_type": "execute_result"
    }
   ],
   "source": [
    "df.shape"
   ]
  },
  {
   "cell_type": "code",
   "execution_count": 40,
   "id": "f081738f",
   "metadata": {},
   "outputs": [
    {
     "name": "stdout",
     "output_type": "stream",
     "text": [
      "Outliers from \"kms_driven\" are removed\n",
      "\n"
     ]
    },
    {
     "data": {
      "image/png": "[encoded data removed]",
      "text/plain": [
       "<Figure size 432x288 with 1 Axes>"
      ]
     },
     "metadata": {
      "needs_background": "light"
     },
     "output_type": "display_data"
    }
   ],
   "source": [
    "df_new = outlier_removal(df,numerical_cols[1])"
   ]
  },
  {
   "cell_type": "code",
   "execution_count": 41,
   "id": "c4b27941",
   "metadata": {},
   "outputs": [
    {
     "name": "stdout",
     "output_type": "stream",
     "text": [
      "Outliers from \"age\" are removed\n",
      "\n"
     ]
    },
    {
     "data": {
      "image/png": "[encoded data removed]",
      "text/plain": [
       "<Figure size 432x288 with 1 Axes>"
      ]
     },
     "metadata": {
      "needs_background": "light"
     },
     "output_type": "display_data"
    }
   ],
   "source": [
    "df_new = outlier_removal(df_new,numerical_cols[2])"
   ]
  },
  {
   "cell_type": "code",
   "execution_count": 42,
   "id": "f58cccc7",
   "metadata": {},
   "outputs": [
    {
     "name": "stdout",
     "output_type": "stream",
     "text": [
      "Outliers from \"power\" are removed\n",
      "\n"
     ]
    },
    {
     "data": {
      "image/png": "[encoded data removed]",
      "text/plain": [
       "<Figure size 432x288 with 1 Axes>"
      ]
     },
     "metadata": {
      "needs_background": "light"
     },
     "output_type": "display_data"
    }
   ],
   "source": [
    "df_new = outlier_removal(df_new,numerical_cols[3])"
   ]
  },
  {
   "cell_type": "code",
   "execution_count": 43,
   "id": "69eddb94",
   "metadata": {},
   "outputs": [
    {
     "data": {
      "text/html": [
       "<div>\n",
       "<style scoped>\n",
       "    .dataframe tbody tr th:only-of-type {\n",
       "        vertical-align: middle;\n",
       "    }\n",
       "\n",
       "    .dataframe tbody tr th {\n",
       "        vertical-align: top;\n",
       "    }\n",
       "\n",
       "    .dataframe thead th {\n",
       "        text-align: right;\n",
       "    }\n",
       "</style>\n",
       "<table border=\"1\" class=\"dataframe\">\n",
       "  <thead>\n",
       "    <tr style=\"text-align: right;\">\n",
       "      <th></th>\n",
       "      <th>price</th>\n",
       "      <th>kms_driven</th>\n",
       "      <th>age</th>\n",
       "      <th>power</th>\n",
       "    </tr>\n",
       "  </thead>\n",
       "  <tbody>\n",
       "    <tr>\n",
       "      <th>count</th>\n",
       "      <td>2.910900e+04</td>\n",
       "      <td>29109.000000</td>\n",
       "      <td>29109.000000</td>\n",
       "      <td>29109.000000</td>\n",
       "    </tr>\n",
       "    <tr>\n",
       "      <th>mean</th>\n",
       "      <td>5.756198e+04</td>\n",
       "      <td>25456.672438</td>\n",
       "      <td>7.541688</td>\n",
       "      <td>198.903775</td>\n",
       "    </tr>\n",
       "    <tr>\n",
       "      <th>std</th>\n",
       "      <td>4.329741e+04</td>\n",
       "      <td>17096.890127</td>\n",
       "      <td>3.275614</td>\n",
       "      <td>87.835344</td>\n",
       "    </tr>\n",
       "    <tr>\n",
       "      <th>min</th>\n",
       "      <td>5.800000e+03</td>\n",
       "      <td>1.000000</td>\n",
       "      <td>1.000000</td>\n",
       "      <td>100.000000</td>\n",
       "    </tr>\n",
       "    <tr>\n",
       "      <th>25%</th>\n",
       "      <td>2.500000e+04</td>\n",
       "      <td>13216.000000</td>\n",
       "      <td>5.000000</td>\n",
       "      <td>150.000000</td>\n",
       "    </tr>\n",
       "    <tr>\n",
       "      <th>50%</th>\n",
       "      <td>4.460000e+04</td>\n",
       "      <td>20373.000000</td>\n",
       "      <td>7.000000</td>\n",
       "      <td>150.000000</td>\n",
       "    </tr>\n",
       "    <tr>\n",
       "      <th>75%</th>\n",
       "      <td>8.000000e+04</td>\n",
       "      <td>34968.000000</td>\n",
       "      <td>9.000000</td>\n",
       "      <td>220.000000</td>\n",
       "    </tr>\n",
       "    <tr>\n",
       "      <th>max</th>\n",
       "      <td>1.100000e+06</td>\n",
       "      <td>70756.000000</td>\n",
       "      <td>15.000000</td>\n",
       "      <td>410.000000</td>\n",
       "    </tr>\n",
       "  </tbody>\n",
       "</table>\n",
       "</div>"
      ],
      "text/plain": [
       "              price    kms_driven           age         power\n",
       "count  2.910900e+04  29109.000000  29109.000000  29109.000000\n",
       "mean   5.756198e+04  25456.672438      7.541688    198.903775\n",
       "std    4.329741e+04  17096.890127      3.275614     87.835344\n",
       "min    5.800000e+03      1.000000      1.000000    100.000000\n",
       "25%    2.500000e+04  13216.000000      5.000000    150.000000\n",
       "50%    4.460000e+04  20373.000000      7.000000    150.000000\n",
       "75%    8.000000e+04  34968.000000      9.000000    220.000000\n",
       "max    1.100000e+06  70756.000000     15.000000    410.000000"
      ]
     },
     "execution_count": 43,
     "metadata": {},
     "output_type": "execute_result"
    }
   ],
   "source": [
    "df_new.describe()"
   ]
  },
  {
   "cell_type": "code",
   "execution_count": 44,
   "id": "a2466dc1",
   "metadata": {},
   "outputs": [
    {
     "data": {
      "text/plain": [
       "(29109, 8)"
      ]
     },
     "execution_count": 44,
     "metadata": {},
     "output_type": "execute_result"
    }
   ],
   "source": [
    "df_new.shape"
   ]
  },
  {
   "cell_type": "code",
   "execution_count": 45,
   "id": "99d0ef8d",
   "metadata": {},
   "outputs": [
    {
     "data": {
      "text/html": [
       "<div>\n",
       "<style scoped>\n",
       "    .dataframe tbody tr th:only-of-type {\n",
       "        vertical-align: middle;\n",
       "    }\n",
       "\n",
       "    .dataframe tbody tr th {\n",
       "        vertical-align: top;\n",
       "    }\n",
       "\n",
       "    .dataframe thead th {\n",
       "        text-align: right;\n",
       "    }\n",
       "</style>\n",
       "<table border=\"1\" class=\"dataframe\">\n",
       "  <thead>\n",
       "    <tr style=\"text-align: right;\">\n",
       "      <th></th>\n",
       "      <th>price</th>\n",
       "      <th>city</th>\n",
       "      <th>kms_driven</th>\n",
       "      <th>owner</th>\n",
       "      <th>age</th>\n",
       "      <th>power</th>\n",
       "      <th>brand</th>\n",
       "      <th>Bike_model</th>\n",
       "    </tr>\n",
       "  </thead>\n",
       "  <tbody>\n",
       "    <tr>\n",
       "      <th>0</th>\n",
       "      <td>35000.0</td>\n",
       "      <td>ahmedabad</td>\n",
       "      <td>17654.0</td>\n",
       "      <td>first owner</td>\n",
       "      <td>3.0</td>\n",
       "      <td>110.0</td>\n",
       "      <td>tvs</td>\n",
       "      <td>not so popular model</td>\n",
       "    </tr>\n",
       "    <tr>\n",
       "      <th>1</th>\n",
       "      <td>119900.0</td>\n",
       "      <td>delhi</td>\n",
       "      <td>11000.0</td>\n",
       "      <td>first owner</td>\n",
       "      <td>4.0</td>\n",
       "      <td>350.0</td>\n",
       "      <td>royal enfield</td>\n",
       "      <td>classic 350cc</td>\n",
       "    </tr>\n",
       "    <tr>\n",
       "      <th>3</th>\n",
       "      <td>65000.0</td>\n",
       "      <td>bangalore</td>\n",
       "      <td>16329.0</td>\n",
       "      <td>first owner</td>\n",
       "      <td>4.0</td>\n",
       "      <td>180.0</td>\n",
       "      <td>tvs</td>\n",
       "      <td>apache rtr 180cc</td>\n",
       "    </tr>\n",
       "    <tr>\n",
       "      <th>4</th>\n",
       "      <td>80000.0</td>\n",
       "      <td>bangalore</td>\n",
       "      <td>10000.0</td>\n",
       "      <td>first owner</td>\n",
       "      <td>3.0</td>\n",
       "      <td>150.0</td>\n",
       "      <td>yamaha</td>\n",
       "      <td>not so popular model</td>\n",
       "    </tr>\n",
       "    <tr>\n",
       "      <th>5</th>\n",
       "      <td>53499.0</td>\n",
       "      <td>delhi</td>\n",
       "      <td>25000.0</td>\n",
       "      <td>first owner</td>\n",
       "      <td>6.0</td>\n",
       "      <td>150.0</td>\n",
       "      <td>yamaha</td>\n",
       "      <td>not so popular model</td>\n",
       "    </tr>\n",
       "  </tbody>\n",
       "</table>\n",
       "</div>"
      ],
      "text/plain": [
       "      price       city  kms_driven        owner  age  power          brand  \\\n",
       "0   35000.0  ahmedabad     17654.0  first owner  3.0  110.0            tvs   \n",
       "1  119900.0      delhi     11000.0  first owner  4.0  350.0  royal enfield   \n",
       "3   65000.0  bangalore     16329.0  first owner  4.0  180.0            tvs   \n",
       "4   80000.0  bangalore     10000.0  first owner  3.0  150.0         yamaha   \n",
       "5   53499.0      delhi     25000.0  first owner  6.0  150.0         yamaha   \n",
       "\n",
       "             Bike_model  \n",
       "0  not so popular model  \n",
       "1         classic 350cc  \n",
       "3      apache rtr 180cc  \n",
       "4  not so popular model  \n",
       "5  not so popular model  "
      ]
     },
     "execution_count": 45,
     "metadata": {},
     "output_type": "execute_result"
    }
   ],
   "source": [
    "df_new.head(n=5)"
   ]
  },
  {
   "cell_type": "markdown",
   "id": "39b1e2f4",
   "metadata": {},
   "source": [
    "# Data Preparation for Price Prediction"
   ]
  },
  {
   "cell_type": "markdown",
   "id": "45b02c59",
   "metadata": {},
   "source": [
    "## Using Label Encoding"
   ]
  },
  {
   "cell_type": "code",
   "execution_count": 46,
   "id": "1b53a2cc",
   "metadata": {},
   "outputs": [
    {
     "data": {
      "text/html": [
       "<div>\n",
       "<style scoped>\n",
       "    .dataframe tbody tr th:only-of-type {\n",
       "        vertical-align: middle;\n",
       "    }\n",
       "\n",
       "    .dataframe tbody tr th {\n",
       "        vertical-align: top;\n",
       "    }\n",
       "\n",
       "    .dataframe thead th {\n",
       "        text-align: right;\n",
       "    }\n",
       "</style>\n",
       "<table border=\"1\" class=\"dataframe\">\n",
       "  <thead>\n",
       "    <tr style=\"text-align: right;\">\n",
       "      <th></th>\n",
       "      <th>price</th>\n",
       "      <th>city</th>\n",
       "      <th>kms_driven</th>\n",
       "      <th>owner</th>\n",
       "      <th>age</th>\n",
       "      <th>power</th>\n",
       "      <th>brand</th>\n",
       "      <th>Bike_model</th>\n",
       "    </tr>\n",
       "  </thead>\n",
       "  <tbody>\n",
       "    <tr>\n",
       "      <th>0</th>\n",
       "      <td>35000.0</td>\n",
       "      <td>ahmedabad</td>\n",
       "      <td>17654.0</td>\n",
       "      <td>first owner</td>\n",
       "      <td>3.0</td>\n",
       "      <td>110.0</td>\n",
       "      <td>tvs</td>\n",
       "      <td>not so popular model</td>\n",
       "    </tr>\n",
       "    <tr>\n",
       "      <th>1</th>\n",
       "      <td>119900.0</td>\n",
       "      <td>delhi</td>\n",
       "      <td>11000.0</td>\n",
       "      <td>first owner</td>\n",
       "      <td>4.0</td>\n",
       "      <td>350.0</td>\n",
       "      <td>royal enfield</td>\n",
       "      <td>classic 350cc</td>\n",
       "    </tr>\n",
       "    <tr>\n",
       "      <th>3</th>\n",
       "      <td>65000.0</td>\n",
       "      <td>bangalore</td>\n",
       "      <td>16329.0</td>\n",
       "      <td>first owner</td>\n",
       "      <td>4.0</td>\n",
       "      <td>180.0</td>\n",
       "      <td>tvs</td>\n",
       "      <td>apache rtr 180cc</td>\n",
       "    </tr>\n",
       "    <tr>\n",
       "      <th>4</th>\n",
       "      <td>80000.0</td>\n",
       "      <td>bangalore</td>\n",
       "      <td>10000.0</td>\n",
       "      <td>first owner</td>\n",
       "      <td>3.0</td>\n",
       "      <td>150.0</td>\n",
       "      <td>yamaha</td>\n",
       "      <td>not so popular model</td>\n",
       "    </tr>\n",
       "    <tr>\n",
       "      <th>5</th>\n",
       "      <td>53499.0</td>\n",
       "      <td>delhi</td>\n",
       "      <td>25000.0</td>\n",
       "      <td>first owner</td>\n",
       "      <td>6.0</td>\n",
       "      <td>150.0</td>\n",
       "      <td>yamaha</td>\n",
       "      <td>not so popular model</td>\n",
       "    </tr>\n",
       "    <tr>\n",
       "      <th>...</th>\n",
       "      <td>...</td>\n",
       "      <td>...</td>\n",
       "      <td>...</td>\n",
       "      <td>...</td>\n",
       "      <td>...</td>\n",
       "      <td>...</td>\n",
       "      <td>...</td>\n",
       "      <td>...</td>\n",
       "    </tr>\n",
       "    <tr>\n",
       "      <th>32641</th>\n",
       "      <td>41000.0</td>\n",
       "      <td>delhi</td>\n",
       "      <td>20245.0</td>\n",
       "      <td>second owner or more</td>\n",
       "      <td>11.0</td>\n",
       "      <td>220.0</td>\n",
       "      <td>bajaj</td>\n",
       "      <td>avenger 220cc</td>\n",
       "    </tr>\n",
       "    <tr>\n",
       "      <th>32643</th>\n",
       "      <td>39000.0</td>\n",
       "      <td>delhi</td>\n",
       "      <td>22000.0</td>\n",
       "      <td>first owner</td>\n",
       "      <td>4.0</td>\n",
       "      <td>100.0</td>\n",
       "      <td>hero</td>\n",
       "      <td>passion pro 100cc</td>\n",
       "    </tr>\n",
       "    <tr>\n",
       "      <th>32644</th>\n",
       "      <td>30000.0</td>\n",
       "      <td>karnal</td>\n",
       "      <td>6639.0</td>\n",
       "      <td>first owner</td>\n",
       "      <td>9.0</td>\n",
       "      <td>180.0</td>\n",
       "      <td>tvs</td>\n",
       "      <td>apache rtr 180cc</td>\n",
       "    </tr>\n",
       "    <tr>\n",
       "      <th>32645</th>\n",
       "      <td>60000.0</td>\n",
       "      <td>delhi</td>\n",
       "      <td>20373.0</td>\n",
       "      <td>first owner</td>\n",
       "      <td>6.0</td>\n",
       "      <td>220.0</td>\n",
       "      <td>bajaj</td>\n",
       "      <td>avenger street 220</td>\n",
       "    </tr>\n",
       "    <tr>\n",
       "      <th>32647</th>\n",
       "      <td>22000.0</td>\n",
       "      <td>pune</td>\n",
       "      <td>60857.0</td>\n",
       "      <td>first owner</td>\n",
       "      <td>13.0</td>\n",
       "      <td>150.0</td>\n",
       "      <td>bajaj</td>\n",
       "      <td>pulsar 150cc</td>\n",
       "    </tr>\n",
       "  </tbody>\n",
       "</table>\n",
       "<p>29109 rows × 8 columns</p>\n",
       "</div>"
      ],
      "text/plain": [
       "          price       city  kms_driven                 owner   age  power  \\\n",
       "0       35000.0  ahmedabad     17654.0           first owner   3.0  110.0   \n",
       "1      119900.0      delhi     11000.0           first owner   4.0  350.0   \n",
       "3       65000.0  bangalore     16329.0           first owner   4.0  180.0   \n",
       "4       80000.0  bangalore     10000.0           first owner   3.0  150.0   \n",
       "5       53499.0      delhi     25000.0           first owner   6.0  150.0   \n",
       "...         ...        ...         ...                   ...   ...    ...   \n",
       "32641   41000.0      delhi     20245.0  second owner or more  11.0  220.0   \n",
       "32643   39000.0      delhi     22000.0           first owner   4.0  100.0   \n",
       "32644   30000.0     karnal      6639.0           first owner   9.0  180.0   \n",
       "32645   60000.0      delhi     20373.0           first owner   6.0  220.0   \n",
       "32647   22000.0       pune     60857.0           first owner  13.0  150.0   \n",
       "\n",
       "               brand            Bike_model  \n",
       "0                tvs  not so popular model  \n",
       "1      royal enfield         classic 350cc  \n",
       "3                tvs      apache rtr 180cc  \n",
       "4             yamaha  not so popular model  \n",
       "5             yamaha  not so popular model  \n",
       "...              ...                   ...  \n",
       "32641          bajaj         avenger 220cc  \n",
       "32643           hero     passion pro 100cc  \n",
       "32644            tvs      apache rtr 180cc  \n",
       "32645          bajaj    avenger street 220  \n",
       "32647          bajaj          pulsar 150cc  \n",
       "\n",
       "[29109 rows x 8 columns]"
      ]
     },
     "execution_count": 46,
     "metadata": {},
     "output_type": "execute_result"
    }
   ],
   "source": [
    "df_new"
   ]
  },
  {
   "cell_type": "code",
   "execution_count": 47,
   "id": "9216bd9b",
   "metadata": {},
   "outputs": [],
   "source": [
    "df_new['Bike_model'] = df_new['Bike_model'].str.strip()\n",
    "df_new['Bike_model'] = df_new['Bike_model'].str.lower()\n",
    "\n",
    "df_new['city'] = df_new['city'].str.strip()\n",
    "df_new['city'] = df_new['city'].str.lower()"
   ]
  },
  {
   "cell_type": "code",
   "execution_count": 48,
   "id": "0cdb245f",
   "metadata": {},
   "outputs": [
    {
     "data": {
      "text/html": [
       "<div>\n",
       "<style scoped>\n",
       "    .dataframe tbody tr th:only-of-type {\n",
       "        vertical-align: middle;\n",
       "    }\n",
       "\n",
       "    .dataframe tbody tr th {\n",
       "        vertical-align: top;\n",
       "    }\n",
       "\n",
       "    .dataframe thead th {\n",
       "        text-align: right;\n",
       "    }\n",
       "</style>\n",
       "<table border=\"1\" class=\"dataframe\">\n",
       "  <thead>\n",
       "    <tr style=\"text-align: right;\">\n",
       "      <th></th>\n",
       "      <th>price</th>\n",
       "      <th>city</th>\n",
       "      <th>kms_driven</th>\n",
       "      <th>owner</th>\n",
       "      <th>age</th>\n",
       "      <th>power</th>\n",
       "      <th>brand</th>\n",
       "      <th>Bike_model</th>\n",
       "    </tr>\n",
       "  </thead>\n",
       "  <tbody>\n",
       "    <tr>\n",
       "      <th>0</th>\n",
       "      <td>35000.0</td>\n",
       "      <td>ahmedabad</td>\n",
       "      <td>17654.0</td>\n",
       "      <td>first owner</td>\n",
       "      <td>3.0</td>\n",
       "      <td>110.0</td>\n",
       "      <td>tvs</td>\n",
       "      <td>not so popular model</td>\n",
       "    </tr>\n",
       "    <tr>\n",
       "      <th>1</th>\n",
       "      <td>119900.0</td>\n",
       "      <td>delhi</td>\n",
       "      <td>11000.0</td>\n",
       "      <td>first owner</td>\n",
       "      <td>4.0</td>\n",
       "      <td>350.0</td>\n",
       "      <td>royal enfield</td>\n",
       "      <td>classic 350cc</td>\n",
       "    </tr>\n",
       "    <tr>\n",
       "      <th>3</th>\n",
       "      <td>65000.0</td>\n",
       "      <td>bangalore</td>\n",
       "      <td>16329.0</td>\n",
       "      <td>first owner</td>\n",
       "      <td>4.0</td>\n",
       "      <td>180.0</td>\n",
       "      <td>tvs</td>\n",
       "      <td>apache rtr 180cc</td>\n",
       "    </tr>\n",
       "    <tr>\n",
       "      <th>4</th>\n",
       "      <td>80000.0</td>\n",
       "      <td>bangalore</td>\n",
       "      <td>10000.0</td>\n",
       "      <td>first owner</td>\n",
       "      <td>3.0</td>\n",
       "      <td>150.0</td>\n",
       "      <td>yamaha</td>\n",
       "      <td>not so popular model</td>\n",
       "    </tr>\n",
       "    <tr>\n",
       "      <th>5</th>\n",
       "      <td>53499.0</td>\n",
       "      <td>delhi</td>\n",
       "      <td>25000.0</td>\n",
       "      <td>first owner</td>\n",
       "      <td>6.0</td>\n",
       "      <td>150.0</td>\n",
       "      <td>yamaha</td>\n",
       "      <td>not so popular model</td>\n",
       "    </tr>\n",
       "  </tbody>\n",
       "</table>\n",
       "</div>"
      ],
      "text/plain": [
       "      price       city  kms_driven        owner  age  power          brand  \\\n",
       "0   35000.0  ahmedabad     17654.0  first owner  3.0  110.0            tvs   \n",
       "1  119900.0      delhi     11000.0  first owner  4.0  350.0  royal enfield   \n",
       "3   65000.0  bangalore     16329.0  first owner  4.0  180.0            tvs   \n",
       "4   80000.0  bangalore     10000.0  first owner  3.0  150.0         yamaha   \n",
       "5   53499.0      delhi     25000.0  first owner  6.0  150.0         yamaha   \n",
       "\n",
       "             Bike_model  \n",
       "0  not so popular model  \n",
       "1         classic 350cc  \n",
       "3      apache rtr 180cc  \n",
       "4  not so popular model  \n",
       "5  not so popular model  "
      ]
     },
     "execution_count": 48,
     "metadata": {},
     "output_type": "execute_result"
    }
   ],
   "source": [
    "df_new.head(n=5)"
   ]
  },
  {
   "cell_type": "code",
   "execution_count": 49,
   "id": "31b09e72",
   "metadata": {},
   "outputs": [],
   "source": [
    "df_labeled = pd.DataFrame()\n",
    "categorical_columns = np.array(['city','owner','brand','Bike_model'])\n",
    "from sklearn.preprocessing import LabelEncoder\n",
    "le = LabelEncoder()\n",
    "for i in range(4):\n",
    "    df_labeled[categorical_columns[i]] = le.fit_transform(df_new.loc[: , categorical_columns[i]])"
   ]
  },
  {
   "cell_type": "code",
   "execution_count": 50,
   "id": "638232a2",
   "metadata": {},
   "outputs": [
    {
     "data": {
      "text/html": [
       "<div>\n",
       "<style scoped>\n",
       "    .dataframe tbody tr th:only-of-type {\n",
       "        vertical-align: middle;\n",
       "    }\n",
       "\n",
       "    .dataframe tbody tr th {\n",
       "        vertical-align: top;\n",
       "    }\n",
       "\n",
       "    .dataframe thead th {\n",
       "        text-align: right;\n",
       "    }\n",
       "</style>\n",
       "<table border=\"1\" class=\"dataframe\">\n",
       "  <thead>\n",
       "    <tr style=\"text-align: right;\">\n",
       "      <th></th>\n",
       "      <th>city</th>\n",
       "      <th>owner</th>\n",
       "      <th>brand</th>\n",
       "      <th>Bike_model</th>\n",
       "    </tr>\n",
       "  </thead>\n",
       "  <tbody>\n",
       "    <tr>\n",
       "      <th>0</th>\n",
       "      <td>0</td>\n",
       "      <td>0</td>\n",
       "      <td>8</td>\n",
       "      <td>14</td>\n",
       "    </tr>\n",
       "    <tr>\n",
       "      <th>1</th>\n",
       "      <td>5</td>\n",
       "      <td>0</td>\n",
       "      <td>6</td>\n",
       "      <td>8</td>\n",
       "    </tr>\n",
       "    <tr>\n",
       "      <th>2</th>\n",
       "      <td>2</td>\n",
       "      <td>0</td>\n",
       "      <td>8</td>\n",
       "      <td>0</td>\n",
       "    </tr>\n",
       "    <tr>\n",
       "      <th>3</th>\n",
       "      <td>2</td>\n",
       "      <td>0</td>\n",
       "      <td>9</td>\n",
       "      <td>14</td>\n",
       "    </tr>\n",
       "    <tr>\n",
       "      <th>4</th>\n",
       "      <td>5</td>\n",
       "      <td>0</td>\n",
       "      <td>9</td>\n",
       "      <td>14</td>\n",
       "    </tr>\n",
       "  </tbody>\n",
       "</table>\n",
       "</div>"
      ],
      "text/plain": [
       "   city  owner  brand  Bike_model\n",
       "0     0      0      8          14\n",
       "1     5      0      6           8\n",
       "2     2      0      8           0\n",
       "3     2      0      9          14\n",
       "4     5      0      9          14"
      ]
     },
     "execution_count": 50,
     "metadata": {},
     "output_type": "execute_result"
    }
   ],
   "source": [
    "df_labeled.head(n=5)"
   ]
  },
  {
   "cell_type": "code",
   "execution_count": 51,
   "id": "515d9315",
   "metadata": {},
   "outputs": [
    {
     "data": {
      "text/html": [
       "<div>\n",
       "<style scoped>\n",
       "    .dataframe tbody tr th:only-of-type {\n",
       "        vertical-align: middle;\n",
       "    }\n",
       "\n",
       "    .dataframe tbody tr th {\n",
       "        vertical-align: top;\n",
       "    }\n",
       "\n",
       "    .dataframe thead th {\n",
       "        text-align: right;\n",
       "    }\n",
       "</style>\n",
       "<table border=\"1\" class=\"dataframe\">\n",
       "  <thead>\n",
       "    <tr style=\"text-align: right;\">\n",
       "      <th></th>\n",
       "      <th>price</th>\n",
       "      <th>kms_driven</th>\n",
       "      <th>age</th>\n",
       "      <th>power</th>\n",
       "    </tr>\n",
       "  </thead>\n",
       "  <tbody>\n",
       "    <tr>\n",
       "      <th>0</th>\n",
       "      <td>35000.0</td>\n",
       "      <td>17654.0</td>\n",
       "      <td>3.0</td>\n",
       "      <td>110.0</td>\n",
       "    </tr>\n",
       "    <tr>\n",
       "      <th>1</th>\n",
       "      <td>119900.0</td>\n",
       "      <td>11000.0</td>\n",
       "      <td>4.0</td>\n",
       "      <td>350.0</td>\n",
       "    </tr>\n",
       "    <tr>\n",
       "      <th>2</th>\n",
       "      <td>65000.0</td>\n",
       "      <td>16329.0</td>\n",
       "      <td>4.0</td>\n",
       "      <td>180.0</td>\n",
       "    </tr>\n",
       "    <tr>\n",
       "      <th>3</th>\n",
       "      <td>80000.0</td>\n",
       "      <td>10000.0</td>\n",
       "      <td>3.0</td>\n",
       "      <td>150.0</td>\n",
       "    </tr>\n",
       "    <tr>\n",
       "      <th>4</th>\n",
       "      <td>53499.0</td>\n",
       "      <td>25000.0</td>\n",
       "      <td>6.0</td>\n",
       "      <td>150.0</td>\n",
       "    </tr>\n",
       "  </tbody>\n",
       "</table>\n",
       "</div>"
      ],
      "text/plain": [
       "      price  kms_driven  age  power\n",
       "0   35000.0     17654.0  3.0  110.0\n",
       "1  119900.0     11000.0  4.0  350.0\n",
       "2   65000.0     16329.0  4.0  180.0\n",
       "3   80000.0     10000.0  3.0  150.0\n",
       "4   53499.0     25000.0  6.0  150.0"
      ]
     },
     "execution_count": 51,
     "metadata": {},
     "output_type": "execute_result"
    }
   ],
   "source": [
    "df_num = df_new[numerical_cols]\n",
    "df_num = df_num.set_index(keys=np.arange(29109))\n",
    "\n",
    "df_num.head(n=5)"
   ]
  },
  {
   "cell_type": "code",
   "execution_count": 52,
   "id": "17eeff44",
   "metadata": {},
   "outputs": [
    {
     "data": {
      "text/html": [
       "<div>\n",
       "<style scoped>\n",
       "    .dataframe tbody tr th:only-of-type {\n",
       "        vertical-align: middle;\n",
       "    }\n",
       "\n",
       "    .dataframe tbody tr th {\n",
       "        vertical-align: top;\n",
       "    }\n",
       "\n",
       "    .dataframe thead th {\n",
       "        text-align: right;\n",
       "    }\n",
       "</style>\n",
       "<table border=\"1\" class=\"dataframe\">\n",
       "  <thead>\n",
       "    <tr style=\"text-align: right;\">\n",
       "      <th></th>\n",
       "      <th>price</th>\n",
       "      <th>kms_driven</th>\n",
       "      <th>age</th>\n",
       "      <th>power</th>\n",
       "      <th>city</th>\n",
       "      <th>owner</th>\n",
       "      <th>brand</th>\n",
       "      <th>Bike_model</th>\n",
       "    </tr>\n",
       "  </thead>\n",
       "  <tbody>\n",
       "    <tr>\n",
       "      <th>0</th>\n",
       "      <td>35000.0</td>\n",
       "      <td>17654.0</td>\n",
       "      <td>3.0</td>\n",
       "      <td>110.0</td>\n",
       "      <td>0</td>\n",
       "      <td>0</td>\n",
       "      <td>8</td>\n",
       "      <td>14</td>\n",
       "    </tr>\n",
       "    <tr>\n",
       "      <th>1</th>\n",
       "      <td>119900.0</td>\n",
       "      <td>11000.0</td>\n",
       "      <td>4.0</td>\n",
       "      <td>350.0</td>\n",
       "      <td>5</td>\n",
       "      <td>0</td>\n",
       "      <td>6</td>\n",
       "      <td>8</td>\n",
       "    </tr>\n",
       "    <tr>\n",
       "      <th>2</th>\n",
       "      <td>65000.0</td>\n",
       "      <td>16329.0</td>\n",
       "      <td>4.0</td>\n",
       "      <td>180.0</td>\n",
       "      <td>2</td>\n",
       "      <td>0</td>\n",
       "      <td>8</td>\n",
       "      <td>0</td>\n",
       "    </tr>\n",
       "    <tr>\n",
       "      <th>3</th>\n",
       "      <td>80000.0</td>\n",
       "      <td>10000.0</td>\n",
       "      <td>3.0</td>\n",
       "      <td>150.0</td>\n",
       "      <td>2</td>\n",
       "      <td>0</td>\n",
       "      <td>9</td>\n",
       "      <td>14</td>\n",
       "    </tr>\n",
       "    <tr>\n",
       "      <th>4</th>\n",
       "      <td>53499.0</td>\n",
       "      <td>25000.0</td>\n",
       "      <td>6.0</td>\n",
       "      <td>150.0</td>\n",
       "      <td>5</td>\n",
       "      <td>0</td>\n",
       "      <td>9</td>\n",
       "      <td>14</td>\n",
       "    </tr>\n",
       "  </tbody>\n",
       "</table>\n",
       "</div>"
      ],
      "text/plain": [
       "      price  kms_driven  age  power  city  owner  brand  Bike_model\n",
       "0   35000.0     17654.0  3.0  110.0     0      0      8          14\n",
       "1  119900.0     11000.0  4.0  350.0     5      0      6           8\n",
       "2   65000.0     16329.0  4.0  180.0     2      0      8           0\n",
       "3   80000.0     10000.0  3.0  150.0     2      0      9          14\n",
       "4   53499.0     25000.0  6.0  150.0     5      0      9          14"
      ]
     },
     "execution_count": 52,
     "metadata": {},
     "output_type": "execute_result"
    }
   ],
   "source": [
    "df_labeled = pd.concat((df_num,df_labeled),axis='columns')\n",
    "df_labeled.head(n=5)"
   ]
  },
  {
   "cell_type": "code",
   "execution_count": 53,
   "id": "b97c5c96",
   "metadata": {},
   "outputs": [],
   "source": [
    "data = df_labeled.values"
   ]
  },
  {
   "cell_type": "code",
   "execution_count": 54,
   "id": "09c9e023",
   "metadata": {},
   "outputs": [],
   "source": [
    "X = data[: , 1:]\n",
    "Y = data[: , 0]"
   ]
  },
  {
   "cell_type": "code",
   "execution_count": 55,
   "id": "a53acf0e",
   "metadata": {},
   "outputs": [
    {
     "data": {
      "text/plain": [
       "array([[1.7654e+04, 3.0000e+00, 1.1000e+02, ..., 0.0000e+00, 8.0000e+00,\n",
       "        1.4000e+01],\n",
       "       [1.1000e+04, 4.0000e+00, 3.5000e+02, ..., 0.0000e+00, 6.0000e+00,\n",
       "        8.0000e+00],\n",
       "       [1.6329e+04, 4.0000e+00, 1.8000e+02, ..., 0.0000e+00, 8.0000e+00,\n",
       "        0.0000e+00],\n",
       "       ...,\n",
       "       [6.6390e+03, 9.0000e+00, 1.8000e+02, ..., 0.0000e+00, 8.0000e+00,\n",
       "        0.0000e+00],\n",
       "       [2.0373e+04, 6.0000e+00, 2.2000e+02, ..., 0.0000e+00, 0.0000e+00,\n",
       "        2.0000e+00],\n",
       "       [6.0857e+04, 1.3000e+01, 1.5000e+02, ..., 0.0000e+00, 0.0000e+00,\n",
       "        1.8000e+01]])"
      ]
     },
     "execution_count": 55,
     "metadata": {},
     "output_type": "execute_result"
    }
   ],
   "source": [
    "X"
   ]
  },
  {
   "cell_type": "code",
   "execution_count": 56,
   "id": "05703303",
   "metadata": {},
   "outputs": [
    {
     "data": {
      "text/plain": [
       "array([ 35000., 119900.,  65000., ...,  30000.,  60000.,  22000.])"
      ]
     },
     "execution_count": 56,
     "metadata": {},
     "output_type": "execute_result"
    }
   ],
   "source": [
    "Y"
   ]
  },
  {
   "cell_type": "markdown",
   "id": "2ae33b4b",
   "metadata": {},
   "source": [
    "### Splitting Data Into Train Test Data"
   ]
  },
  {
   "cell_type": "code",
   "execution_count": 57,
   "id": "ecd8bf60",
   "metadata": {},
   "outputs": [],
   "source": [
    "from sklearn.model_selection import train_test_split, cross_val_score"
   ]
  },
  {
   "cell_type": "code",
   "execution_count": 58,
   "id": "97f8b1e0",
   "metadata": {},
   "outputs": [],
   "source": [
    "xtrain ,xtest ,ytrain , ytest = train_test_split(X,Y,test_size=0.3)"
   ]
  },
  {
   "cell_type": "code",
   "execution_count": 59,
   "id": "c89776ce",
   "metadata": {},
   "outputs": [
    {
     "name": "stdout",
     "output_type": "stream",
     "text": [
      "(20376, 7) (20376,) (8733, 7) (8733,)\n"
     ]
    }
   ],
   "source": [
    "print(xtrain.shape,ytrain.shape,xtest.shape,ytest.shape)"
   ]
  },
  {
   "cell_type": "markdown",
   "id": "af0e4102",
   "metadata": {},
   "source": [
    "### Scaling Data Before Modelling"
   ]
  },
  {
   "cell_type": "code",
   "execution_count": 60,
   "id": "e3a35e23",
   "metadata": {},
   "outputs": [],
   "source": [
    "from sklearn.preprocessing import StandardScaler\n",
    "scaler = StandardScaler()\n",
    "xtrain = scaler.fit_transform(xtrain)\n",
    "xtest = scaler.transform(xtest)"
   ]
  },
  {
   "cell_type": "code",
   "execution_count": 61,
   "id": "b764c811",
   "metadata": {},
   "outputs": [
    {
     "name": "stdout",
     "output_type": "stream",
     "text": [
      "Mean and Standard deviation of scaled train data is :  -3.8956504807083847e-17 1.0000000000000207\n",
      "Mean and Standard deviation of scaled test data is :  -3.8956504807083847e-17 1.0000000000000207\n"
     ]
    }
   ],
   "source": [
    "print(\"Mean and Standard deviation of scaled train data is : \",xtrain.mean(), xtrain.std())\n",
    "print(\"Mean and Standard deviation of scaled test data is : \",xtrain.mean(), xtrain.std())"
   ]
  },
  {
   "cell_type": "markdown",
   "id": "00b8d2f9",
   "metadata": {},
   "source": [
    "### Polynomial Transformation"
   ]
  },
  {
   "cell_type": "code",
   "execution_count": 62,
   "id": "1517c191",
   "metadata": {},
   "outputs": [],
   "source": [
    "from sklearn.preprocessing import PolynomialFeatures\n",
    "pol = PolynomialFeatures(4,include_bias=False)"
   ]
  },
  {
   "cell_type": "code",
   "execution_count": 63,
   "id": "80e569f5",
   "metadata": {},
   "outputs": [
    {
     "data": {
      "text/plain": [
       "PolynomialFeatures(degree=4, include_bias=False)"
      ]
     },
     "execution_count": 63,
     "metadata": {},
     "output_type": "execute_result"
    }
   ],
   "source": [
    "pol.fit(xtrain)"
   ]
  },
  {
   "cell_type": "code",
   "execution_count": 64,
   "id": "80c65aaa",
   "metadata": {},
   "outputs": [],
   "source": [
    "xtrain_pol = pol.transform(xtrain)\n",
    "xtest_pol = pol.transform(xtest)"
   ]
  },
  {
   "cell_type": "code",
   "execution_count": 65,
   "id": "82df84bc",
   "metadata": {},
   "outputs": [
    {
     "data": {
      "text/plain": [
       "array([[-0.19930099, -1.07946727, -1.1265549 , ...,  0.04809047,\n",
       "        -0.06630747,  0.0914252 ],\n",
       "       [ 0.21669241, -0.16584195,  0.23958383, ...,  2.22011994,\n",
       "         3.35058044,  5.05665891],\n",
       "       [ 0.21669241, -0.16584195,  0.23958383, ...,  2.22011994,\n",
       "         3.35058044,  5.05665891],\n",
       "       ...,\n",
       "       [-0.93402442, -0.47038372, -0.55733043, ...,  0.07554539,\n",
       "        -0.02103136,  0.005855  ],\n",
       "       [-1.09729629, -0.77492549,  0.23958383, ...,  1.83398787,\n",
       "         2.51564921,  3.45067218],\n",
       "       [-0.31592376, -1.07946727,  1.71956745, ...,  0.94050758,\n",
       "        -1.45841159,  2.26150688]])"
      ]
     },
     "execution_count": 65,
     "metadata": {},
     "output_type": "execute_result"
    }
   ],
   "source": [
    "xtest_pol"
   ]
  },
  {
   "cell_type": "markdown",
   "id": "14f49a0c",
   "metadata": {},
   "source": [
    "### Prediction On A Linear Model"
   ]
  },
  {
   "cell_type": "code",
   "execution_count": 66,
   "id": "a54d4a10",
   "metadata": {},
   "outputs": [],
   "source": [
    "from sklearn.linear_model import LinearRegression\n",
    "model = LinearRegression()"
   ]
  },
  {
   "cell_type": "code",
   "execution_count": 67,
   "id": "5c14d99a",
   "metadata": {},
   "outputs": [
    {
     "data": {
      "text/plain": [
       "LinearRegression()"
      ]
     },
     "execution_count": 67,
     "metadata": {},
     "output_type": "execute_result"
    }
   ],
   "source": [
    "model.fit(xtrain_pol,ytrain)"
   ]
  },
  {
   "cell_type": "code",
   "execution_count": 68,
   "id": "65e43bff",
   "metadata": {},
   "outputs": [],
   "source": [
    "train_pred = model.predict(xtrain_pol)\n",
    "test_pred = model.predict(xtest_pol)"
   ]
  },
  {
   "cell_type": "code",
   "execution_count": 69,
   "id": "8c45da72",
   "metadata": {
    "scrolled": true
   },
   "outputs": [
    {
     "name": "stdout",
     "output_type": "stream",
     "text": [
      "26559330398970.574\n",
      "[-7.13737482e+08 -5.84300893e+13 -3.87877123e+14 -6.98424458e+13\n",
      "  1.75680662e+14  2.10676104e+14  3.10466399e+14 -6.02913228e+13\n",
      "  1.90237766e+13  7.39460914e+13 -1.46591722e+12  6.21664075e+13\n",
      "  2.83436073e+13 -4.33047333e+13 -1.14553807e+13  5.81759328e+13\n",
      "  6.39944926e+12 -2.19058117e+14  5.47335441e+12 -3.71342347e+13\n",
      " -2.75100346e+14 -3.51315173e+12 -1.51347289e+15 -1.77319667e+13\n",
      " -1.17667516e+13  4.90837418e+13 -3.20978857e+14 -1.19358661e+13\n",
      " -2.71508085e+13  2.85572240e+14  7.86084705e+14  1.16126457e+15\n",
      "  1.87058195e+12  8.03355110e+12 -1.36797092e+12 -2.07140625e+02\n",
      " -8.52843750e+02  9.42781250e+02  5.44687500e+02 -2.09418765e+14\n",
      "  8.38781250e+02  3.18283203e+03  8.23421875e+02  1.12422656e+03\n",
      " -2.33839844e+02  6.60780956e+13 -6.57031250e+01 -1.40206348e+03\n",
      "  1.88440625e+03  1.31087500e+03  2.56847891e+14  2.07992188e+02\n",
      " -5.22132812e+02 -1.69346875e+03 -5.09178699e+12  1.48131250e+03\n",
      "  1.84812500e+03  2.15941098e+14  9.84500413e+13 -1.50416732e+14\n",
      "  5.10704688e+03 -1.12332422e+03  2.33471094e+03  5.03786133e+02\n",
      " -2.72210938e+02  1.01059375e+03 -3.97896672e+13  1.47087500e+03\n",
      "  6.65281250e+02  3.07568750e+03 -5.09578125e+02  2.02071068e+14\n",
      "  2.38844531e+03 -3.57194531e+03  8.65234375e+02  2.22281532e+13\n",
      " -8.19019531e+02  2.04802734e+02  2.49281605e+12  1.90114110e+13\n",
      " -1.28983827e+14  1.01222485e+04 -1.88963672e+03 -1.15953125e+03\n",
      " -2.79087188e+04  2.47660938e+03 -9.55546702e+14 -1.13589531e+04\n",
      "  1.99776465e+04  3.66215820e+03 -1.22027493e+13 -8.01945312e+02\n",
      "  1.91378125e+03 -1.89416634e+14 -6.15910613e+13 -4.08711973e+13\n",
      " -3.20441074e+04 -4.72229297e+04 -2.28464375e+04 -2.72510938e+03\n",
      "  1.70489817e+14  3.31896875e+03  2.53131250e+03 -2.02422946e+14\n",
      " -4.14586083e+13 -9.43069171e+13  2.34730469e+03  6.05476562e+02\n",
      "  1.60017578e+03 -5.80353162e+12 -2.20253490e+13 -2.26018714e+13\n",
      "  6.49736905e+12  2.79041209e+13 -4.75157539e+12 -3.89537812e+04\n",
      "  4.69235312e+04 -3.43950469e+04  5.55903125e+03  1.67480469e+02\n",
      " -3.60937500e+01  1.38750000e+02 -2.45937500e+02  5.24750000e+02\n",
      " -8.70937500e+01 -1.09033984e+03 -5.03958984e+02 -1.11429688e+02\n",
      "  5.92968750e+02  3.66343750e+02 -9.70898438e+02 -7.95640625e+02\n",
      " -3.79050781e+02 -1.73218750e+02 -2.78968750e+02  1.26087500e+03\n",
      " -1.85273438e+02 -3.26523438e+02  1.01804688e+02 -6.37812500e+01\n",
      " -1.08364062e+03  6.02913228e+13  5.96464844e+02 -7.97781250e+02\n",
      "  1.32093750e+02 -1.14203125e+02 -1.15349219e+03 -3.32875000e+02\n",
      "  9.08750000e+02 -6.20125000e+02 -6.02919922e+02  2.12343750e+01\n",
      "  2.18223438e+03 -1.08456250e+03  2.43953125e+02 -3.47343750e+01\n",
      " -9.23386719e+02  2.51040039e+02  2.08593750e+02 -5.16613281e+02\n",
      "  6.28375000e+02  8.51097656e+02 -1.90237766e+13  2.18054688e+02\n",
      "  8.84296875e+01 -9.40187500e+02 -1.78906250e+00 -1.15893750e+03\n",
      "  2.56242188e+02  5.17187500e+02  5.55949219e+02  2.06482227e+03\n",
      "  2.39422656e+03 -2.26290625e+03  3.13460938e+02 -1.25410156e+03\n",
      " -9.24506836e+02 -7.39460914e+13 -2.18053223e+02 -1.27828125e+03\n",
      "  4.74373047e+03 -3.66484375e+03 -3.40859375e+02  1.74490625e+03\n",
      " -1.14265625e+02 -1.38920312e+03 -6.03046875e+01  1.46591722e+12\n",
      " -7.46171875e+01 -3.72570312e+02 -1.46957031e+03 -9.62656250e+02\n",
      " -1.87109375e+02 -6.21688865e+13 -2.83436073e+13  4.33047333e+13\n",
      "  5.34878906e+02 -2.10958984e+02  1.78296875e+02  3.05769531e+02\n",
      " -3.00148438e+03 -1.69103906e+03  3.03597949e+03 -3.92546875e+02\n",
      "  9.12750000e+02 -2.19750000e+02  2.03703125e+02 -1.27276562e+03\n",
      " -2.27187500e+01  2.81864062e+03  1.41421875e+02  1.01014844e+03\n",
      " -1.78163281e+03  4.47937500e+02 -5.27113281e+02  7.69171875e+02\n",
      "  2.17703125e+02 -4.23859375e+02  1.14553807e+13 -8.07984375e+02\n",
      "  8.08400391e+02 -1.56671875e+02 -5.31164062e+02 -5.30718750e+02\n",
      " -1.09985938e+03  4.35937500e+01  3.87062500e+02 -1.96287500e+03\n",
      "  1.71534375e+03  6.63453125e+02 -2.49375000e+02 -1.51057031e+03\n",
      "  3.02683594e+02 -5.81759328e+13 -6.17363281e+02  1.16617188e+03\n",
      "  1.00792930e+04  1.28693750e+03  1.56087500e+03  6.85828125e+02\n",
      "  1.12571094e+03  9.13937500e+02  6.11523438e+01 -6.39944926e+12\n",
      " -1.73992188e+02 -4.70888672e+01 -4.40140625e+02 -9.62593750e+02\n",
      "  7.20476562e+02  1.61042503e+13 -5.47335440e+12  3.71342346e+13\n",
      " -1.78242188e+02  7.24197266e+02  1.17314062e+03 -4.32709375e+03\n",
      "  3.05271094e+03 -2.85226562e+03  3.45011719e+03  1.06651250e+04\n",
      " -6.01625000e+02  8.35703125e+02 -8.53509375e+03  1.91671562e+04\n",
      " -2.33060938e+03  6.55503906e+02 -6.34929688e+02 -6.88695312e+02\n",
      "  2.75100346e+14 -2.11294922e+02 -2.01446875e+03  2.18168750e+03\n",
      "  6.42617031e+04  3.78046250e+04 -1.30143750e+03  3.71490234e+02\n",
      "  9.11843750e+02 -3.23078125e+02  3.51315173e+12  6.01789062e+02\n",
      " -5.63933594e+02 -2.41585938e+02 -1.10447656e+03  9.81250000e+00\n",
      "  1.66201937e+14  1.77319667e+13  1.17667514e+13 -2.28544141e+03\n",
      "  1.69765625e+03  3.70742188e+02  1.24265820e+04  8.73395977e+04\n",
      " -7.38678125e+03 -9.13593750e+01  7.66625000e+02  3.89085938e+02\n",
      "  3.73250000e+02  1.52339062e+03 -4.90837418e+13  2.91917969e+02\n",
      "  7.10320312e+02 -2.79430908e+03 -1.99725000e+03 -1.71459375e+03\n",
      "  7.83847649e+13  1.19358661e+13  2.71508085e+13  1.45444531e+03\n",
      "  6.75437500e+02 -5.07406250e+02 -2.73203125e+02 -6.03343750e+02\n",
      "  1.26250000e+02 -8.32562500e+02 -2.23480203e+13 -5.43122466e+13\n",
      " -8.28757307e+13 -1.87058202e+12 -8.03355117e+12  1.36797085e+12\n",
      " -2.88794531e+03 -1.21000000e+03  2.34816406e+02 -4.31640625e+02\n",
      "  2.98318438e+04  1.60851250e+04  2.91277539e+04 -2.11784375e+03\n",
      "  3.11889062e+03]\n"
     ]
    }
   ],
   "source": [
    "print(model.intercept_)\n",
    "print(model.coef_)"
   ]
  },
  {
   "cell_type": "code",
   "execution_count": 70,
   "id": "a0533d20",
   "metadata": {},
   "outputs": [
    {
     "name": "stdout",
     "output_type": "stream",
     "text": [
      "Accuracy for training data is :  0.9310129079322129\n",
      "Accuracy for testing data is :  0.8730206182519054\n"
     ]
    }
   ],
   "source": [
    "print(\"Accuracy for training data is : \",model.score(xtrain_pol,ytrain))\n",
    "print(\"Accuracy for testing data is : \",model.score(xtest_pol,ytest))"
   ]
  },
  {
   "cell_type": "code",
   "execution_count": 71,
   "id": "6935bac0",
   "metadata": {},
   "outputs": [],
   "source": [
    "train_actual = ytrain.reshape((-1,1))\n",
    "train_pred = train_pred.reshape((-1,1))"
   ]
  },
  {
   "cell_type": "code",
   "execution_count": 72,
   "id": "c7a34ee8",
   "metadata": {},
   "outputs": [],
   "source": [
    "test_actual = ytest.reshape((-1,1))\n",
    "test_pred = test_pred.reshape((-1,1))"
   ]
  },
  {
   "cell_type": "code",
   "execution_count": 73,
   "id": "65870106",
   "metadata": {},
   "outputs": [
    {
     "data": {
      "text/plain": [
       "array([[ 49000.,  92516.],\n",
       "       [ 30000.,  30251.],\n",
       "       [ 95500.,  91278.],\n",
       "       ...,\n",
       "       [ 70000.,  69982.],\n",
       "       [ 80000.,  70393.],\n",
       "       [ 90000., 147431.]])"
      ]
     },
     "execution_count": 73,
     "metadata": {},
     "output_type": "execute_result"
    }
   ],
   "source": [
    "actual_vs_prediction_train = np.hstack((train_actual,train_pred.round()))\n",
    "actual_vs_prediction_train"
   ]
  },
  {
   "cell_type": "code",
   "execution_count": 74,
   "id": "e42bbb9d",
   "metadata": {},
   "outputs": [
    {
     "data": {
      "text/plain": [
       "array([[ 39000.,  38218.],\n",
       "       [ 50000.,  50367.],\n",
       "       [ 50000.,  50367.],\n",
       "       ...,\n",
       "       [ 62000.,  50090.],\n",
       "       [ 55005.,  64074.],\n",
       "       [105000., 105059.]])"
      ]
     },
     "execution_count": 74,
     "metadata": {},
     "output_type": "execute_result"
    }
   ],
   "source": [
    "actual_vs_prediction_test = np.hstack((test_actual,test_pred.round()))\n",
    "actual_vs_prediction_test"
   ]
  },
  {
   "cell_type": "code",
   "execution_count": 75,
   "id": "b5bafa5a",
   "metadata": {},
   "outputs": [],
   "source": [
    "mae_train = (abs(train_actual - train_pred)).mean()"
   ]
  },
  {
   "cell_type": "code",
   "execution_count": 76,
   "id": "28f72d48",
   "metadata": {},
   "outputs": [
    {
     "data": {
      "text/plain": [
       "4332.0699846786665"
      ]
     },
     "execution_count": 76,
     "metadata": {},
     "output_type": "execute_result"
    }
   ],
   "source": [
    "mae_train"
   ]
  },
  {
   "cell_type": "code",
   "execution_count": 77,
   "id": "4b25fc11",
   "metadata": {},
   "outputs": [],
   "source": [
    "mae_test = (abs(test_actual - test_pred)).mean()"
   ]
  },
  {
   "cell_type": "code",
   "execution_count": 78,
   "id": "6fa01818",
   "metadata": {},
   "outputs": [
    {
     "data": {
      "text/plain": [
       "4489.650122022787"
      ]
     },
     "execution_count": 78,
     "metadata": {},
     "output_type": "execute_result"
    }
   ],
   "source": [
    "mae_test"
   ]
  },
  {
   "cell_type": "code",
   "execution_count": 79,
   "id": "4ad48a10",
   "metadata": {},
   "outputs": [
    {
     "data": {
      "text/plain": [
       "57561.975780686385"
      ]
     },
     "execution_count": 79,
     "metadata": {},
     "output_type": "execute_result"
    }
   ],
   "source": [
    "df_labeled['price'].mean()"
   ]
  },
  {
   "cell_type": "markdown",
   "id": "cb0e9163",
   "metadata": {},
   "source": [
    "## Using One Hot Encoding"
   ]
  },
  {
   "cell_type": "code",
   "execution_count": 80,
   "id": "c0832aad",
   "metadata": {},
   "outputs": [
    {
     "data": {
      "text/plain": [
       "Index(['price', 'city', 'kms_driven', 'owner', 'age', 'power', 'brand',\n",
       "       'Bike_model'],\n",
       "      dtype='object')"
      ]
     },
     "execution_count": 80,
     "metadata": {},
     "output_type": "execute_result"
    }
   ],
   "source": [
    "df_new.columns"
   ]
  },
  {
   "cell_type": "code",
   "execution_count": 81,
   "id": "bd6c3497",
   "metadata": {},
   "outputs": [
    {
     "data": {
      "text/plain": [
       "array(['price', 'kms_driven', 'age', 'power'], dtype='<U10')"
      ]
     },
     "execution_count": 81,
     "metadata": {},
     "output_type": "execute_result"
    }
   ],
   "source": [
    "numerical_cols"
   ]
  },
  {
   "cell_type": "code",
   "execution_count": 82,
   "id": "b356be41",
   "metadata": {},
   "outputs": [
    {
     "data": {
      "text/plain": [
       "array(['city', 'owner', 'brand', 'Bike_model'], dtype='<U10')"
      ]
     },
     "execution_count": 82,
     "metadata": {},
     "output_type": "execute_result"
    }
   ],
   "source": [
    "categorical_columns"
   ]
  },
  {
   "cell_type": "code",
   "execution_count": 83,
   "id": "0a35aeba",
   "metadata": {},
   "outputs": [],
   "source": [
    "df0 = pd.get_dummies(df_new[categorical_columns[0]])\n",
    "df1 = pd.get_dummies(df_new[categorical_columns[1]])\n",
    "df2 = pd.get_dummies(df_new[categorical_columns[2]])\n",
    "df3 = pd.get_dummies(df_new[categorical_columns[3]])"
   ]
  },
  {
   "cell_type": "code",
   "execution_count": 84,
   "id": "736f96b3",
   "metadata": {},
   "outputs": [],
   "source": [
    "df_encoded = pd.concat((df_new.loc[: , numerical_cols],df0,df1,df2,df3),axis='columns')"
   ]
  },
  {
   "cell_type": "code",
   "execution_count": 85,
   "id": "f4de887f",
   "metadata": {},
   "outputs": [],
   "source": [
    "# df_encoded.columns"
   ]
  },
  {
   "cell_type": "code",
   "execution_count": 86,
   "id": "6d3c1497",
   "metadata": {},
   "outputs": [
    {
     "data": {
      "text/html": [
       "<div>\n",
       "<style scoped>\n",
       "    .dataframe tbody tr th:only-of-type {\n",
       "        vertical-align: middle;\n",
       "    }\n",
       "\n",
       "    .dataframe tbody tr th {\n",
       "        vertical-align: top;\n",
       "    }\n",
       "\n",
       "    .dataframe thead th {\n",
       "        text-align: right;\n",
       "    }\n",
       "</style>\n",
       "<table border=\"1\" class=\"dataframe\">\n",
       "  <thead>\n",
       "    <tr style=\"text-align: right;\">\n",
       "      <th></th>\n",
       "      <th>price</th>\n",
       "      <th>kms_driven</th>\n",
       "      <th>age</th>\n",
       "      <th>power</th>\n",
       "      <th>ahmedabad</th>\n",
       "      <th>allahabad</th>\n",
       "      <th>bangalore</th>\n",
       "      <th>bhopal</th>\n",
       "      <th>chennai</th>\n",
       "      <th>delhi</th>\n",
       "      <th>...</th>\n",
       "      <th>platina 100cc</th>\n",
       "      <th>pulsar 150cc</th>\n",
       "      <th>pulsar ns200</th>\n",
       "      <th>rc 390cc</th>\n",
       "      <th>slingshot plus 125cc</th>\n",
       "      <th>super splendor 125cc</th>\n",
       "      <th>sz-rr 150cc</th>\n",
       "      <th>thunderbird 350cc</th>\n",
       "      <th>yzf-r15 2.0 150cc</th>\n",
       "      <th>zeus 125cc</th>\n",
       "    </tr>\n",
       "  </thead>\n",
       "  <tbody>\n",
       "    <tr>\n",
       "      <th>10629</th>\n",
       "      <td>20000.0</td>\n",
       "      <td>52000.0</td>\n",
       "      <td>10.0</td>\n",
       "      <td>150.0</td>\n",
       "      <td>0</td>\n",
       "      <td>0</td>\n",
       "      <td>0</td>\n",
       "      <td>0</td>\n",
       "      <td>0</td>\n",
       "      <td>0</td>\n",
       "      <td>...</td>\n",
       "      <td>0</td>\n",
       "      <td>0</td>\n",
       "      <td>0</td>\n",
       "      <td>0</td>\n",
       "      <td>0</td>\n",
       "      <td>0</td>\n",
       "      <td>1</td>\n",
       "      <td>0</td>\n",
       "      <td>0</td>\n",
       "      <td>0</td>\n",
       "    </tr>\n",
       "    <tr>\n",
       "      <th>25388</th>\n",
       "      <td>139000.0</td>\n",
       "      <td>21300.0</td>\n",
       "      <td>4.0</td>\n",
       "      <td>400.0</td>\n",
       "      <td>0</td>\n",
       "      <td>0</td>\n",
       "      <td>0</td>\n",
       "      <td>0</td>\n",
       "      <td>0</td>\n",
       "      <td>0</td>\n",
       "      <td>...</td>\n",
       "      <td>0</td>\n",
       "      <td>0</td>\n",
       "      <td>0</td>\n",
       "      <td>0</td>\n",
       "      <td>0</td>\n",
       "      <td>0</td>\n",
       "      <td>0</td>\n",
       "      <td>0</td>\n",
       "      <td>0</td>\n",
       "      <td>0</td>\n",
       "    </tr>\n",
       "    <tr>\n",
       "      <th>20735</th>\n",
       "      <td>23000.0</td>\n",
       "      <td>20000.0</td>\n",
       "      <td>6.0</td>\n",
       "      <td>100.0</td>\n",
       "      <td>0</td>\n",
       "      <td>0</td>\n",
       "      <td>0</td>\n",
       "      <td>0</td>\n",
       "      <td>0</td>\n",
       "      <td>0</td>\n",
       "      <td>...</td>\n",
       "      <td>1</td>\n",
       "      <td>0</td>\n",
       "      <td>0</td>\n",
       "      <td>0</td>\n",
       "      <td>0</td>\n",
       "      <td>0</td>\n",
       "      <td>0</td>\n",
       "      <td>0</td>\n",
       "      <td>0</td>\n",
       "      <td>0</td>\n",
       "    </tr>\n",
       "    <tr>\n",
       "      <th>19089</th>\n",
       "      <td>50000.0</td>\n",
       "      <td>29134.0</td>\n",
       "      <td>7.0</td>\n",
       "      <td>220.0</td>\n",
       "      <td>0</td>\n",
       "      <td>0</td>\n",
       "      <td>1</td>\n",
       "      <td>0</td>\n",
       "      <td>0</td>\n",
       "      <td>0</td>\n",
       "      <td>...</td>\n",
       "      <td>0</td>\n",
       "      <td>0</td>\n",
       "      <td>0</td>\n",
       "      <td>0</td>\n",
       "      <td>0</td>\n",
       "      <td>0</td>\n",
       "      <td>0</td>\n",
       "      <td>0</td>\n",
       "      <td>0</td>\n",
       "      <td>0</td>\n",
       "    </tr>\n",
       "    <tr>\n",
       "      <th>17601</th>\n",
       "      <td>32000.0</td>\n",
       "      <td>22697.0</td>\n",
       "      <td>7.0</td>\n",
       "      <td>125.0</td>\n",
       "      <td>0</td>\n",
       "      <td>0</td>\n",
       "      <td>0</td>\n",
       "      <td>0</td>\n",
       "      <td>0</td>\n",
       "      <td>0</td>\n",
       "      <td>...</td>\n",
       "      <td>0</td>\n",
       "      <td>0</td>\n",
       "      <td>0</td>\n",
       "      <td>0</td>\n",
       "      <td>1</td>\n",
       "      <td>0</td>\n",
       "      <td>0</td>\n",
       "      <td>0</td>\n",
       "      <td>0</td>\n",
       "      <td>0</td>\n",
       "    </tr>\n",
       "  </tbody>\n",
       "</table>\n",
       "<p>5 rows × 66 columns</p>\n",
       "</div>"
      ],
      "text/plain": [
       "          price  kms_driven   age  power  ahmedabad  allahabad  bangalore  \\\n",
       "10629   20000.0     52000.0  10.0  150.0          0          0          0   \n",
       "25388  139000.0     21300.0   4.0  400.0          0          0          0   \n",
       "20735   23000.0     20000.0   6.0  100.0          0          0          0   \n",
       "19089   50000.0     29134.0   7.0  220.0          0          0          1   \n",
       "17601   32000.0     22697.0   7.0  125.0          0          0          0   \n",
       "\n",
       "       bhopal  chennai  delhi  ...  platina 100cc  pulsar 150cc  pulsar ns200  \\\n",
       "10629       0        0      0  ...              0             0             0   \n",
       "25388       0        0      0  ...              0             0             0   \n",
       "20735       0        0      0  ...              1             0             0   \n",
       "19089       0        0      0  ...              0             0             0   \n",
       "17601       0        0      0  ...              0             0             0   \n",
       "\n",
       "       rc 390cc  slingshot plus 125cc  super splendor 125cc  sz-rr 150cc  \\\n",
       "10629         0                     0                     0            1   \n",
       "25388         0                     0                     0            0   \n",
       "20735         0                     0                     0            0   \n",
       "19089         0                     0                     0            0   \n",
       "17601         0                     1                     0            0   \n",
       "\n",
       "       thunderbird 350cc  yzf-r15 2.0 150cc  zeus 125cc  \n",
       "10629                  0                  0           0  \n",
       "25388                  0                  0           0  \n",
       "20735                  0                  0           0  \n",
       "19089                  0                  0           0  \n",
       "17601                  0                  0           0  \n",
       "\n",
       "[5 rows x 66 columns]"
      ]
     },
     "execution_count": 86,
     "metadata": {},
     "output_type": "execute_result"
    }
   ],
   "source": [
    "df_encoded.sample(n=5)"
   ]
  },
  {
   "cell_type": "code",
   "execution_count": 87,
   "id": "055a8649",
   "metadata": {},
   "outputs": [
    {
     "data": {
      "text/html": [
       "<div>\n",
       "<style scoped>\n",
       "    .dataframe tbody tr th:only-of-type {\n",
       "        vertical-align: middle;\n",
       "    }\n",
       "\n",
       "    .dataframe tbody tr th {\n",
       "        vertical-align: top;\n",
       "    }\n",
       "\n",
       "    .dataframe thead th {\n",
       "        text-align: right;\n",
       "    }\n",
       "</style>\n",
       "<table border=\"1\" class=\"dataframe\">\n",
       "  <thead>\n",
       "    <tr style=\"text-align: right;\">\n",
       "      <th></th>\n",
       "      <th>count</th>\n",
       "      <th>mean</th>\n",
       "      <th>std</th>\n",
       "      <th>min</th>\n",
       "      <th>25%</th>\n",
       "      <th>50%</th>\n",
       "      <th>75%</th>\n",
       "      <th>max</th>\n",
       "    </tr>\n",
       "  </thead>\n",
       "  <tbody>\n",
       "    <tr>\n",
       "      <th>price</th>\n",
       "      <td>29109.0</td>\n",
       "      <td>57561.975781</td>\n",
       "      <td>43297.414373</td>\n",
       "      <td>5800.0</td>\n",
       "      <td>25000.0</td>\n",
       "      <td>44600.0</td>\n",
       "      <td>80000.0</td>\n",
       "      <td>1100000.0</td>\n",
       "    </tr>\n",
       "    <tr>\n",
       "      <th>kms_driven</th>\n",
       "      <td>29109.0</td>\n",
       "      <td>25456.672438</td>\n",
       "      <td>17096.890127</td>\n",
       "      <td>1.0</td>\n",
       "      <td>13216.0</td>\n",
       "      <td>20373.0</td>\n",
       "      <td>34968.0</td>\n",
       "      <td>70756.0</td>\n",
       "    </tr>\n",
       "    <tr>\n",
       "      <th>age</th>\n",
       "      <td>29109.0</td>\n",
       "      <td>7.541688</td>\n",
       "      <td>3.275614</td>\n",
       "      <td>1.0</td>\n",
       "      <td>5.0</td>\n",
       "      <td>7.0</td>\n",
       "      <td>9.0</td>\n",
       "      <td>15.0</td>\n",
       "    </tr>\n",
       "    <tr>\n",
       "      <th>power</th>\n",
       "      <td>29109.0</td>\n",
       "      <td>198.903775</td>\n",
       "      <td>87.835344</td>\n",
       "      <td>100.0</td>\n",
       "      <td>150.0</td>\n",
       "      <td>150.0</td>\n",
       "      <td>220.0</td>\n",
       "      <td>410.0</td>\n",
       "    </tr>\n",
       "    <tr>\n",
       "      <th>ahmedabad</th>\n",
       "      <td>29109.0</td>\n",
       "      <td>0.029750</td>\n",
       "      <td>0.169900</td>\n",
       "      <td>0.0</td>\n",
       "      <td>0.0</td>\n",
       "      <td>0.0</td>\n",
       "      <td>0.0</td>\n",
       "      <td>1.0</td>\n",
       "    </tr>\n",
       "    <tr>\n",
       "      <th>...</th>\n",
       "      <td>...</td>\n",
       "      <td>...</td>\n",
       "      <td>...</td>\n",
       "      <td>...</td>\n",
       "      <td>...</td>\n",
       "      <td>...</td>\n",
       "      <td>...</td>\n",
       "      <td>...</td>\n",
       "    </tr>\n",
       "    <tr>\n",
       "      <th>super splendor 125cc</th>\n",
       "      <td>29109.0</td>\n",
       "      <td>0.001340</td>\n",
       "      <td>0.036579</td>\n",
       "      <td>0.0</td>\n",
       "      <td>0.0</td>\n",
       "      <td>0.0</td>\n",
       "      <td>0.0</td>\n",
       "      <td>1.0</td>\n",
       "    </tr>\n",
       "    <tr>\n",
       "      <th>sz-rr 150cc</th>\n",
       "      <td>29109.0</td>\n",
       "      <td>0.021059</td>\n",
       "      <td>0.143583</td>\n",
       "      <td>0.0</td>\n",
       "      <td>0.0</td>\n",
       "      <td>0.0</td>\n",
       "      <td>0.0</td>\n",
       "      <td>1.0</td>\n",
       "    </tr>\n",
       "    <tr>\n",
       "      <th>thunderbird 350cc</th>\n",
       "      <td>29109.0</td>\n",
       "      <td>0.031021</td>\n",
       "      <td>0.173378</td>\n",
       "      <td>0.0</td>\n",
       "      <td>0.0</td>\n",
       "      <td>0.0</td>\n",
       "      <td>0.0</td>\n",
       "      <td>1.0</td>\n",
       "    </tr>\n",
       "    <tr>\n",
       "      <th>yzf-r15 2.0 150cc</th>\n",
       "      <td>29109.0</td>\n",
       "      <td>0.026384</td>\n",
       "      <td>0.160276</td>\n",
       "      <td>0.0</td>\n",
       "      <td>0.0</td>\n",
       "      <td>0.0</td>\n",
       "      <td>0.0</td>\n",
       "      <td>1.0</td>\n",
       "    </tr>\n",
       "    <tr>\n",
       "      <th>zeus 125cc</th>\n",
       "      <td>29109.0</td>\n",
       "      <td>0.020887</td>\n",
       "      <td>0.143009</td>\n",
       "      <td>0.0</td>\n",
       "      <td>0.0</td>\n",
       "      <td>0.0</td>\n",
       "      <td>0.0</td>\n",
       "      <td>1.0</td>\n",
       "    </tr>\n",
       "  </tbody>\n",
       "</table>\n",
       "<p>66 rows × 8 columns</p>\n",
       "</div>"
      ],
      "text/plain": [
       "                        count          mean           std     min      25%  \\\n",
       "price                 29109.0  57561.975781  43297.414373  5800.0  25000.0   \n",
       "kms_driven            29109.0  25456.672438  17096.890127     1.0  13216.0   \n",
       "age                   29109.0      7.541688      3.275614     1.0      5.0   \n",
       "power                 29109.0    198.903775     87.835344   100.0    150.0   \n",
       "ahmedabad             29109.0      0.029750      0.169900     0.0      0.0   \n",
       "...                       ...           ...           ...     ...      ...   \n",
       "super splendor 125cc  29109.0      0.001340      0.036579     0.0      0.0   \n",
       "sz-rr 150cc           29109.0      0.021059      0.143583     0.0      0.0   \n",
       "thunderbird 350cc     29109.0      0.031021      0.173378     0.0      0.0   \n",
       "yzf-r15 2.0 150cc     29109.0      0.026384      0.160276     0.0      0.0   \n",
       "zeus 125cc            29109.0      0.020887      0.143009     0.0      0.0   \n",
       "\n",
       "                          50%      75%        max  \n",
       "price                 44600.0  80000.0  1100000.0  \n",
       "kms_driven            20373.0  34968.0    70756.0  \n",
       "age                       7.0      9.0       15.0  \n",
       "power                   150.0    220.0      410.0  \n",
       "ahmedabad                 0.0      0.0        1.0  \n",
       "...                       ...      ...        ...  \n",
       "super splendor 125cc      0.0      0.0        1.0  \n",
       "sz-rr 150cc               0.0      0.0        1.0  \n",
       "thunderbird 350cc         0.0      0.0        1.0  \n",
       "yzf-r15 2.0 150cc         0.0      0.0        1.0  \n",
       "zeus 125cc                0.0      0.0        1.0  \n",
       "\n",
       "[66 rows x 8 columns]"
      ]
     },
     "execution_count": 87,
     "metadata": {},
     "output_type": "execute_result"
    }
   ],
   "source": [
    "df_encoded.describe().T"
   ]
  },
  {
   "cell_type": "code",
   "execution_count": 88,
   "id": "f103a475",
   "metadata": {},
   "outputs": [
    {
     "data": {
      "text/plain": [
       "(29109, 66)"
      ]
     },
     "execution_count": 88,
     "metadata": {},
     "output_type": "execute_result"
    }
   ],
   "source": [
    "df_encoded.shape"
   ]
  },
  {
   "cell_type": "markdown",
   "id": "66fe7289",
   "metadata": {},
   "source": [
    "### Model Selection And Prediction On One Hot Encoded Data"
   ]
  },
  {
   "cell_type": "code",
   "execution_count": 89,
   "id": "6ae03339",
   "metadata": {},
   "outputs": [
    {
     "data": {
      "text/html": [
       "<div>\n",
       "<style scoped>\n",
       "    .dataframe tbody tr th:only-of-type {\n",
       "        vertical-align: middle;\n",
       "    }\n",
       "\n",
       "    .dataframe tbody tr th {\n",
       "        vertical-align: top;\n",
       "    }\n",
       "\n",
       "    .dataframe thead th {\n",
       "        text-align: right;\n",
       "    }\n",
       "</style>\n",
       "<table border=\"1\" class=\"dataframe\">\n",
       "  <thead>\n",
       "    <tr style=\"text-align: right;\">\n",
       "      <th></th>\n",
       "      <th>price</th>\n",
       "      <th>kms_driven</th>\n",
       "      <th>age</th>\n",
       "      <th>power</th>\n",
       "      <th>ahmedabad</th>\n",
       "      <th>allahabad</th>\n",
       "      <th>bangalore</th>\n",
       "      <th>bhopal</th>\n",
       "      <th>chennai</th>\n",
       "      <th>delhi</th>\n",
       "      <th>...</th>\n",
       "      <th>platina 100cc</th>\n",
       "      <th>pulsar 150cc</th>\n",
       "      <th>pulsar ns200</th>\n",
       "      <th>rc 390cc</th>\n",
       "      <th>slingshot plus 125cc</th>\n",
       "      <th>super splendor 125cc</th>\n",
       "      <th>sz-rr 150cc</th>\n",
       "      <th>thunderbird 350cc</th>\n",
       "      <th>yzf-r15 2.0 150cc</th>\n",
       "      <th>zeus 125cc</th>\n",
       "    </tr>\n",
       "  </thead>\n",
       "  <tbody>\n",
       "    <tr>\n",
       "      <th>0</th>\n",
       "      <td>35000.0</td>\n",
       "      <td>17654.0</td>\n",
       "      <td>3.0</td>\n",
       "      <td>110.0</td>\n",
       "      <td>1</td>\n",
       "      <td>0</td>\n",
       "      <td>0</td>\n",
       "      <td>0</td>\n",
       "      <td>0</td>\n",
       "      <td>0</td>\n",
       "      <td>...</td>\n",
       "      <td>0</td>\n",
       "      <td>0</td>\n",
       "      <td>0</td>\n",
       "      <td>0</td>\n",
       "      <td>0</td>\n",
       "      <td>0</td>\n",
       "      <td>0</td>\n",
       "      <td>0</td>\n",
       "      <td>0</td>\n",
       "      <td>0</td>\n",
       "    </tr>\n",
       "    <tr>\n",
       "      <th>1</th>\n",
       "      <td>119900.0</td>\n",
       "      <td>11000.0</td>\n",
       "      <td>4.0</td>\n",
       "      <td>350.0</td>\n",
       "      <td>0</td>\n",
       "      <td>0</td>\n",
       "      <td>0</td>\n",
       "      <td>0</td>\n",
       "      <td>0</td>\n",
       "      <td>1</td>\n",
       "      <td>...</td>\n",
       "      <td>0</td>\n",
       "      <td>0</td>\n",
       "      <td>0</td>\n",
       "      <td>0</td>\n",
       "      <td>0</td>\n",
       "      <td>0</td>\n",
       "      <td>0</td>\n",
       "      <td>0</td>\n",
       "      <td>0</td>\n",
       "      <td>0</td>\n",
       "    </tr>\n",
       "    <tr>\n",
       "      <th>2</th>\n",
       "      <td>65000.0</td>\n",
       "      <td>16329.0</td>\n",
       "      <td>4.0</td>\n",
       "      <td>180.0</td>\n",
       "      <td>0</td>\n",
       "      <td>0</td>\n",
       "      <td>1</td>\n",
       "      <td>0</td>\n",
       "      <td>0</td>\n",
       "      <td>0</td>\n",
       "      <td>...</td>\n",
       "      <td>0</td>\n",
       "      <td>0</td>\n",
       "      <td>0</td>\n",
       "      <td>0</td>\n",
       "      <td>0</td>\n",
       "      <td>0</td>\n",
       "      <td>0</td>\n",
       "      <td>0</td>\n",
       "      <td>0</td>\n",
       "      <td>0</td>\n",
       "    </tr>\n",
       "    <tr>\n",
       "      <th>3</th>\n",
       "      <td>80000.0</td>\n",
       "      <td>10000.0</td>\n",
       "      <td>3.0</td>\n",
       "      <td>150.0</td>\n",
       "      <td>0</td>\n",
       "      <td>0</td>\n",
       "      <td>1</td>\n",
       "      <td>0</td>\n",
       "      <td>0</td>\n",
       "      <td>0</td>\n",
       "      <td>...</td>\n",
       "      <td>0</td>\n",
       "      <td>0</td>\n",
       "      <td>0</td>\n",
       "      <td>0</td>\n",
       "      <td>0</td>\n",
       "      <td>0</td>\n",
       "      <td>0</td>\n",
       "      <td>0</td>\n",
       "      <td>0</td>\n",
       "      <td>0</td>\n",
       "    </tr>\n",
       "    <tr>\n",
       "      <th>4</th>\n",
       "      <td>53499.0</td>\n",
       "      <td>25000.0</td>\n",
       "      <td>6.0</td>\n",
       "      <td>150.0</td>\n",
       "      <td>0</td>\n",
       "      <td>0</td>\n",
       "      <td>0</td>\n",
       "      <td>0</td>\n",
       "      <td>0</td>\n",
       "      <td>1</td>\n",
       "      <td>...</td>\n",
       "      <td>0</td>\n",
       "      <td>0</td>\n",
       "      <td>0</td>\n",
       "      <td>0</td>\n",
       "      <td>0</td>\n",
       "      <td>0</td>\n",
       "      <td>0</td>\n",
       "      <td>0</td>\n",
       "      <td>0</td>\n",
       "      <td>0</td>\n",
       "    </tr>\n",
       "    <tr>\n",
       "      <th>...</th>\n",
       "      <td>...</td>\n",
       "      <td>...</td>\n",
       "      <td>...</td>\n",
       "      <td>...</td>\n",
       "      <td>...</td>\n",
       "      <td>...</td>\n",
       "      <td>...</td>\n",
       "      <td>...</td>\n",
       "      <td>...</td>\n",
       "      <td>...</td>\n",
       "      <td>...</td>\n",
       "      <td>...</td>\n",
       "      <td>...</td>\n",
       "      <td>...</td>\n",
       "      <td>...</td>\n",
       "      <td>...</td>\n",
       "      <td>...</td>\n",
       "      <td>...</td>\n",
       "      <td>...</td>\n",
       "      <td>...</td>\n",
       "      <td>...</td>\n",
       "    </tr>\n",
       "    <tr>\n",
       "      <th>29104</th>\n",
       "      <td>41000.0</td>\n",
       "      <td>20245.0</td>\n",
       "      <td>11.0</td>\n",
       "      <td>220.0</td>\n",
       "      <td>0</td>\n",
       "      <td>0</td>\n",
       "      <td>0</td>\n",
       "      <td>0</td>\n",
       "      <td>0</td>\n",
       "      <td>1</td>\n",
       "      <td>...</td>\n",
       "      <td>0</td>\n",
       "      <td>0</td>\n",
       "      <td>0</td>\n",
       "      <td>0</td>\n",
       "      <td>0</td>\n",
       "      <td>0</td>\n",
       "      <td>0</td>\n",
       "      <td>0</td>\n",
       "      <td>0</td>\n",
       "      <td>0</td>\n",
       "    </tr>\n",
       "    <tr>\n",
       "      <th>29105</th>\n",
       "      <td>39000.0</td>\n",
       "      <td>22000.0</td>\n",
       "      <td>4.0</td>\n",
       "      <td>100.0</td>\n",
       "      <td>0</td>\n",
       "      <td>0</td>\n",
       "      <td>0</td>\n",
       "      <td>0</td>\n",
       "      <td>0</td>\n",
       "      <td>1</td>\n",
       "      <td>...</td>\n",
       "      <td>0</td>\n",
       "      <td>0</td>\n",
       "      <td>0</td>\n",
       "      <td>0</td>\n",
       "      <td>0</td>\n",
       "      <td>0</td>\n",
       "      <td>0</td>\n",
       "      <td>0</td>\n",
       "      <td>0</td>\n",
       "      <td>0</td>\n",
       "    </tr>\n",
       "    <tr>\n",
       "      <th>29106</th>\n",
       "      <td>30000.0</td>\n",
       "      <td>6639.0</td>\n",
       "      <td>9.0</td>\n",
       "      <td>180.0</td>\n",
       "      <td>0</td>\n",
       "      <td>0</td>\n",
       "      <td>0</td>\n",
       "      <td>0</td>\n",
       "      <td>0</td>\n",
       "      <td>0</td>\n",
       "      <td>...</td>\n",
       "      <td>0</td>\n",
       "      <td>0</td>\n",
       "      <td>0</td>\n",
       "      <td>0</td>\n",
       "      <td>0</td>\n",
       "      <td>0</td>\n",
       "      <td>0</td>\n",
       "      <td>0</td>\n",
       "      <td>0</td>\n",
       "      <td>0</td>\n",
       "    </tr>\n",
       "    <tr>\n",
       "      <th>29107</th>\n",
       "      <td>60000.0</td>\n",
       "      <td>20373.0</td>\n",
       "      <td>6.0</td>\n",
       "      <td>220.0</td>\n",
       "      <td>0</td>\n",
       "      <td>0</td>\n",
       "      <td>0</td>\n",
       "      <td>0</td>\n",
       "      <td>0</td>\n",
       "      <td>1</td>\n",
       "      <td>...</td>\n",
       "      <td>0</td>\n",
       "      <td>0</td>\n",
       "      <td>0</td>\n",
       "      <td>0</td>\n",
       "      <td>0</td>\n",
       "      <td>0</td>\n",
       "      <td>0</td>\n",
       "      <td>0</td>\n",
       "      <td>0</td>\n",
       "      <td>0</td>\n",
       "    </tr>\n",
       "    <tr>\n",
       "      <th>29108</th>\n",
       "      <td>22000.0</td>\n",
       "      <td>60857.0</td>\n",
       "      <td>13.0</td>\n",
       "      <td>150.0</td>\n",
       "      <td>0</td>\n",
       "      <td>0</td>\n",
       "      <td>0</td>\n",
       "      <td>0</td>\n",
       "      <td>0</td>\n",
       "      <td>0</td>\n",
       "      <td>...</td>\n",
       "      <td>0</td>\n",
       "      <td>1</td>\n",
       "      <td>0</td>\n",
       "      <td>0</td>\n",
       "      <td>0</td>\n",
       "      <td>0</td>\n",
       "      <td>0</td>\n",
       "      <td>0</td>\n",
       "      <td>0</td>\n",
       "      <td>0</td>\n",
       "    </tr>\n",
       "  </tbody>\n",
       "</table>\n",
       "<p>29109 rows × 66 columns</p>\n",
       "</div>"
      ],
      "text/plain": [
       "          price  kms_driven   age  power  ahmedabad  allahabad  bangalore  \\\n",
       "0       35000.0     17654.0   3.0  110.0          1          0          0   \n",
       "1      119900.0     11000.0   4.0  350.0          0          0          0   \n",
       "2       65000.0     16329.0   4.0  180.0          0          0          1   \n",
       "3       80000.0     10000.0   3.0  150.0          0          0          1   \n",
       "4       53499.0     25000.0   6.0  150.0          0          0          0   \n",
       "...         ...         ...   ...    ...        ...        ...        ...   \n",
       "29104   41000.0     20245.0  11.0  220.0          0          0          0   \n",
       "29105   39000.0     22000.0   4.0  100.0          0          0          0   \n",
       "29106   30000.0      6639.0   9.0  180.0          0          0          0   \n",
       "29107   60000.0     20373.0   6.0  220.0          0          0          0   \n",
       "29108   22000.0     60857.0  13.0  150.0          0          0          0   \n",
       "\n",
       "       bhopal  chennai  delhi  ...  platina 100cc  pulsar 150cc  pulsar ns200  \\\n",
       "0           0        0      0  ...              0             0             0   \n",
       "1           0        0      1  ...              0             0             0   \n",
       "2           0        0      0  ...              0             0             0   \n",
       "3           0        0      0  ...              0             0             0   \n",
       "4           0        0      1  ...              0             0             0   \n",
       "...       ...      ...    ...  ...            ...           ...           ...   \n",
       "29104       0        0      1  ...              0             0             0   \n",
       "29105       0        0      1  ...              0             0             0   \n",
       "29106       0        0      0  ...              0             0             0   \n",
       "29107       0        0      1  ...              0             0             0   \n",
       "29108       0        0      0  ...              0             1             0   \n",
       "\n",
       "       rc 390cc  slingshot plus 125cc  super splendor 125cc  sz-rr 150cc  \\\n",
       "0             0                     0                     0            0   \n",
       "1             0                     0                     0            0   \n",
       "2             0                     0                     0            0   \n",
       "3             0                     0                     0            0   \n",
       "4             0                     0                     0            0   \n",
       "...         ...                   ...                   ...          ...   \n",
       "29104         0                     0                     0            0   \n",
       "29105         0                     0                     0            0   \n",
       "29106         0                     0                     0            0   \n",
       "29107         0                     0                     0            0   \n",
       "29108         0                     0                     0            0   \n",
       "\n",
       "       thunderbird 350cc  yzf-r15 2.0 150cc  zeus 125cc  \n",
       "0                      0                  0           0  \n",
       "1                      0                  0           0  \n",
       "2                      0                  0           0  \n",
       "3                      0                  0           0  \n",
       "4                      0                  0           0  \n",
       "...                  ...                ...         ...  \n",
       "29104                  0                  0           0  \n",
       "29105                  0                  0           0  \n",
       "29106                  0                  0           0  \n",
       "29107                  0                  0           0  \n",
       "29108                  0                  0           0  \n",
       "\n",
       "[29109 rows x 66 columns]"
      ]
     },
     "execution_count": 89,
     "metadata": {},
     "output_type": "execute_result"
    }
   ],
   "source": [
    "df_encoded.set_index(np.arange(29109),inplace=True)\n",
    "df_encoded"
   ]
  },
  {
   "cell_type": "code",
   "execution_count": 90,
   "id": "f6f14e0f",
   "metadata": {},
   "outputs": [
    {
     "data": {
      "text/plain": [
       "4"
      ]
     },
     "execution_count": 90,
     "metadata": {},
     "output_type": "execute_result"
    }
   ],
   "source": [
    "np.where(df_encoded.columns == 'ahmedabad')[0][0] "
   ]
  },
  {
   "cell_type": "code",
   "execution_count": 91,
   "id": "b5f670de",
   "metadata": {},
   "outputs": [],
   "source": [
    "data_encoded = df_encoded.values\n",
    "X_1 = data_encoded[: , 1:]\n",
    "Y_1 = data_encoded[: , 0]\n",
    "\n",
    "from sklearn.model_selection import train_test_split, cross_val_score\n",
    "XT ,Xt ,YT , Yt = train_test_split(X_1,Y_1,test_size=0.3)"
   ]
  },
  {
   "cell_type": "markdown",
   "id": "5b568907",
   "metadata": {},
   "source": [
    "### Model Selection"
   ]
  },
  {
   "cell_type": "code",
   "execution_count": 92,
   "id": "e18b14ff",
   "metadata": {},
   "outputs": [],
   "source": [
    "from sklearn.linear_model import LinearRegression\n",
    "from sklearn.ensemble import RandomForestRegressor\n",
    "lmodel = LinearRegression()\n",
    "rmodel = RandomForestRegressor(n_estimators=50,random_state=2,min_samples_split=3)"
   ]
  },
  {
   "cell_type": "code",
   "execution_count": 93,
   "id": "4e0d8dd5",
   "metadata": {},
   "outputs": [],
   "source": [
    "# from sklearn.preprocessing import PolynomialFeatures\n",
    "# pol = PolynomialFeatures(2,include_bias=False)\n",
    "# pol.fit(XT)"
   ]
  },
  {
   "cell_type": "code",
   "execution_count": 94,
   "id": "07513f96",
   "metadata": {},
   "outputs": [],
   "source": [
    "# XT_pol = pol.transform(XT)\n",
    "# Xt_pol = pol.transform(Xt)"
   ]
  },
  {
   "cell_type": "code",
   "execution_count": 95,
   "id": "4406967d",
   "metadata": {},
   "outputs": [
    {
     "data": {
      "text/plain": [
       "RandomForestRegressor(min_samples_split=3, n_estimators=50, random_state=2)"
      ]
     },
     "execution_count": 95,
     "metadata": {},
     "output_type": "execute_result"
    }
   ],
   "source": [
    "lmodel.fit(XT,YT)\n",
    "rmodel.fit(XT,YT)"
   ]
  },
  {
   "cell_type": "code",
   "execution_count": 96,
   "id": "6fd9c160",
   "metadata": {},
   "outputs": [
    {
     "name": "stdout",
     "output_type": "stream",
     "text": [
      "The accuracy for train data of Linear Regression Model is :  0.9362095209023363\n",
      "The accuracy for train data of Random Forest Regressor Model is:  0.99118547838396\n"
     ]
    }
   ],
   "source": [
    "print(\"The accuracy for train data of Linear Regression Model is : \",lmodel.score(XT,YT))\n",
    "print(\"The accuracy for train data of Random Forest Regressor Model is: \",rmodel.score(XT,YT))"
   ]
  },
  {
   "cell_type": "code",
   "execution_count": 97,
   "id": "2fcd1bb1",
   "metadata": {},
   "outputs": [
    {
     "name": "stdout",
     "output_type": "stream",
     "text": [
      "The accuracy for test data of Linear Regression Model is :  0.9043871491516254\n",
      "The accuracy for test data of Random Forest Regressor Model is :  0.9392899183841954\n"
     ]
    }
   ],
   "source": [
    "print(\"The accuracy for test data of Linear Regression Model is : \",lmodel.score(Xt,Yt))\n",
    "print(\"The accuracy for test data of Random Forest Regressor Model is : \",rmodel.score(Xt,Yt))"
   ]
  },
  {
   "cell_type": "markdown",
   "id": "b9de6d9b",
   "metadata": {},
   "source": [
    "#### Here, Linear model is performing better for both train and test cases as well as not overfitting like Random forest regressor model.\n",
    "#### Hence, we go ahead with linear model and give prediction on it"
   ]
  },
  {
   "cell_type": "code",
   "execution_count": 98,
   "id": "e60f5193",
   "metadata": {},
   "outputs": [
    {
     "data": {
      "text/plain": [
       "array([96502.23801843, 19273.85888624, 26050.18829316, ...,\n",
       "       86773.87399132, 31931.48416674, 86773.87399132])"
      ]
     },
     "execution_count": 98,
     "metadata": {},
     "output_type": "execute_result"
    }
   ],
   "source": [
    "train_prediction = lmodel.predict(XT)\n",
    "train_prediction"
   ]
  },
  {
   "cell_type": "code",
   "execution_count": 99,
   "id": "3582ec81",
   "metadata": {},
   "outputs": [
    {
     "data": {
      "text/plain": [
       "array([ 25000.00000079,  86773.87399132,  55102.57166329, ...,\n",
       "       123000.00000013, 192209.82149975,  47999.99999899])"
      ]
     },
     "execution_count": 99,
     "metadata": {},
     "output_type": "execute_result"
    }
   ],
   "source": [
    "test_prediction = lmodel.predict(Xt)\n",
    "test_prediction"
   ]
  },
  {
   "cell_type": "code",
   "execution_count": 100,
   "id": "280ac986",
   "metadata": {},
   "outputs": [],
   "source": [
    "actual_vs_prediction_train = np.hstack((YT.reshape(-1,1),train_prediction.reshape(-1,1).round()))"
   ]
  },
  {
   "cell_type": "code",
   "execution_count": 101,
   "id": "1b405e91",
   "metadata": {},
   "outputs": [
    {
     "data": {
      "text/plain": [
       "array([[95500., 96502.],\n",
       "       [22000., 19274.],\n",
       "       [26000., 26050.],\n",
       "       ...,\n",
       "       [87000., 86774.],\n",
       "       [32000., 31931.],\n",
       "       [87000., 86774.]])"
      ]
     },
     "execution_count": 101,
     "metadata": {},
     "output_type": "execute_result"
    }
   ],
   "source": [
    "actual_vs_prediction_train"
   ]
  },
  {
   "cell_type": "code",
   "execution_count": 102,
   "id": "645b9f1e",
   "metadata": {},
   "outputs": [],
   "source": [
    "actual_vs_prediction_test = np.hstack((Yt.reshape(-1,1),test_prediction.reshape(-1,1).round()))"
   ]
  },
  {
   "cell_type": "code",
   "execution_count": 103,
   "id": "2508366e",
   "metadata": {},
   "outputs": [
    {
     "data": {
      "text/plain": [
       "array([[ 25000.,  25000.],\n",
       "       [ 87000.,  86774.],\n",
       "       [ 55005.,  55103.],\n",
       "       ...,\n",
       "       [123000., 123000.],\n",
       "       [196700., 192210.],\n",
       "       [ 48000.,  48000.]])"
      ]
     },
     "execution_count": 103,
     "metadata": {},
     "output_type": "execute_result"
    }
   ],
   "source": [
    "actual_vs_prediction_test"
   ]
  },
  {
   "cell_type": "code",
   "execution_count": 104,
   "id": "32687fda",
   "metadata": {},
   "outputs": [
    {
     "data": {
      "text/plain": [
       "4681.4075283004095"
      ]
     },
     "execution_count": 104,
     "metadata": {},
     "output_type": "execute_result"
    }
   ],
   "source": [
    "mae_train = (abs(YT - train_prediction).mean())\n",
    "mae_train"
   ]
  },
  {
   "cell_type": "code",
   "execution_count": 105,
   "id": "4c9240ea",
   "metadata": {},
   "outputs": [
    {
     "data": {
      "text/plain": [
       "4965.853013861924"
      ]
     },
     "execution_count": 105,
     "metadata": {},
     "output_type": "execute_result"
    }
   ],
   "source": [
    "mae_test = (abs(Yt - test_prediction).mean())\n",
    "mae_test"
   ]
  },
  {
   "cell_type": "code",
   "execution_count": 106,
   "id": "91371dda",
   "metadata": {},
   "outputs": [
    {
     "data": {
      "text/plain": [
       "57561.975780686385"
      ]
     },
     "execution_count": 106,
     "metadata": {},
     "output_type": "execute_result"
    }
   ],
   "source": [
    "df_encoded['price'].mean()"
   ]
  },
  {
   "cell_type": "markdown",
   "id": "37ddbb9c",
   "metadata": {},
   "source": [
    "#### The mean absolute error of one hot encoded data is comparable to the label encoded data . Here, we use one hot encoded data for our model deployment"
   ]
  },
  {
   "cell_type": "markdown",
   "id": "0cb693b2",
   "metadata": {},
   "source": [
    "### Sending Predictions to .csv File"
   ]
  },
  {
   "cell_type": "code",
   "execution_count": 107,
   "id": "c95fd143",
   "metadata": {},
   "outputs": [
    {
     "data": {
      "text/html": [
       "<div>\n",
       "<style scoped>\n",
       "    .dataframe tbody tr th:only-of-type {\n",
       "        vertical-align: middle;\n",
       "    }\n",
       "\n",
       "    .dataframe tbody tr th {\n",
       "        vertical-align: top;\n",
       "    }\n",
       "\n",
       "    .dataframe thead th {\n",
       "        text-align: right;\n",
       "    }\n",
       "</style>\n",
       "<table border=\"1\" class=\"dataframe\">\n",
       "  <thead>\n",
       "    <tr style=\"text-align: right;\">\n",
       "      <th></th>\n",
       "      <th>Actual Price</th>\n",
       "      <th>Predicted Price</th>\n",
       "    </tr>\n",
       "  </thead>\n",
       "  <tbody>\n",
       "    <tr>\n",
       "      <th>1865</th>\n",
       "      <td>11900.0</td>\n",
       "      <td>11634.0</td>\n",
       "    </tr>\n",
       "    <tr>\n",
       "      <th>17854</th>\n",
       "      <td>24700.0</td>\n",
       "      <td>26223.0</td>\n",
       "    </tr>\n",
       "    <tr>\n",
       "      <th>20371</th>\n",
       "      <td>57000.0</td>\n",
       "      <td>59090.0</td>\n",
       "    </tr>\n",
       "    <tr>\n",
       "      <th>11523</th>\n",
       "      <td>37500.0</td>\n",
       "      <td>30236.0</td>\n",
       "    </tr>\n",
       "    <tr>\n",
       "      <th>13392</th>\n",
       "      <td>87000.0</td>\n",
       "      <td>86774.0</td>\n",
       "    </tr>\n",
       "  </tbody>\n",
       "</table>\n",
       "</div>"
      ],
      "text/plain": [
       "       Actual Price  Predicted Price\n",
       "1865        11900.0          11634.0\n",
       "17854       24700.0          26223.0\n",
       "20371       57000.0          59090.0\n",
       "11523       37500.0          30236.0\n",
       "13392       87000.0          86774.0"
      ]
     },
     "execution_count": 107,
     "metadata": {},
     "output_type": "execute_result"
    }
   ],
   "source": [
    "train_csv = pd.DataFrame(actual_vs_prediction_train)\n",
    "train_csv.columns = [\"Actual Price\",\"Predicted Price\"]\n",
    "train_csv.to_csv(\"train_data_predictions.csv\",index=False)\n",
    "train_csv.sample(n=5)"
   ]
  },
  {
   "cell_type": "code",
   "execution_count": 108,
   "id": "43c1a5b2",
   "metadata": {},
   "outputs": [
    {
     "data": {
      "text/html": [
       "<div>\n",
       "<style scoped>\n",
       "    .dataframe tbody tr th:only-of-type {\n",
       "        vertical-align: middle;\n",
       "    }\n",
       "\n",
       "    .dataframe tbody tr th {\n",
       "        vertical-align: top;\n",
       "    }\n",
       "\n",
       "    .dataframe thead th {\n",
       "        text-align: right;\n",
       "    }\n",
       "</style>\n",
       "<table border=\"1\" class=\"dataframe\">\n",
       "  <thead>\n",
       "    <tr style=\"text-align: right;\">\n",
       "      <th></th>\n",
       "      <th>Actual Price</th>\n",
       "      <th>Predicted Price</th>\n",
       "    </tr>\n",
       "  </thead>\n",
       "  <tbody>\n",
       "    <tr>\n",
       "      <th>5183</th>\n",
       "      <td>95500.0</td>\n",
       "      <td>96502.0</td>\n",
       "    </tr>\n",
       "    <tr>\n",
       "      <th>495</th>\n",
       "      <td>70500.0</td>\n",
       "      <td>63223.0</td>\n",
       "    </tr>\n",
       "    <tr>\n",
       "      <th>1601</th>\n",
       "      <td>35000.0</td>\n",
       "      <td>36471.0</td>\n",
       "    </tr>\n",
       "    <tr>\n",
       "      <th>83</th>\n",
       "      <td>25000.0</td>\n",
       "      <td>31186.0</td>\n",
       "    </tr>\n",
       "    <tr>\n",
       "      <th>7593</th>\n",
       "      <td>20000.0</td>\n",
       "      <td>20122.0</td>\n",
       "    </tr>\n",
       "  </tbody>\n",
       "</table>\n",
       "</div>"
      ],
      "text/plain": [
       "      Actual Price  Predicted Price\n",
       "5183       95500.0          96502.0\n",
       "495        70500.0          63223.0\n",
       "1601       35000.0          36471.0\n",
       "83         25000.0          31186.0\n",
       "7593       20000.0          20122.0"
      ]
     },
     "execution_count": 108,
     "metadata": {},
     "output_type": "execute_result"
    }
   ],
   "source": [
    "test_csv = pd.DataFrame(actual_vs_prediction_test)\n",
    "test_csv.columns = [\"Actual Price\",\"Predicted Price\"]\n",
    "test_csv.to_csv(\"test_data_predictions.csv\",index=False)\n",
    "test_csv.sample(n=5)"
   ]
  },
  {
   "cell_type": "markdown",
   "id": "c82ab21b",
   "metadata": {},
   "source": [
    "### Removing Price column from df_encoded"
   ]
  },
  {
   "cell_type": "code",
   "execution_count": 109,
   "id": "74565cc1",
   "metadata": {},
   "outputs": [],
   "source": [
    "df_encoded = df_encoded.drop(columns='price',axis=0)"
   ]
  },
  {
   "cell_type": "code",
   "execution_count": 110,
   "id": "11339ea4",
   "metadata": {
    "scrolled": true
   },
   "outputs": [
    {
     "data": {
      "text/plain": [
       "Index(['kms_driven', 'age', 'power', 'ahmedabad', 'allahabad', 'bangalore',\n",
       "       'bhopal', 'chennai', 'delhi', 'faridabad', 'gautam buddha nagar',\n",
       "       'ghaziabad', 'godhara', 'gurgaon', 'hyderabad', 'jaipur', 'jodhpur',\n",
       "       'kadapa', 'kanchipuram', 'karnal', 'lucknow', 'mumbai', 'noida',\n",
       "       'other', 'pune', 'rupnagar', 'first owner', 'second owner or more',\n",
       "       'bajaj', 'harley-davidson', 'hero', 'honda', 'ktm',\n",
       "       'not so popular brand', 'royal enfield', 'suzuki', 'tvs', 'yamaha',\n",
       "       'apache rtr 180cc', 'avenger 220cc', 'avenger street 220',\n",
       "       'bullet electra 350cc', 'cb hornet 160r std', 'cb trigger 150cc',\n",
       "       'cbz xtreme 150cc', 'cd deluxe 100cc', 'classic 350cc',\n",
       "       'dominar 400 abs', 'fazer 150cc', 'fazer 25 250cc', 'fz 150cc',\n",
       "       'hunk rear disc 150cc', 'not so popular model', 'passion 100cc',\n",
       "       'passion pro 100cc', 'platina 100cc', 'pulsar 150cc', 'pulsar ns200',\n",
       "       'rc 390cc', 'slingshot plus 125cc', 'super splendor 125cc',\n",
       "       'sz-rr 150cc', 'thunderbird 350cc', 'yzf-r15 2.0 150cc', 'zeus 125cc'],\n",
       "      dtype='object')"
      ]
     },
     "execution_count": 110,
     "metadata": {},
     "output_type": "execute_result"
    }
   ],
   "source": [
    "df_encoded.columns"
   ]
  },
  {
   "cell_type": "markdown",
   "id": "32e0a9a4",
   "metadata": {},
   "source": [
    "## Function For Taking User Input And Predicting Price"
   ]
  },
  {
   "cell_type": "code",
   "execution_count": 111,
   "id": "dc7236d8",
   "metadata": {},
   "outputs": [],
   "source": [
    "def predict_price(kms,age,power,city,owner,brand,model):\n",
    "    \n",
    "    input = np.zeros(len(df_encoded.columns))\n",
    "    \n",
    "    input[0] = kms\n",
    "    input[1] = age\n",
    "    input[2] = power\n",
    "    \n",
    "    city = np.where(df_encoded.columns == city)[0][0]\n",
    "    owner = np.where(df_encoded.columns == owner)[0][0]\n",
    "    brand = np.where(df_encoded.columns == brand)[0][0]\n",
    "    model = np.where(df_encoded.columns == model)[0][0]\n",
    "\n",
    "    input[city] = 1\n",
    "    input[owner] = 1\n",
    "    input[brand] = 1\n",
    "    input[model] = 1\n",
    "    \n",
    "    print(\"The Input Data is : \",input)\n",
    "    return lmodel.predict([input])[0]"
   ]
  },
  {
   "cell_type": "code",
   "execution_count": 112,
   "id": "af84d086",
   "metadata": {
    "scrolled": true
   },
   "outputs": [
    {
     "name": "stdout",
     "output_type": "stream",
     "text": [
      "The Input Data is :  [1.0e+04 3.0e+00 1.2e+02 0.0e+00 0.0e+00 0.0e+00 0.0e+00 0.0e+00 0.0e+00\n",
      " 0.0e+00 0.0e+00 0.0e+00 1.0e+00 0.0e+00 0.0e+00 0.0e+00 0.0e+00 0.0e+00\n",
      " 0.0e+00 0.0e+00 0.0e+00 0.0e+00 0.0e+00 0.0e+00 0.0e+00 0.0e+00 1.0e+00\n",
      " 0.0e+00 0.0e+00 0.0e+00 1.0e+00 0.0e+00 0.0e+00 0.0e+00 0.0e+00 0.0e+00\n",
      " 0.0e+00 0.0e+00 0.0e+00 0.0e+00 0.0e+00 0.0e+00 0.0e+00 0.0e+00 0.0e+00\n",
      " 0.0e+00 0.0e+00 0.0e+00 0.0e+00 0.0e+00 0.0e+00 0.0e+00 0.0e+00 1.0e+00\n",
      " 0.0e+00 0.0e+00 0.0e+00 0.0e+00 0.0e+00 0.0e+00 0.0e+00 0.0e+00 0.0e+00\n",
      " 0.0e+00 0.0e+00]\n",
      "\n",
      "Estimated Price of the bike is :  70344  Rupees\n"
     ]
    }
   ],
   "source": [
    "Prediction = predict_price(10000,3,120.0,'godhara','first owner','hero','passion 100cc')\n",
    "print(\"\\nEstimated Price of the bike is : \",round(Prediction),\" Rupees\")"
   ]
  },
  {
   "cell_type": "markdown",
   "id": "79cfc324",
   "metadata": {},
   "source": [
    "## Exporting Model and Features To Util File"
   ]
  },
  {
   "cell_type": "code",
   "execution_count": 113,
   "id": "3b0f75f7",
   "metadata": {},
   "outputs": [],
   "source": [
    "import pickle\n",
    "with open('used_bike_price.pickle','wb') as f:\n",
    "    pickle.dump(lmodel,f)"
   ]
  },
  {
   "cell_type": "code",
   "execution_count": 114,
   "id": "94fab22e",
   "metadata": {},
   "outputs": [],
   "source": [
    "import json \n",
    "columns = []\n",
    "for col in df_encoded.columns:\n",
    "    columns.append(col.lower())\n",
    "\n",
    "columns_info = {'features':columns}\n",
    "                \n",
    "with open('columns.json','w') as f:\n",
    "    f.write(json.dumps(columns_info))"
   ]
  },
  {
   "cell_type": "code",
   "execution_count": 115,
   "id": "5b1d4e08",
   "metadata": {},
   "outputs": [
    {
     "data": {
      "text/plain": [
       "dict_values([['kms_driven', 'age', 'power', 'ahmedabad', 'allahabad', 'bangalore', 'bhopal', 'chennai', 'delhi', 'faridabad', 'gautam buddha nagar', 'ghaziabad', 'godhara', 'gurgaon', 'hyderabad', 'jaipur', 'jodhpur', 'kadapa', 'kanchipuram', 'karnal', 'lucknow', 'mumbai', 'noida', 'other', 'pune', 'rupnagar', 'first owner', 'second owner or more', 'bajaj', 'harley-davidson', 'hero', 'honda', 'ktm', 'not so popular brand', 'royal enfield', 'suzuki', 'tvs', 'yamaha', 'apache rtr 180cc', 'avenger 220cc', 'avenger street 220', 'bullet electra 350cc', 'cb hornet 160r std', 'cb trigger 150cc', 'cbz xtreme 150cc', 'cd deluxe 100cc', 'classic 350cc', 'dominar 400 abs', 'fazer 150cc', 'fazer 25 250cc', 'fz 150cc', 'hunk rear disc 150cc', 'not so popular model', 'passion 100cc', 'passion pro 100cc', 'platina 100cc', 'pulsar 150cc', 'pulsar ns200', 'rc 390cc', 'slingshot plus 125cc', 'super splendor 125cc', 'sz-rr 150cc', 'thunderbird 350cc', 'yzf-r15 2.0 150cc', 'zeus 125cc']])"
      ]
     },
     "execution_count": 115,
     "metadata": {},
     "output_type": "execute_result"
    }
   ],
   "source": [
    "columns_info.values()"
   ]
  },
  {
   "cell_type": "code",
   "execution_count": null,
   "id": "43c9a36a",
   "metadata": {},
   "outputs": [],
   "source": []
  }
 ],
 "metadata": {
  "kernelspec": {
   "display_name": "Python 3",
   "language": "python",
   "name": "python3"
  },
  "language_info": {
   "codemirror_mode": {
    "name": "ipython",
    "version": 3
   },
   "file_extension": ".py",
   "mimetype": "text/x-python",
   "name": "python",
   "nbconvert_exporter": "python",
   "pygments_lexer": "ipython3",
   "version": "3.9.6"
  }
 },
 "nbformat": 4,
 "nbformat_minor": 5
}
