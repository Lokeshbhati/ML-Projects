{
 "cells": [
  {
   "cell_type": "code",
   "execution_count": 1,
   "id": "c3bb6fa0",
   "metadata": {},
   "outputs": [],
   "source": [
    "from joblib import dump,load\n",
    "import numpy as np"
   ]
  },
  {
   "cell_type": "code",
   "execution_count": 2,
   "id": "f891c78d",
   "metadata": {},
   "outputs": [],
   "source": [
    "rfc = load('RandomForestClassifier.joblib')"
   ]
  },
  {
   "cell_type": "markdown",
   "id": "09b64df5",
   "metadata": {},
   "source": [
    "### Input data details -\n",
    "- Age\n",
    "- TypeofContact (How customer was contacted (Company Invited or Self Inquiry)) [0/1]\n",
    "- CityTier (City tier depends on the development of a city, population, facilities, and living standards. The categories are     ordered i.e. Tier 1 > Tier 2 > Tier 3) [0/1/2]\n",
    "- DurationOfPitch (Duration of the pitch by a salesperson to the customer)\n",
    "- Occupation (Occupation of customer) [0-3]\n",
    "- Gender (male or female) [0-1]\n",
    "- NumberOfFollowups (Total number of follow-ups has been done by the salesperson after the sales pitch)\n",
    "- ProductPitched [0-4]\n",
    "- PreferredPropertyStar (Preferred hotel property rating by customer)\n",
    "- MaritalStatus (Marital status of customer) [0-3]\n",
    "- Passport (yes/no) [0/1]\n",
    "- PitchSatisfactionScore [1-5]\n",
    "- Designation (Designation of the customer in the current organization)[0-4]\n",
    "- MonthlyIncome (Gross monthly income of the customer)"
   ]
  },
  {
   "cell_type": "code",
   "execution_count": 5,
   "id": "44589c67",
   "metadata": {},
   "outputs": [],
   "source": [
    "input_data = np.array([[29, 1, 2, 8, 2, 0, 2, 4, 3, 2, 1, 5, 2, 90000]])"
   ]
  },
  {
   "cell_type": "code",
   "execution_count": 6,
   "id": "78be3972",
   "metadata": {},
   "outputs": [
    {
     "name": "stdout",
     "output_type": "stream",
     "text": [
      "Package not purchased\n"
     ]
    }
   ],
   "source": [
    "if (int(rfc.predict(input_data)[0]))==0:\n",
    "    print(\"Package not purchased\")\n",
    "else:\n",
    "    print(\"Package purchased\")"
   ]
  },
  {
   "cell_type": "code",
   "execution_count": null,
   "id": "09569342",
   "metadata": {},
   "outputs": [],
   "source": []
  }
 ],
 "metadata": {
  "kernelspec": {
   "display_name": "Python 3",
   "language": "python",
   "name": "python3"
  },
  "language_info": {
   "codemirror_mode": {
    "name": "ipython",
    "version": 3
   },
   "file_extension": ".py",
   "mimetype": "text/x-python",
   "name": "python",
   "nbconvert_exporter": "python",
   "pygments_lexer": "ipython3",
   "version": "3.9.6"
  }
 },
 "nbformat": 4,
 "nbformat_minor": 5
}
